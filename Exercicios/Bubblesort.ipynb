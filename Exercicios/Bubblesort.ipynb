{
 "cells": [
  {
   "metadata": {},
   "cell_type": "markdown",
   "source": "# Algoritmo de ordenação Bubblesort",
   "id": "6046335ca2bafdfd"
  },
  {
   "metadata": {
    "ExecuteTime": {
     "end_time": "2024-05-06T18:53:19.532362Z",
     "start_time": "2024-05-06T18:53:19.528094Z"
    }
   },
   "cell_type": "code",
   "source": [
    "def bubblesort(lista):\n",
    "    size = len(lista)\n",
    "   \n",
    "    for i in range(size):\n",
    "        for j in range(size - 1):\n",
    "            n1 = lista[j]\n",
    "            n2 = lista[j + 1]\n",
    "            \n",
    "            if n1 > n2:\n",
    "                lista[j], lista[j + 1] = n2, n1\n",
    "    \n",
    "    return lista"
   ],
   "id": "83798f100cbfd5e2",
   "outputs": [],
   "execution_count": 8
  },
  {
   "metadata": {
    "ExecuteTime": {
     "end_time": "2024-05-06T18:53:29.361729Z",
     "start_time": "2024-05-06T18:53:29.358410Z"
    }
   },
   "cell_type": "code",
   "source": [
    "nums = [4, 10, 23, 9, 8, 7, 65, 5, 42, 3, 20, 1]\n",
    "\n",
    "print(bubblesort(nums))"
   ],
   "id": "667fa3174f142e57",
   "outputs": [
    {
     "name": "stdout",
     "output_type": "stream",
     "text": [
      "[1, 3, 4, 5, 7, 8, 9, 10, 20, 23, 42, 65]\n"
     ]
    }
   ],
   "execution_count": 9
  },
  {
   "metadata": {},
   "cell_type": "code",
   "outputs": [],
   "execution_count": null,
   "source": "",
   "id": "93bfe23bfaf9ffed"
  }
 ],
 "metadata": {
  "kernelspec": {
   "display_name": "Python 3",
   "language": "python",
   "name": "python3"
  },
  "language_info": {
   "codemirror_mode": {
    "name": "ipython",
    "version": 2
   },
   "file_extension": ".py",
   "mimetype": "text/x-python",
   "name": "python",
   "nbconvert_exporter": "python",
   "pygments_lexer": "ipython2",
   "version": "2.7.6"
  }
 },
 "nbformat": 4,
 "nbformat_minor": 5
}
