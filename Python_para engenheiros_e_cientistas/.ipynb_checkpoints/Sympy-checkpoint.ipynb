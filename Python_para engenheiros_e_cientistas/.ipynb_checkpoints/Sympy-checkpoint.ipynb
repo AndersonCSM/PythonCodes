{
 "cells": [
  {
   "cell_type": "markdown",
   "id": "a1283f83",
   "metadata": {
    "id": "a1283f83"
   },
   "source": [
    "# 7. Sympy\n",
    "\n",
    "## O que é Spyder\n",
    "Sypyder é um ambiente similar a *softwares* como Matlab ou Mathematica. Ele contém funcionalidades interessantes para quem desenvolve trabalhos científicos. Para mais informações veja:  https://www.spyder-ide.org/\n",
    "\n",
    "\n",
    "Algumas de suas funcionalidades são:\n",
    "- Editor\n",
    "- Ipython Console\n",
    "- Explorador de variáveis\n",
    "- Para outras funcionalidades acesse: https://docs.spyder-ide.org/overview.html\n",
    "\n",
    "### 7.1. O que é SymPy\n",
    "SymPy é uma biblioteca para trabalhar com matemática simbólica. \n",
    "\n",
    "Algumas funcionalidades são:\n",
    "- Trabalhar com matrizes\n",
    "- Realizar cálculo de derivadas, integrais, etc.\n",
    "- Utilizar *solvers*\n",
    "- Para outras funcionalidades acesse: https://docs.sympy.org/latest/index.html"
   ]
  },
  {
   "cell_type": "markdown",
   "id": "6a5b1ba6",
   "metadata": {
    "id": "6a5b1ba6"
   },
   "source": [
    "## 7.2. Símbolos\n",
    "- Função **symbols(** *string_de_símbolo* **)**: cria um simbolo.\n",
    "- Função **init_printing()**: exibe os dados em formato similar ao latex.\n",
    "- Método **subs(** *símbolos* , *valores* **)**: atribui valores aos símbolos em uma variável\n",
    "- Função **simplify**(*equação*): simplifica uma equação.\n",
    "- Operações booleanas funcionam com símbolos.\n",
    "- Para outras maneiras de simplificar, acesse: https://docs.sympy.org/latest/tutorial/simplification.html"
   ]
  },
  {
   "cell_type": "code",
   "execution_count": 1,
   "id": "UmAngNWQjCOM",
   "metadata": {
    "colab": {
     "base_uri": "https://localhost:8080/",
     "height": 38
    },
    "executionInfo": {
     "elapsed": 335,
     "status": "ok",
     "timestamp": 1665517097073,
     "user": {
      "displayName": "Anderson Carlos",
      "userId": "13888936226680314362"
     },
     "user_tz": 180
    },
    "id": "UmAngNWQjCOM",
    "outputId": "01a182b1-8393-4eb7-ecc1-d0fc1908f5e0"
   },
   "outputs": [
    {
     "data": {
      "text/latex": [
       "$\\displaystyle 2 z$"
      ],
      "text/plain": [
       "2*z"
      ]
     },
     "execution_count": 1,
     "metadata": {},
     "output_type": "execute_result"
    }
   ],
   "source": [
    "import sympy as sp\n",
    "z = sp.symbols('z')\n",
    "z+z\n"
   ]
  },
  {
   "cell_type": "code",
   "execution_count": 2,
   "id": "FSeQeFJXjiui",
   "metadata": {
    "colab": {
     "base_uri": "https://localhost:8080/",
     "height": 38
    },
    "executionInfo": {
     "elapsed": 398,
     "status": "ok",
     "timestamp": 1665517111904,
     "user": {
      "displayName": "Anderson Carlos",
      "userId": "13888936226680314362"
     },
     "user_tz": 180
    },
    "id": "FSeQeFJXjiui",
    "outputId": "57fbf0ea-a6b8-4f65-ddd3-da991291b75a"
   },
   "outputs": [
    {
     "data": {
      "text/latex": [
       "$\\displaystyle z^{2}$"
      ],
      "text/plain": [
       "z**2"
      ]
     },
     "execution_count": 2,
     "metadata": {},
     "output_type": "execute_result"
    }
   ],
   "source": [
    "z*z"
   ]
  },
  {
   "cell_type": "code",
   "execution_count": 3,
   "id": "lVwjfut3jlSK",
   "metadata": {
    "colab": {
     "base_uri": "https://localhost:8080/",
     "height": 38
    },
    "executionInfo": {
     "elapsed": 399,
     "status": "ok",
     "timestamp": 1665517256153,
     "user": {
      "displayName": "Anderson Carlos",
      "userId": "13888936226680314362"
     },
     "user_tz": 180
    },
    "id": "lVwjfut3jlSK",
    "outputId": "d04df797-ad2c-4ac9-dd1f-55ef9c59f4e0"
   },
   "outputs": [
    {
     "data": {
      "text/latex": [
       "$\\displaystyle x^{2} + x y + y^{2}$"
      ],
      "text/plain": [
       "x**2 + x*y + y**2"
      ]
     },
     "execution_count": 3,
     "metadata": {},
     "output_type": "execute_result"
    }
   ],
   "source": [
    "from ast import YieldFrom\n",
    "simbolos = ['x', 'y']\n",
    "x,y = sp.symbols(simbolos)\n",
    "\n",
    "f_xy = x**2 + y**2 + x * y\n",
    "f_xy\n"
   ]
  },
  {
   "cell_type": "code",
   "execution_count": 4,
   "id": "Tw_FnNiJkKCM",
   "metadata": {
    "colab": {
     "base_uri": "https://localhost:8080/",
     "height": 38
    },
    "executionInfo": {
     "elapsed": 16,
     "status": "ok",
     "timestamp": 1665517283941,
     "user": {
      "displayName": "Anderson Carlos",
      "userId": "13888936226680314362"
     },
     "user_tz": 180
    },
    "id": "Tw_FnNiJkKCM",
    "outputId": "bcd7320b-d6c8-4118-92f6-2e6d366a4b00"
   },
   "outputs": [
    {
     "data": {
      "image/png": "[encoded data removed]",
      "text/latex": [
       "$\\displaystyle x^{2} + x y + y^{2}$"
      ],
      "text/plain": [
       " 2          2\n",
       "x  + x⋅y + y "
      ]
     },
     "execution_count": 4,
     "metadata": {},
     "output_type": "execute_result"
    }
   ],
   "source": [
    "sp.init_printing()\n",
    "f_xy"
   ]
  },
  {
   "cell_type": "code",
   "execution_count": 5,
   "id": "FgoESYt7kcWs",
   "metadata": {
    "colab": {
     "base_uri": "https://localhost:8080/",
     "height": 37
    },
    "executionInfo": {
     "elapsed": 323,
     "status": "ok",
     "timestamp": 1665517368320,
     "user": {
      "displayName": "Anderson Carlos",
      "userId": "13888936226680314362"
     },
     "user_tz": 180
    },
    "id": "FgoESYt7kcWs",
    "outputId": "4ae2f613-018a-49a5-f47b-4b7058717ffe"
   },
   "outputs": [
    {
     "data": {
      "image/png": "[encoded data removed]",
      "text/latex": [
       "$\\displaystyle 7$"
      ],
      "text/plain": [
       "7"
      ]
     },
     "execution_count": 5,
     "metadata": {},
     "output_type": "execute_result"
    }
   ],
   "source": [
    "resposta = f_xy.subs(x, 1).subs(y, 2)\n",
    "resposta"
   ]
  },
  {
   "cell_type": "code",
   "execution_count": 6,
   "id": "X7GjHDKplE7J",
   "metadata": {
    "colab": {
     "base_uri": "https://localhost:8080/",
     "height": 39
    },
    "executionInfo": {
     "elapsed": 14,
     "status": "ok",
     "timestamp": 1665517613658,
     "user": {
      "displayName": "Anderson Carlos",
      "userId": "13888936226680314362"
     },
     "user_tz": 180
    },
    "id": "X7GjHDKplE7J",
    "outputId": "14c39187-e5af-4467-a11c-aafabd2153a2"
   },
   "outputs": [
    {
     "data": {
      "image/png": "[encoded data removed]",
      "text/latex": [
       "$\\displaystyle 2 y^{2} + 2 \\left(x - y\\right)^{2} + \\left(x + y\\right)^{2}$"
      ],
      "text/plain": [
       "   2            2          2\n",
       "2⋅y  + 2⋅(x - y)  + (x + y) "
      ]
     },
     "execution_count": 6,
     "metadata": {},
     "output_type": "execute_result"
    }
   ],
   "source": [
    "simbolos = ['x', 'y']\n",
    "x,y = sp.symbols(simbolos)\n",
    "\n",
    "f2 = (x+y)**2 + y**2 + 2*(x-y)**2 + y**2\n",
    "f2"
   ]
  },
  {
   "cell_type": "code",
   "execution_count": 7,
   "id": "MeaLCP-2liMa",
   "metadata": {
    "colab": {
     "base_uri": "https://localhost:8080/",
     "height": 38
    },
    "executionInfo": {
     "elapsed": 389,
     "status": "ok",
     "timestamp": 1665517651552,
     "user": {
      "displayName": "Anderson Carlos",
      "userId": "13888936226680314362"
     },
     "user_tz": 180
    },
    "id": "MeaLCP-2liMa",
    "outputId": "a4c9c7a1-163d-4e47-a9c1-f7073ce5d576"
   },
   "outputs": [
    {
     "data": {
      "image/png": "[encoded data removed]",
      "text/latex": [
       "$\\displaystyle 3 x^{2} - 2 x y + 5 y^{2}$"
      ],
      "text/plain": [
       "   2              2\n",
       "3⋅x  - 2⋅x⋅y + 5⋅y "
      ]
     },
     "execution_count": 7,
     "metadata": {},
     "output_type": "execute_result"
    }
   ],
   "source": [
    "sp.simplify(f2)"
   ]
  },
  {
   "cell_type": "code",
   "execution_count": 8,
   "id": "69bvw4x2lvcL",
   "metadata": {
    "colab": {
     "base_uri": "https://localhost:8080/",
     "height": 38
    },
    "executionInfo": {
     "elapsed": 343,
     "status": "ok",
     "timestamp": 1665517695574,
     "user": {
      "displayName": "Anderson Carlos",
      "userId": "13888936226680314362"
     },
     "user_tz": 180
    },
    "id": "69bvw4x2lvcL",
    "outputId": "56c20df6-bea9-4cd9-9d19-e87e88e14f44"
   },
   "outputs": [
    {
     "data": {
      "image/png": "[encoded data removed]",
      "text/latex": [
       "$\\displaystyle x > y$"
      ],
      "text/plain": [
       "x > y"
      ]
     },
     "execution_count": 8,
     "metadata": {},
     "output_type": "execute_result"
    }
   ],
   "source": [
    "x > y"
   ]
  },
  {
   "cell_type": "code",
   "execution_count": 9,
   "id": "sKjGev61l0Kn",
   "metadata": {
    "colab": {
     "base_uri": "https://localhost:8080/",
     "height": 38
    },
    "executionInfo": {
     "elapsed": 20,
     "status": "ok",
     "timestamp": 1665517705613,
     "user": {
      "displayName": "Anderson Carlos",
      "userId": "13888936226680314362"
     },
     "user_tz": 180
    },
    "id": "sKjGev61l0Kn",
    "outputId": "3997ccca-39a8-4ecb-ef88-f90d9d181d8f"
   },
   "outputs": [
    {
     "data": {
      "image/png": "[encoded data removed]",
      "text/latex": [
       "$\\displaystyle x \\leq y$"
      ],
      "text/plain": [
       "x ≤ y"
      ]
     },
     "execution_count": 9,
     "metadata": {},
     "output_type": "execute_result"
    }
   ],
   "source": [
    "x <= y"
   ]
  },
  {
   "cell_type": "markdown",
   "id": "3a5e1454",
   "metadata": {
    "id": "3a5e1454"
   },
   "source": [
    "## 7.3. - Matrizes\n",
    "- Função **Matrix([])**: cria uma matriz.\n",
    "- Propriedade **.shape**: retorna as propriedade da matriz.\n",
    "- Matrizes úteis **eye(** *tamanho*), **zeros(** *i,j*), **ones(** *i,j*), \n",
    "- **diag(** *lista*), no caso do diag pode ser usado \\* antes da lista ou o argumento unpack=True\n",
    "- Operações comuns: **+,-,* **\n",
    "- Para inverter a matriz, basta elevar a -1\n",
    "- Para transpor use o método **.T**: basta adiciona ao final da matriz.\n",
    "- Para achar o determinante use o método **.det()**\n",
    "- Para mais informações acesse: https://docs.sympy.org/latest/tutorial/matrices.html"
   ]
  },
  {
   "cell_type": "code",
   "execution_count": 10,
   "id": "637QMi6XzvM4",
   "metadata": {
    "colab": {
     "base_uri": "https://localhost:8080/",
     "height": 58
    },
    "executionInfo": {
     "elapsed": 631,
     "status": "ok",
     "timestamp": 1665521650443,
     "user": {
      "displayName": "Anderson Carlos",
      "userId": "13888936226680314362"
     },
     "user_tz": 180
    },
    "id": "637QMi6XzvM4",
    "outputId": "7e9ccbf1-55d0-4066-93a0-909e05f5b8a9"
   },
   "outputs": [
    {
     "data": {
      "text/latex": [
       "$\\displaystyle \\left[\\begin{matrix}1 & 2 & 3\\\\4 & 5 & 6\\end{matrix}\\right]$"
      ],
      "text/plain": [
       "⎡1  2  3⎤\n",
       "⎢       ⎥\n",
       "⎣4  5  6⎦"
      ]
     },
     "execution_count": 10,
     "metadata": {},
     "output_type": "execute_result"
    }
   ],
   "source": [
    "import sympy as sp\n",
    "#sp.init_printing()\n",
    "\n",
    "A = sp.Matrix([[1,2,3], [4,5,6]])\n",
    "A"
   ]
  },
  {
   "cell_type": "code",
   "execution_count": 11,
   "id": "O9MgYiYc0CyJ",
   "metadata": {
    "colab": {
     "base_uri": "https://localhost:8080/",
     "height": 37
    },
    "executionInfo": {
     "elapsed": 692,
     "status": "ok",
     "timestamp": 1665521434274,
     "user": {
      "displayName": "Anderson Carlos",
      "userId": "13888936226680314362"
     },
     "user_tz": 180
    },
    "id": "O9MgYiYc0CyJ",
    "outputId": "d9c0003a-4305-4f64-ae8f-f058781c7f3f"
   },
   "outputs": [
    {
     "data": {
      "image/png": "[encoded data removed]",
      "text/latex": [
       "$\\displaystyle \\left( 2, \\  3\\right)$"
      ],
      "text/plain": [
       "(2, 3)"
      ]
     },
     "execution_count": 11,
     "metadata": {},
     "output_type": "execute_result"
    }
   ],
   "source": [
    "A.shape"
   ]
  },
  {
   "cell_type": "code",
   "execution_count": 12,
   "id": "oGS-0cnr0ya_",
   "metadata": {
    "colab": {
     "base_uri": "https://localhost:8080/",
     "height": 79
    },
    "executionInfo": {
     "elapsed": 752,
     "status": "ok",
     "timestamp": 1665521660374,
     "user": {
      "displayName": "Anderson Carlos",
      "userId": "13888936226680314362"
     },
     "user_tz": 180
    },
    "id": "oGS-0cnr0ya_",
    "outputId": "968de555-5b45-4890-d6ad-5bf8182a2036"
   },
   "outputs": [
    {
     "data": {
      "text/latex": [
       "$\\displaystyle \\left[\\begin{matrix}1 & 4\\\\2 & 5\\\\3 & 6\\end{matrix}\\right]$"
      ],
      "text/plain": [
       "⎡1  4⎤\n",
       "⎢    ⎥\n",
       "⎢2  5⎥\n",
       "⎢    ⎥\n",
       "⎣3  6⎦"
      ]
     },
     "execution_count": 12,
     "metadata": {},
     "output_type": "execute_result"
    }
   ],
   "source": [
    "A.T"
   ]
  },
  {
   "cell_type": "code",
   "execution_count": 13,
   "id": "VmEoBqqe0hOA",
   "metadata": {
    "colab": {
     "base_uri": "https://localhost:8080/",
     "height": 79
    },
    "executionInfo": {
     "elapsed": 368,
     "status": "ok",
     "timestamp": 1665521620422,
     "user": {
      "displayName": "Anderson Carlos",
      "userId": "13888936226680314362"
     },
     "user_tz": 180
    },
    "id": "VmEoBqqe0hOA",
    "outputId": "4ca77837-f4f1-4900-c38d-7ca3f8b2aca9"
   },
   "outputs": [
    {
     "data": {
      "text/latex": [
       "$\\displaystyle \\left[\\begin{matrix}1\\\\2\\\\3\\end{matrix}\\right]$"
      ],
      "text/plain": [
       "⎡1⎤\n",
       "⎢ ⎥\n",
       "⎢2⎥\n",
       "⎢ ⎥\n",
       "⎣3⎦"
      ]
     },
     "execution_count": 13,
     "metadata": {},
     "output_type": "execute_result"
    }
   ],
   "source": [
    "B = sp.Matrix([[1, 2, 3]]).T\n",
    "B"
   ]
  },
  {
   "cell_type": "code",
   "execution_count": 14,
   "id": "2CtZbtmq0_Uw",
   "metadata": {
    "colab": {
     "base_uri": "https://localhost:8080/",
     "height": 79
    },
    "executionInfo": {
     "elapsed": 443,
     "status": "ok",
     "timestamp": 1665521722938,
     "user": {
      "displayName": "Anderson Carlos",
      "userId": "13888936226680314362"
     },
     "user_tz": 180
    },
    "id": "2CtZbtmq0_Uw",
    "outputId": "5deef68e-9ac2-4582-faa3-f07c4e46db36"
   },
   "outputs": [
    {
     "data": {
      "text/latex": [
       "$\\displaystyle \\left[\\begin{matrix}1 & 0 & 0\\\\0 & 1 & 0\\\\0 & 0 & 1\\end{matrix}\\right]$"
      ],
      "text/plain": [
       "⎡1  0  0⎤\n",
       "⎢       ⎥\n",
       "⎢0  1  0⎥\n",
       "⎢       ⎥\n",
       "⎣0  0  1⎦"
      ]
     },
     "execution_count": 14,
     "metadata": {},
     "output_type": "execute_result"
    }
   ],
   "source": [
    "I = sp.eye(3)\n",
    "I"
   ]
  },
  {
   "cell_type": "code",
   "execution_count": 15,
   "id": "ibmyGKlg1LeK",
   "metadata": {
    "colab": {
     "base_uri": "https://localhost:8080/",
     "height": 79
    },
    "executionInfo": {
     "elapsed": 716,
     "status": "ok",
     "timestamp": 1665521812016,
     "user": {
      "displayName": "Anderson Carlos",
      "userId": "13888936226680314362"
     },
     "user_tz": 180
    },
    "id": "ibmyGKlg1LeK",
    "outputId": "244b8c7a-6282-4b44-c5ea-75bea9a3111c"
   },
   "outputs": [
    {
     "data": {
      "text/latex": [
       "$\\displaystyle \\left[\\begin{matrix}0 & 0 & 0 & 0\\\\0 & 0 & 0 & 0\\\\0 & 0 & 0 & 0\\end{matrix}\\right]$"
      ],
      "text/plain": [
       "⎡0  0  0  0⎤\n",
       "⎢          ⎥\n",
       "⎢0  0  0  0⎥\n",
       "⎢          ⎥\n",
       "⎣0  0  0  0⎦"
      ]
     },
     "execution_count": 15,
     "metadata": {},
     "output_type": "execute_result"
    }
   ],
   "source": [
    "U = sp.zeros(3,4)\n",
    "U"
   ]
  },
  {
   "cell_type": "code",
   "execution_count": 16,
   "id": "X2XMW2qK1Pfs",
   "metadata": {
    "colab": {
     "base_uri": "https://localhost:8080/",
     "height": 79
    },
    "executionInfo": {
     "elapsed": 319,
     "status": "ok",
     "timestamp": 1665521757552,
     "user": {
      "displayName": "Anderson Carlos",
      "userId": "13888936226680314362"
     },
     "user_tz": 180
    },
    "id": "X2XMW2qK1Pfs",
    "outputId": "cbc8d4c5-74d7-4c39-a8b4-070a8eb0fe9b"
   },
   "outputs": [
    {
     "data": {
      "text/latex": [
       "$\\displaystyle \\left[\\begin{matrix}1 & 1 & 1\\\\1 & 1 & 1\\\\1 & 1 & 1\\end{matrix}\\right]$"
      ],
      "text/plain": [
       "⎡1  1  1⎤\n",
       "⎢       ⎥\n",
       "⎢1  1  1⎥\n",
       "⎢       ⎥\n",
       "⎣1  1  1⎦"
      ]
     },
     "execution_count": 16,
     "metadata": {},
     "output_type": "execute_result"
    }
   ],
   "source": [
    "Y = sp.ones(3)\n",
    "Y"
   ]
  },
  {
   "cell_type": "code",
   "execution_count": 17,
   "id": "nOrJsC881tLt",
   "metadata": {
    "colab": {
     "base_uri": "https://localhost:8080/",
     "height": 79
    },
    "executionInfo": {
     "elapsed": 427,
     "status": "ok",
     "timestamp": 1665521977406,
     "user": {
      "displayName": "Anderson Carlos",
      "userId": "13888936226680314362"
     },
     "user_tz": 180
    },
    "id": "nOrJsC881tLt",
    "outputId": "1dab3b0d-f2f4-4639-e159-593ef8a439f6"
   },
   "outputs": [
    {
     "data": {
      "text/latex": [
       "$\\displaystyle \\left[\\begin{matrix}7 & 0 & 0\\\\0 & 8 & 0\\\\0 & 0 & 9\\end{matrix}\\right]$"
      ],
      "text/plain": [
       "⎡7  0  0⎤\n",
       "⎢       ⎥\n",
       "⎢0  8  0⎥\n",
       "⎢       ⎥\n",
       "⎣0  0  9⎦"
      ]
     },
     "execution_count": 17,
     "metadata": {},
     "output_type": "execute_result"
    }
   ],
   "source": [
    "lista = [7, 8, 9]\n",
    "E = sp.diag(lista, unpack=True)\n",
    "E"
   ]
  },
  {
   "cell_type": "code",
   "execution_count": 18,
   "id": "M-rDnCJ32KNl",
   "metadata": {
    "colab": {
     "base_uri": "https://localhost:8080/",
     "height": 79
    },
    "executionInfo": {
     "elapsed": 365,
     "status": "ok",
     "timestamp": 1665521991331,
     "user": {
      "displayName": "Anderson Carlos",
      "userId": "13888936226680314362"
     },
     "user_tz": 180
    },
    "id": "M-rDnCJ32KNl",
    "outputId": "9be5a498-d78b-40d8-b566-a02085b2780a"
   },
   "outputs": [
    {
     "data": {
      "text/latex": [
       "$\\displaystyle \\left[\\begin{matrix}7 & 0 & 0\\\\0 & 8 & 0\\\\0 & 0 & 9\\end{matrix}\\right]$"
      ],
      "text/plain": [
       "⎡7  0  0⎤\n",
       "⎢       ⎥\n",
       "⎢0  8  0⎥\n",
       "⎢       ⎥\n",
       "⎣0  0  9⎦"
      ]
     },
     "execution_count": 18,
     "metadata": {},
     "output_type": "execute_result"
    }
   ],
   "source": [
    "# que é o mesmo que fazer:\n",
    "E = sp.diag(*lista)\n",
    "E"
   ]
  },
  {
   "cell_type": "code",
   "execution_count": 19,
   "id": "aJp6_uBn2USk",
   "metadata": {
    "colab": {
     "base_uri": "https://localhost:8080/",
     "height": 79
    },
    "executionInfo": {
     "elapsed": 635,
     "status": "ok",
     "timestamp": 1665522035366,
     "user": {
      "displayName": "Anderson Carlos",
      "userId": "13888936226680314362"
     },
     "user_tz": 180
    },
    "id": "aJp6_uBn2USk",
    "outputId": "0622123b-8db3-451c-9692-18dd6f3d1b28"
   },
   "outputs": [
    {
     "data": {
      "text/latex": [
       "$\\displaystyle \\left[\\begin{matrix}\\frac{1}{7} & 0 & 0\\\\0 & \\frac{1}{8} & 0\\\\0 & 0 & \\frac{1}{9}\\end{matrix}\\right]$"
      ],
      "text/plain": [
       "⎡1/7   0    0 ⎤\n",
       "⎢             ⎥\n",
       "⎢ 0   1/8   0 ⎥\n",
       "⎢             ⎥\n",
       "⎣ 0    0   1/9⎦"
      ]
     },
     "execution_count": 19,
     "metadata": {},
     "output_type": "execute_result"
    }
   ],
   "source": [
    "E**-1"
   ]
  },
  {
   "cell_type": "code",
   "execution_count": 20,
   "id": "mJ6BdAPz2eSl",
   "metadata": {
    "colab": {
     "base_uri": "https://localhost:8080/",
     "height": 37
    },
    "executionInfo": {
     "elapsed": 393,
     "status": "ok",
     "timestamp": 1665522071843,
     "user": {
      "displayName": "Anderson Carlos",
      "userId": "13888936226680314362"
     },
     "user_tz": 180
    },
    "id": "mJ6BdAPz2eSl",
    "outputId": "0d8cf4df-1262-43a7-8b76-99738bbda40e"
   },
   "outputs": [
    {
     "data": {
      "image/png": "[encoded data removed]",
      "text/latex": [
       "$\\displaystyle 504$"
      ],
      "text/plain": [
       "504"
      ]
     },
     "execution_count": 20,
     "metadata": {},
     "output_type": "execute_result"
    }
   ],
   "source": [
    "E.det()"
   ]
  },
  {
   "cell_type": "markdown",
   "id": "t8Qi1ilQ2jrX",
   "metadata": {
    "id": "t8Qi1ilQ2jrX"
   },
   "source": [
    "### Sistema Linear"
   ]
  },
  {
   "cell_type": "code",
   "execution_count": 21,
   "id": "YXMbuduq2jQj",
   "metadata": {
    "colab": {
     "base_uri": "https://localhost:8080/",
     "height": 79
    },
    "executionInfo": {
     "elapsed": 529,
     "status": "ok",
     "timestamp": 1665522354996,
     "user": {
      "displayName": "Anderson Carlos",
      "userId": "13888936226680314362"
     },
     "user_tz": 180
    },
    "id": "YXMbuduq2jQj",
    "outputId": "400b7b60-dc02-40e9-853d-6b71371b0851"
   },
   "outputs": [
    {
     "data": {
      "text/latex": [
       "$\\displaystyle \\left[\\begin{matrix}x_{1} + 2 x_{2} + 3 x_{3} - 11\\\\4 x_{1} + 5 x_{2} + 6 x_{3} - 22\\\\7 x_{1} + 8 x_{2} + 9 x_{3} - 33\\end{matrix}\\right]$"
      ],
      "text/plain": [
       "⎡ x₁ + 2⋅x₂ + 3⋅x₃ - 11 ⎤\n",
       "⎢                       ⎥\n",
       "⎢4⋅x₁ + 5⋅x₂ + 6⋅x₃ - 22⎥\n",
       "⎢                       ⎥\n",
       "⎣7⋅x₁ + 8⋅x₂ + 9⋅x₃ - 33⎦"
      ]
     },
     "execution_count": 21,
     "metadata": {},
     "output_type": "execute_result"
    }
   ],
   "source": [
    "x1, x2, x3 = sp.symbols(['x1', 'x2', 'x3'])\n",
    "X = sp.Matrix([x1, x2, x3])\n",
    "\n",
    "E = sp.Matrix([[1, 2, 3],[4, 5, 6],[7, 8, 9]])\n",
    "R = sp.Matrix([11, 22, 33])\n",
    "\n",
    "# EX = R == EX - R = 0\n",
    "E * X - R\n"
   ]
  },
  {
   "cell_type": "markdown",
   "id": "217f2d67",
   "metadata": {
    "id": "217f2d67"
   },
   "source": [
    "## 7.4. - Funções do cálculo\n",
    "- Derivada **diff(** *função*,*variável* **)**\n",
    "- Integral **integrate(** *função*,(*variável*,*início*,*fim* )**)**\n",
    "- Outras funções disponíveis são: limites, expansão de séries, diferenças finitas.\n",
    "- Para mais informações acesse: https://docs.sympy.org/latest/tutorial/calculus.html"
   ]
  },
  {
   "cell_type": "code",
   "execution_count": 22,
   "id": "9SA7-Fmd381b",
   "metadata": {
    "colab": {
     "base_uri": "https://localhost:8080/",
     "height": 38
    },
    "executionInfo": {
     "elapsed": 414,
     "status": "ok",
     "timestamp": 1665522754240,
     "user": {
      "displayName": "Anderson Carlos",
      "userId": "13888936226680314362"
     },
     "user_tz": 180
    },
    "id": "9SA7-Fmd381b",
    "outputId": "2efa29cd-a650-4863-e581-86c8c68d675f"
   },
   "outputs": [
    {
     "data": {
      "image/png": "[encoded data removed]",
      "text/latex": [
       "$\\displaystyle \\pi$"
      ],
      "text/plain": [
       "π"
      ]
     },
     "execution_count": 22,
     "metadata": {},
     "output_type": "execute_result"
    }
   ],
   "source": [
    "import sympy as sp\n",
    "\n",
    "# diferente de outras bibliotecas o pi do sympy é um objeto da biblioteca, não sendo um valor float\n",
    "sp.pi"
   ]
  },
  {
   "cell_type": "code",
   "execution_count": 23,
   "id": "fiRG1Q6p5abw",
   "metadata": {
    "colab": {
     "base_uri": "https://localhost:8080/",
     "height": 38
    },
    "executionInfo": {
     "elapsed": 298,
     "status": "ok",
     "timestamp": 1665522851118,
     "user": {
      "displayName": "Anderson Carlos",
      "userId": "13888936226680314362"
     },
     "user_tz": 180
    },
    "id": "fiRG1Q6p5abw",
    "outputId": "87236a65-2444-4fd6-e154-a36be5358fcb"
   },
   "outputs": [
    {
     "data": {
      "image/png": "[encoded data removed]",
      "text/latex": [
       "$\\displaystyle \\cos{\\left(x \\right)}$"
      ],
      "text/plain": [
       "cos(x)"
      ]
     },
     "execution_count": 23,
     "metadata": {},
     "output_type": "execute_result"
    }
   ],
   "source": [
    "sp.cos(x)"
   ]
  },
  {
   "cell_type": "code",
   "execution_count": 24,
   "id": "FmsZW2BB5fTz",
   "metadata": {
    "colab": {
     "base_uri": "https://localhost:8080/",
     "height": 38
    },
    "executionInfo": {
     "elapsed": 335,
     "status": "ok",
     "timestamp": 1665522930034,
     "user": {
      "displayName": "Anderson Carlos",
      "userId": "13888936226680314362"
     },
     "user_tz": 180
    },
    "id": "FmsZW2BB5fTz",
    "outputId": "a63c792e-47c6-4527-a509-d042136d724e"
   },
   "outputs": [
    {
     "data": {
      "image/png": "[encoded data removed]",
      "text/latex": [
       "$\\displaystyle \\cos{\\left(x \\right)}$"
      ],
      "text/plain": [
       "cos(x)"
      ]
     },
     "execution_count": 24,
     "metadata": {},
     "output_type": "execute_result"
    }
   ],
   "source": [
    "x, y = sp.symbols(['x','y'])\n",
    "fx = sp.sin(x)\n",
    "\n",
    "dfdx = sp.diff(fx, x)\n",
    "dfdx"
   ]
  },
  {
   "cell_type": "code",
   "execution_count": 25,
   "id": "9i9xVKgP5zE-",
   "metadata": {
    "colab": {
     "base_uri": "https://localhost:8080/",
     "height": 38
    },
    "executionInfo": {
     "elapsed": 16,
     "status": "ok",
     "timestamp": 1665522991338,
     "user": {
      "displayName": "Anderson Carlos",
      "userId": "13888936226680314362"
     },
     "user_tz": 180
    },
    "id": "9i9xVKgP5zE-",
    "outputId": "470bf7de-f0ed-4795-885a-54fc24fb513d"
   },
   "outputs": [
    {
     "data": {
      "image/png": "[encoded data removed]",
      "text/latex": [
       "$\\displaystyle - \\sin{\\left(x \\right)}$"
      ],
      "text/plain": [
       "-sin(x)"
      ]
     },
     "execution_count": 25,
     "metadata": {},
     "output_type": "execute_result"
    }
   ],
   "source": [
    "d2fd2x = sp.diff(fx, x, x)\n",
    "d2fd2x"
   ]
  },
  {
   "cell_type": "code",
   "execution_count": 26,
   "id": "37PSYfVr6DXb",
   "metadata": {
    "colab": {
     "base_uri": "https://localhost:8080/",
     "height": 38
    },
    "executionInfo": {
     "elapsed": 299,
     "status": "ok",
     "timestamp": 1665523063262,
     "user": {
      "displayName": "Anderson Carlos",
      "userId": "13888936226680314362"
     },
     "user_tz": 180
    },
    "id": "37PSYfVr6DXb",
    "outputId": "cb1b69af-8f2d-41b5-cff5-fc784310d51c"
   },
   "outputs": [
    {
     "data": {
      "image/png": "[encoded data removed]",
      "text/latex": [
       "$\\displaystyle 2 y - 100$"
      ],
      "text/plain": [
       "2⋅y - 100"
      ]
     },
     "execution_count": 26,
     "metadata": {},
     "output_type": "execute_result"
    }
   ],
   "source": [
    "fxy = x**2 + y**2 -100*y\n",
    "\n",
    "dfdy = sp.diff(fxy, y)\n",
    "dfdy"
   ]
  },
  {
   "cell_type": "code",
   "execution_count": 27,
   "id": "CIotiJLb6Xb8",
   "metadata": {
    "colab": {
     "base_uri": "https://localhost:8080/",
     "height": 53
    },
    "executionInfo": {
     "elapsed": 316,
     "status": "ok",
     "timestamp": 1665523205481,
     "user": {
      "displayName": "Anderson Carlos",
      "userId": "13888936226680314362"
     },
     "user_tz": 180
    },
    "id": "CIotiJLb6Xb8",
    "outputId": "bd1842aa-853a-4b15-f78c-6e7d228fa534"
   },
   "outputs": [
    {
     "data": {
      "image/png": "[encoded data removed]",
      "text/latex": [
       "$\\displaystyle c_{1} + \\frac{x}{2} - \\frac{\\sin{\\left(x \\right)} \\cos{\\left(x \\right)}}{2}$"
      ],
      "text/plain": [
       "     x   sin(x)⋅cos(x)\n",
       "c₁ + ─ - ─────────────\n",
       "     2         2      "
      ]
     },
     "execution_count": 27,
     "metadata": {},
     "output_type": "execute_result"
    }
   ],
   "source": [
    "fx2 = sp.sin(x)**2\n",
    "c = sp.symbols('c1')\n",
    "intfx2 = sp.integrate(fx2, x)\n",
    "intfx2 + c"
   ]
  },
  {
   "cell_type": "code",
   "execution_count": 28,
   "id": "5n_R2qRZ658I",
   "metadata": {
    "colab": {
     "base_uri": "https://localhost:8080/"
    },
    "executionInfo": {
     "elapsed": 415,
     "status": "ok",
     "timestamp": 1665523360574,
     "user": {
      "displayName": "Anderson Carlos",
      "userId": "13888936226680314362"
     },
     "user_tz": 180
    },
    "id": "5n_R2qRZ658I",
    "outputId": "956b946a-0551-4212-8bd1-fcbcf810ec85"
   },
   "outputs": [
    {
     "data": {
      "image/png": "[encoded data removed]",
      "text/latex": [
       "$\\displaystyle 1$"
      ],
      "text/plain": [
       "1"
      ]
     },
     "execution_count": 28,
     "metadata": {},
     "output_type": "execute_result"
    }
   ],
   "source": [
    "# função exponencial .exp\n",
    "fx3 = sp.exp(-x)\n",
    "sp.oo # objeto infinito\n",
    "\n",
    "sp.integrate(fx3, (x, 0, sp.oo))"
   ]
  },
  {
   "cell_type": "markdown",
   "id": "b11a7e04",
   "metadata": {
    "id": "b11a7e04"
   },
   "source": [
    "## 7.5. Solvers\n",
    "- **solveset**( *eq*, *args* **)** ou **solve**\n",
    "- **dsolve**( *eq*, *args* **)**, **Function('fx')** e **Derivative(** *fx*,*args* **)**\n",
    "- Acesse: https://docs.sympy.org/latest/tutorial/solvers.html\n",
    "- Acesse: https://docs.sympy.org/latest/modules/solvers/solveset.html#sympy.solvers.solveset.nonlinsolve\n"
   ]
  },
  {
   "cell_type": "markdown",
   "id": "1dda1c55",
   "metadata": {
    "id": "1dda1c55"
   },
   "source": [
    "## 7.6. Exercício 1\n",
    "Dadas as matrizes A,B, C e D, calcule, para cada uma, o determinante, a matriz transposta e a matriz inversa.\n",
    "\n",
    "$$ A=\n",
    " \\begin{bmatrix}\n",
    "   1 & 2 \\\\\\\\\n",
    "   4 & 5\n",
    "  \\end{bmatrix}\n",
    "$$\n",
    "\n",
    "$$ B=\n",
    " \\begin{bmatrix}\n",
    "   cos(\\pi/4) & -sen(\\pi/4) \\\\\\\\\n",
    "   sen(\\pi/4) & cos(\\pi/4)\n",
    "  \\end{bmatrix}\n",
    "$$\n",
    "\n",
    "$$ C=\n",
    " \\begin{bmatrix}\n",
    "   2 & -2 \\\\\\\\\n",
    "   -2 & 5\n",
    "  \\end{bmatrix}\n",
    "$$\n",
    "\n",
    "$$\n",
    "D=\n",
    " \\begin{bmatrix}\n",
    "   2 & 2 \\\\\\\\\n",
    "   4 & 4\n",
    "  \\end{bmatrix}\n",
    "$$\n",
    "\n",
    "\n",
    "Notas:\n",
    "- A tem determinante diferente de zero\n",
    "- B é uma matriz orgonal, sua inversa é igual a sua transposta, e seu det deve ser + ou -1\n",
    "- C é uma matriz simétrica, ela é igual a sua transposta\n",
    "- D possui determinante igual a zero, portanto não é inversível"
   ]
  },
  {
   "cell_type": "markdown",
   "id": "1167e377",
   "metadata": {
    "id": "1167e377"
   },
   "source": [
    "## 7.7. Exercício 2\n",
    "Dadas as funções, calcule sua derivada de primeira ordem e sua primitiva (integral sem limites de integração).\n",
    "$$ A(x) = e^x $$\n",
    "\n",
    "$$ B(x) = x^3 $$\n",
    "\n",
    "$$ C(x) = 1/x $$\n",
    "\n",
    "Nota: O sympy não acrescenta constantes para integrais indefinidas, elas devem ser acrescentadas manualmente."
   ]
  },
  {
   "cell_type": "markdown",
   "id": "ccd88fbb",
   "metadata": {
    "id": "ccd88fbb"
   },
   "source": [
    "## 7.8. Exercício 3\n",
    "Calcule a integral dupla:\n",
    "$$ A(x,y) = \\iint_{A}dx.dy   $$\n",
    "\n",
    "Considere: $ 0 \\le x \\le 3 $ e $ 0 \\le y \\le 4 $"
   ]
  },
  {
   "cell_type": "markdown",
   "id": "325de4e6",
   "metadata": {
    "id": "325de4e6"
   },
   "source": [
    "## 7.9. Exercício 4\n",
    "Ache as raízes das equações:\n",
    "\n",
    "$$ A(x) = x^3 + 5x^2  $$\n",
    "\n",
    "$$ B(x) = x^2 + 9 $$\n",
    "\n",
    "$$ C(x) = sen(x) $$\n",
    "\n",
    "$$ D(x) = x^2 + cos(x) $$"
   ]
  },
  {
   "cell_type": "markdown",
   "id": "d83493a7",
   "metadata": {
    "id": "d83493a7"
   },
   "source": [
    "## 7.10. Exercício 5\n",
    "Dadas as matrizes, resolva o sistema de equação $[A].\\{X\\} = \\{B\\}$\n",
    "\n",
    "$$ A=\n",
    " \\begin{bmatrix}\n",
    "   1 & 1 & 1 \\\\\\\\\n",
    "   1 & 2 & 2 \\\\\\\\\n",
    "   2 & 1 & 3 \n",
    "\\end{bmatrix}\n",
    "$$\n",
    "\n",
    "$$ X=\n",
    " \\begin{bmatrix}\n",
    "   x_1 \\\\\\\\\n",
    "   x_2 \\\\\\\\\n",
    "   x_3 \n",
    "\\end{bmatrix}\n",
    "$$\n",
    "\n",
    "$$ B=\n",
    " \\begin{bmatrix}\n",
    "   6 \\\\\\\\\n",
    "   9 \\\\\\\\\n",
    "   11 \n",
    "\\end{bmatrix}\n",
    "$$"
   ]
  },
  {
   "cell_type": "markdown",
   "id": "41999615",
   "metadata": {
    "id": "41999615"
   },
   "source": [
    "## 7.11 Exercício 6\n",
    "Resolva as EDOs:\n",
    "$$ A)\\ \\ \\frac{dy}{dx} = \\frac{x^2}{y} $$\n",
    "\n",
    "$$ B)\\ \\ m\\ddot{x}(t) + c\\dot{x}(t) + kx(t)=0; \\ \\ com\\ x(0) = x_0 \\ e\\  \\dot{x}(0) = v_0   $$"
   ]
  },
  {
   "cell_type": "markdown",
   "id": "b158ef45",
   "metadata": {
    "id": "b158ef45"
   },
   "source": [
    "## 7.12 Desafio 1\n",
    "Calcule a área da superfície de uma semi-esfera baseada em sua equação: \n",
    "$x^2+y^2+z^2=100$\n",
    "\n",
    "**Equação paramétrica da esfera:**\n",
    "$$\n",
    "  \\sigma (\\theta , \\phi) =\n",
    "  \\begin{cases}\n",
    "  x = r.sen(\\phi).cos(\\theta) \\\\\\\\\n",
    "  y = r.sen(\\phi).sen(\\theta) \\\\\\\\\n",
    "  z = r.cos(\\phi)\n",
    "\\end{cases}\n",
    "$$\n",
    "\n",
    "**A área de $\\sigma$ pode ser calculada como:**\n",
    "\n",
    "$$ A_\\sigma = \\iint_{K} \\Big|\\Big| \\frac{\\partial\\sigma}{\\partial\\theta}  \\land  \\frac{\\partial\\sigma}{\\partial\\phi} \\Big|\\Big| d\\theta d\\phi  $$\n",
    "\n",
    "Considere a semi-esfera: $ 0 \\le \\phi \\le \\pi/2 $ e $ 0 \\le \\theta \\le 2\\pi $\n",
    "\n",
    "Referências:\n",
    "- GUIDORIZZI, Hamilton Luiz. Um curso de cálculo volume 3. 5a edição, LTC, 2002.\n",
    "- https://www.ime.unicamp.br/~valle/Teaching/MA211/Aula23.pdf\n",
    "- https://socratic.org/questions/58e321437c014904021733e9"
   ]
  },
  {
   "cell_type": "markdown",
   "id": "2d0307cf",
   "metadata": {
    "id": "2d0307cf"
   },
   "source": [
    "## 7.13 - Desafio 2 - Longarina de uma aeronave\n",
    "Projete uma longarina considerndo as tensões devido ao momento fletor. Considere uma asa de aeronave que opera com as seguintes características:\n",
    "- Dimensões geométricas: $b = 2m$;\n",
    "- Peso máximo de decolagem é $W=100N$\n",
    "- Fator de carga $n_{max} = 2,3$\n",
    "- Longarina de alumínio com $E = 70.10^9 Pa$ e $sigma_{admissível} = 500.10^6 Pa$\n",
    "\n",
    "A força de sustentação (distribuição elíptica) na asa pode ser calculada por meio das fórmulas:\n",
    "\n",
    "$$\n",
    "  \\begin{cases}\n",
    "L = n_{max}.W \\\\\\\\\n",
    "L(y)_E=\\frac{4.L}{b.\\pi}\\sqrt{1 - \\Big(\\frac{2.y}{b}\\Big)^2}\n",
    "\\end{cases}\n",
    "$$\n",
    "\n",
    "Equações da linha elástica (nas coordenadas da figura):\n",
    "\n",
    "$$\n",
    "  \\begin{cases}\n",
    "E.I \\frac{d^4v}{dy^4} = - L(y) \\\\\\\\\n",
    "E.I \\frac{d^3v}{dy^3} = V(y) \\\\\\\\\n",
    "E.I \\frac{d^2v}{dy^2} = M(y) \n",
    "\\end{cases}\n",
    "$$\n",
    "\n",
    "Tensão devido ao momento fletor:\n",
    " $$\n",
    "  \\begin{cases}\n",
    "\\sigma_{f} = \\frac{M(y).c}{I} \\\\\\\\\n",
    "I = \\frac{d_1.h^3}{12}\n",
    "\\end{cases} $$\n",
    "\n",
    "- Para facilitar, podemos considerar -1 < y < 1 e utilizar o trecho 0 < y < 1. \n",
    "- Considere M(1) = 0 e V(1) = 0\n",
    "\n",
    "\n",
    "\n",
    "\n",
    "\n",
    "Referências:\n",
    "- RODRIGUES, Luiz Eduardo Miranda José. Engenharia Aeronáutica. Cengage Learning, 2014.\n",
    "- HIBBELER, R. C. Resistência dos Materiais. 5a ed. São Paulo: Pearson Prentice Hall, 2004.\n"
   ]
  },
  {
   "cell_type": "markdown",
   "id": "35210929",
   "metadata": {
    "id": "35210929"
   },
   "source": [
    "## 7.14 Desafio 3 - Impacto de um veículo passando em um tronco\n",
    "Calcule o fator de carga do impacto de um veículo passando em um tronco. Dados:\n",
    "- $ m = 200kg $\n",
    "- $ k = 1.10^4 N/m$\n",
    "- $ c = 5.10^2 N.s/m $\n",
    "- $ v = 30 km/h $\n",
    "\n",
    "Equação de movimento:\n",
    "$$ m \\ddot{x} + c(\\dot{x} - \\dot{y}) + k(x - y) = 0 $$\n",
    "\n",
    "Força transmitida ao carro:\n",
    "$$ F(t) = k(x-y) + c(\\dot{x} - \\dot{y}) $$\n",
    "\n",
    "Modelo do tronco:\n",
    "\n",
    "$$ y(t) =  Y.sen(\\omega_b.t) $$\n",
    "\n",
    "\n",
    "\n",
    "\n",
    "Referência:\n",
    "- INMAN, Daniel J. Engineering Vibration. New Jersey: Pearson Prentice Hell: 2008. pg 131, 136"
   ]
  }
 ],
 "metadata": {
  "colab": {
   "provenance": []
  },
  "kernelspec": {
   "display_name": "Python 3 (ipykernel)",
   "language": "python",
   "name": "python3"
  },
  "language_info": {
   "codemirror_mode": {
    "name": "ipython",
    "version": 3
   },
   "file_extension": ".py",
   "mimetype": "text/x-python",
   "name": "python",
   "nbconvert_exporter": "python",
   "pygments_lexer": "ipython3",
   "version": "3.9.12"
  }
 },
 "nbformat": 4,
 "nbformat_minor": 5
}
