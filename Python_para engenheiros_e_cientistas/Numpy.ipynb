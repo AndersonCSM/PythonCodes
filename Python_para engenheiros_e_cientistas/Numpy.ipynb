{
 "cells": [
  {
   "attachments": {},
   "cell_type": "markdown",
   "id": "6769d71c",
   "metadata": {},
   "source": [
    "# 8. Numpy\n",
    "\n",
    "Conteúdos a serem abordado no Numpy\n",
    "\n",
    "1. Arrays\n",
    "2. Manipulação de arrays\n",
    "3. Criação de arrays\n",
    "4. Métodos matemáticos\n",
    "5. Índices e fatias\n",
    "6. Álgebra linear\n",
    "\n",
    "## 8.1. O que é Numpy?\n",
    "\n",
    "Uma biblioteca Python voltada a criação de estruturas de **arrays, vetores** que podem possuem multidimensões\n",
    "\n",
    "**Características:** É rápida, versátil e pertencente ao ecossistema de ferramentas científicas do Python(Numpy, Scipy, Matplotlib, Ipython, Sympy, pandas)\n",
    "\n",
    "## 8.2. Para quem se destina\n",
    "\n",
    "Para profissionais que precisam manipular grandes quantidade de dados.\n",
    "\n",
    "Profissionais de **exatas** como pesquisadores e alunos.\n",
    "\n",
    "É uma ferramenta muito útil para cálculo numérico.\n",
    "\n",
    "## 8.3. O que você aprenderá\n",
    "\n",
    "Manipulação dos arrays(métodos para criação, fatias, operações)\n",
    "\n",
    "Métodos matemáticos para arrays(usando arrays como matrizes, vetores, resolução de sistemas lineares, problema de autovalor)\n",
    "\n"
   ]
  },
  {
   "attachments": {},
   "cell_type": "markdown",
   "id": "c20dbafa",
   "metadata": {},
   "source": [
    "## 8.4. Fundamentos de Numpy\n",
    "\n",
    "\n",
    "### 8.4.1. O que é Numpy?\n",
    "\n",
    "Arrays de N-dimensões;\n",
    "\n",
    "Permite executar operações mais rápidas do que em uma lista\n",
    "\n",
    "Funções e constantes de cálculo pré-construídas\n",
    "\n",
    "**Vantagens:** Eficiência e versatilidade em trabalhar com dados\n",
    "\n",
    "### 8.4.2. Arrays multidimensionais\n",
    "\n",
    "Permite arquivos em 2D(planilha), 3D(arquivos com planilhas), 4D(arquivos de arquivos com planilhas) ... ND.\n",
    "\n"
   ]
  },
  {
   "cell_type": "code",
   "execution_count": 1,
   "id": "086a29b5",
   "metadata": {},
   "outputs": [],
   "source": [
    "lista_1 = list(range(10**7))"
   ]
  },
  {
   "cell_type": "code",
   "execution_count": 2,
   "id": "f78ad03a",
   "metadata": {},
   "outputs": [
    {
     "name": "stdout",
     "output_type": "stream",
     "text": [
      "49999995000000\n",
      "0.5411202907562256\n"
     ]
    }
   ],
   "source": [
    "from time import time\n",
    "\n",
    "soma_1 = 0\n",
    "\n",
    "inicio = time()\n",
    "for i in lista_1:\n",
    "    soma_1 += i\n",
    "\n",
    "fim = time()\n",
    "\n",
    "tempo_1 = fim - inicio\n",
    "\n",
    "print(soma_1)\n",
    "print(tempo_1)"
   ]
  },
  {
   "cell_type": "code",
   "execution_count": 3,
   "id": "9cccda32",
   "metadata": {},
   "outputs": [
    {
     "name": "stdout",
     "output_type": "stream",
     "text": [
      "49999995000000.0\n",
      "0.29506659507751465\n"
     ]
    }
   ],
   "source": [
    "from time import time\n",
    "import numpy as np\n",
    "\n",
    "inicio = time()\n",
    "arr = np.array(lista_1, dtype=float)\n",
    "soma_2 = arr.sum()\n",
    "\n",
    "fim = time()\n",
    "\n",
    "tempo_2 = fim - inicio\n",
    "\n",
    "print(soma_2)\n",
    "print(tempo_2)"
   ]
  },
  {
   "attachments": {},
   "cell_type": "markdown",
   "id": "6e3a3791",
   "metadata": {},
   "source": [
    "### 8.4.3. Arrays\n",
    "\n",
    "Enquanto um vetor é uma estrutura unidimensional, uma matriz éé uma estrutura bidimensional e um Array é uma estrutura multidimensional.\n",
    "\n",
    "Outra característica dos arrays é que todos os elementos do array são do mesmo tipo.\n",
    "\n",
    "### 8.4.4. Propriedades de arrays\n",
    "\n",
    "\n",
    "| Propriedade | Retorna  | Descrição |\n",
    "| :-- | :-- | :-- |\n",
    "| ndim | int |  número de dimensões (axes) |\n",
    "| shape |  tupla |  quantidade de dados em cada dimensão |\n",
    "| size | int | número de elementos |\n",
    "| dtype| dtype | tipo das variáveis dos elementos |\n",
    "\n",
    "### 8.4.5. Criando um array\n",
    "\n",
    "Para criar um array basta declaramos uma variável usando a função array(), repassando como argumentos os valores do array dentro de parênteses.\n",
    "\n",
    "variavel = np.array([valores])\n",
    "\n",
    "Os parënteses são usados para definir a dimensionalidade do array.\n",
    "1. []. Apenas um par de parênteses os valores do array seriam de apenas uma dimensão, o que poderia ser analógo a termos uma linha, ou seja, apenas linhas\n",
    "\n",
    "vetor = np.array([])\n",
    "\n",
    "2. [[]]. Dois pares de parênteses seria um array com elementos agrupados no segundo índice, analógo a termos uma linha e diversos elementos nas colunas\n",
    "\n",
    "vetor = np.array([[]])\n",
    "\n",
    "3. Podemos estender esse entedimento para criar valores em qualquer índice que quisermos.\n",
    "\n",
    "\n",
    "### 8.4.5. shape\n",
    "\n",
    "O método shape mostra a quantidade de elementos em cada dimensão do array."
   ]
  },
  {
   "cell_type": "code",
   "execution_count": 4,
   "id": "fa2f97ef",
   "metadata": {},
   "outputs": [
    {
     "data": {
      "text/plain": [
       "(3,)"
      ]
     },
     "execution_count": 4,
     "metadata": {},
     "output_type": "execute_result"
    }
   ],
   "source": [
    "import numpy as np\n",
    "\n",
    "a_0 = np.array([1, 1, 1])\n",
    "a_0.shape\n",
    "# Array unimensional(um colchete), 3 elementos no índice 1, logo, seria análogo a uma matriz linha."
   ]
  },
  {
   "cell_type": "code",
   "execution_count": 5,
   "id": "c30d5378",
   "metadata": {},
   "outputs": [
    {
     "data": {
      "text/plain": [
       "(1, 3)"
      ]
     },
     "execution_count": 5,
     "metadata": {},
     "output_type": "execute_result"
    }
   ],
   "source": [
    "a_1 = np.array([[1, 1, 1]])\n",
    "a_1.shape\n",
    "\n",
    "# Array bidimensional(dois colchetes), 3 elementos no índice 2, logo, análogo a uma matriz coluna"
   ]
  },
  {
   "attachments": {},
   "cell_type": "markdown",
   "id": "2fbfaba1",
   "metadata": {},
   "source": [
    "### 8.4.6. size\n",
    "\n",
    "O método size retorna o número de elementos do array, similar a função len() do python, não importando como os elementos estejam dispostos no array."
   ]
  },
  {
   "cell_type": "code",
   "execution_count": 6,
   "id": "08838935",
   "metadata": {},
   "outputs": [
    {
     "name": "stdout",
     "output_type": "stream",
     "text": [
      "(2, 3)\n",
      "6\n",
      "[[1 2 3]\n",
      " [4 5 6]]\n"
     ]
    }
   ],
   "source": [
    "a_2 = np.array([[1, 2, 3], [4, 5, 6]])\n",
    "\n",
    "print(a_2.shape)\n",
    "print(a_2.size)\n",
    "print(a_2)"
   ]
  },
  {
   "attachments": {},
   "cell_type": "markdown",
   "id": "2ae69011",
   "metadata": {},
   "source": [
    "### 8.4.7. ndim\n",
    "\n",
    "Caso esteja difícil de visualizar as dimensões de um array, podemos usar o método ndim que retorna a quantidade de dimensões."
   ]
  },
  {
   "cell_type": "code",
   "execution_count": 7,
   "id": "40278cb0",
   "metadata": {},
   "outputs": [
    {
     "name": "stdout",
     "output_type": "stream",
     "text": [
      "1\n",
      "2\n"
     ]
    }
   ],
   "source": [
    "print(a_0.ndim)\n",
    "print(a_1.ndim)"
   ]
  },
  {
   "attachments": {},
   "cell_type": "markdown",
   "id": "36ddf0ff",
   "metadata": {},
   "source": [
    "Caso existe um valor de outro tipo no array, todos os valores são convertidos para que todos os elementos do array possuam o mesmo tipo."
   ]
  },
  {
   "cell_type": "code",
   "execution_count": 8,
   "id": "2c7735b5",
   "metadata": {},
   "outputs": [
    {
     "data": {
      "text/plain": [
       "array([['1', 'python', '3.0'],\n",
       "       ['4', '5', '6']], dtype='<U32')"
      ]
     },
     "execution_count": 8,
     "metadata": {},
     "output_type": "execute_result"
    }
   ],
   "source": [
    "a_3 = np.array([[1, \"python\", 3.0], [4, 5, 6]])\n",
    "a_3"
   ]
  },
  {
   "attachments": {},
   "cell_type": "markdown",
   "id": "cc31c155",
   "metadata": {},
   "source": [
    "### 8.4.8. dtype\n",
    "\n",
    "O método dtype é usado para saber o tipo de um array"
   ]
  },
  {
   "cell_type": "code",
   "execution_count": 9,
   "id": "8a9d3d3a",
   "metadata": {},
   "outputs": [
    {
     "data": {
      "text/plain": [
       "dtype('int32')"
      ]
     },
     "execution_count": 9,
     "metadata": {},
     "output_type": "execute_result"
    }
   ],
   "source": [
    "a_4 = np.arange(40).reshape(2, 2, 2, 5)\n",
    "a_4.dtype"
   ]
  },
  {
   "attachments": {},
   "cell_type": "markdown",
   "id": "6088725b",
   "metadata": {},
   "source": [
    "## 8.5. Operações com arrays\n",
    "\n",
    "### Algumas funcionalidades do Numpy\n",
    "| Comando | Tipo | Descrição |\n",
    "| :-- | :-- | :-- |\n",
    "| sin,cos,exp,sqrt | Função | seno,cosseno,exponencial,raíz quadrada |\n",
    "| pi,nan,inf | constantes(float) | pi, similar a None, infinito |\n",
    "| +,-,*,/ | operadores | operações aritimética |\n",
    "| ARRAY1.dot(ARRAY2) | método | multiplicação matricial |\n"
   ]
  },
  {
   "attachments": {},
   "cell_type": "markdown",
   "id": "f7768dc6",
   "metadata": {},
   "source": [
    "### 8.5.1. Funções trigonométricas\n",
    "\n",
    "As funções trigonométricas estão disponíveis para uso, recebendo um valor em radianos.\n",
    "- sin\n",
    "- cos\n",
    "- tan\n",
    "- tanh, cosh, sinh\n"
   ]
  },
  {
   "cell_type": "code",
   "execution_count": 10,
   "id": "f6a35b2f",
   "metadata": {},
   "outputs": [
    {
     "data": {
      "text/plain": [
       "0.8939966636005579"
      ]
     },
     "execution_count": 10,
     "metadata": {},
     "output_type": "execute_result"
    }
   ],
   "source": [
    "np.sin(90)  # Como é em radianos, o valor não será 1"
   ]
  },
  {
   "cell_type": "code",
   "execution_count": 11,
   "id": "c0f68ab3",
   "metadata": {},
   "outputs": [
    {
     "data": {
      "text/plain": [
       "1.0"
      ]
     },
     "execution_count": 11,
     "metadata": {},
     "output_type": "execute_result"
    }
   ],
   "source": [
    "np.sin(np.pi / 2)  # agora usando o valor em radianos temos o valor coerente."
   ]
  },
  {
   "attachments": {},
   "cell_type": "markdown",
   "id": "1e407b95",
   "metadata": {},
   "source": [
    "### 8.5.2. Constante\n",
    "\n",
    "O numpy consta com alguns valores constantes úteis.\n",
    "- pi: float numérico que representa a constante\n",
    "- inf: float numérico para representar o infinito\n",
    "- nan: equivalente ao None, mas como tipo float"
   ]
  },
  {
   "cell_type": "code",
   "execution_count": 12,
   "id": "988b13a9",
   "metadata": {},
   "outputs": [
    {
     "name": "stdout",
     "output_type": "stream",
     "text": [
      "nan\n",
      "3.141592653589793\n",
      "inf\n"
     ]
    }
   ],
   "source": [
    "print(np.nan)\n",
    "print(np.pi)\n",
    "print(np.inf)"
   ]
  },
  {
   "attachments": {},
   "cell_type": "markdown",
   "id": "fc2990fc",
   "metadata": {},
   "source": [
    "### 8.5.3. Operações matemáticas\n",
    "\n",
    "Diferente do que acontecem na matemática podemos realizar as operações abaixo nos arrays\n",
    "\n",
    "- **Soma:** podemos somar um valor a um array, coisa que na matemática é impossível, a operação irá somar um valor a todos os valores do array;\n",
    "\n",
    "- **Subtrção:** da mesma forma, podemos subtrair um valor de um array, subtraindo o escalar de todos os valores do array;\n",
    "\n",
    "- **Divisão:** podemos dividir todos os elementos do array por um valor;\n",
    "\n",
    "- **Multiplicação:** podemos multiplicar os elementos do array por um valor, **atenção**, se tentarmos multiplicar dois arrays não estaremos realizando um produto escalar ou produto vetorial, mas uma multiplicação de elementos."
   ]
  },
  {
   "cell_type": "code",
   "execution_count": 13,
   "id": "623e8879",
   "metadata": {},
   "outputs": [
    {
     "data": {
      "text/plain": [
       "array([4, 5, 6])"
      ]
     },
     "execution_count": 13,
     "metadata": {},
     "output_type": "execute_result"
    }
   ],
   "source": [
    "a_1 = np.array([4, 5, 6])\n",
    "a_1"
   ]
  },
  {
   "cell_type": "code",
   "execution_count": 14,
   "id": "bc0991e4",
   "metadata": {},
   "outputs": [
    {
     "data": {
      "text/plain": [
       "array([6, 7, 8])"
      ]
     },
     "execution_count": 14,
     "metadata": {},
     "output_type": "execute_result"
    }
   ],
   "source": [
    "a_1 + 2"
   ]
  },
  {
   "cell_type": "code",
   "execution_count": 15,
   "id": "b77702e2",
   "metadata": {},
   "outputs": [
    {
     "data": {
      "text/plain": [
       "array([1, 2, 3])"
      ]
     },
     "execution_count": 15,
     "metadata": {},
     "output_type": "execute_result"
    }
   ],
   "source": [
    "a_1 - 3"
   ]
  },
  {
   "cell_type": "code",
   "execution_count": 16,
   "id": "2693809b",
   "metadata": {},
   "outputs": [],
   "source": [
    "a_2 = np.array([3, 2, 1])"
   ]
  },
  {
   "cell_type": "code",
   "execution_count": 17,
   "id": "f4e65296",
   "metadata": {},
   "outputs": [
    {
     "data": {
      "text/plain": [
       "array([12, 10,  6])"
      ]
     },
     "execution_count": 17,
     "metadata": {},
     "output_type": "execute_result"
    }
   ],
   "source": [
    "a_1 * a_2"
   ]
  },
  {
   "attachments": {},
   "cell_type": "markdown",
   "id": "d7a3de08",
   "metadata": {},
   "source": [
    "### 8.5.4. Operações matriciais\n",
    "\n",
    "Para realizar uma multiplicação matricial usamos o método dot(), repassando como argumento o outro array. Vale reassaltar que operações matriciais é necessário que o número de linhas de um array seja igual ao número de colunas do segundo array.\n",
    "ARRAY1.dot(ARRAY2)\n",
    "\n",
    "A ordem do uso das matrizes é Colunas x linhas\n"
   ]
  },
  {
   "cell_type": "code",
   "execution_count": 18,
   "id": "861027d7",
   "metadata": {},
   "outputs": [
    {
     "name": "stdout",
     "output_type": "stream",
     "text": [
      "(3,)\n",
      "(1, 3)\n",
      "[32]\n"
     ]
    }
   ],
   "source": [
    "n1 = np.array([1, 2, 3])\n",
    "n2 = np.array([[4, 5, 6]])\n",
    "print(n1.shape)\n",
    "print(n2.shape)\n",
    "print(n2.dot(n1))  # Colunas x linhas"
   ]
  },
  {
   "attachments": {},
   "cell_type": "markdown",
   "id": "c0fc649c",
   "metadata": {},
   "source": [
    "## 8.6. Funções de criação de arrays\n",
    "\n",
    "### Algumas funções numpy para criar arrays\n",
    "Em shape devemos repassar a quantidade de elementos de queremos.\n",
    "\n",
    "| Função | Descrição |\n",
    "| :-- | :-- |\n",
    "| zeros(*shape*) | array preenchido com zeros |\n",
    "| ones(*shape*) | array preenchido com uns |\n",
    "| eye(*dimensão*) | matriz identidade |\n",
    "| arange(*início, fim, passo*) | cria um array unidimensioanl |\n",
    "| linspace(*início, fim, quantidade*) | cria um array unidimensioanl |\n",
    "| vstack([*arrays*]) e hstack([*arrays*]) | adiciona elementos de um ou mais arrays |\n",
    "\n",
    "\n",
    "Métodos para dimensionar os arrays:\n",
    " - reshape --> retorna um array com o shape indicado, não alterando permanetemente o array\n",
    " - resize --> modifica o shape do array em que está sendo aplicado, modificando permanetemente"
   ]
  },
  {
   "cell_type": "code",
   "execution_count": 19,
   "id": "db43bc22",
   "metadata": {},
   "outputs": [
    {
     "data": {
      "text/plain": [
       "array([0., 0., 0., 0., 0., 0.])"
      ]
     },
     "execution_count": 19,
     "metadata": {},
     "output_type": "execute_result"
    }
   ],
   "source": [
    "a_1 = np.zeros(6)\n",
    "a_1"
   ]
  },
  {
   "cell_type": "code",
   "execution_count": 20,
   "id": "7a1dd14c",
   "metadata": {},
   "outputs": [
    {
     "name": "stdout",
     "output_type": "stream",
     "text": [
      "[1. 1. 1.]\n",
      "[2. 2. 2.]\n"
     ]
    }
   ],
   "source": [
    "a_1 = np.ones(3)\n",
    "print(a_1)\n",
    "print(a_1 * 2)"
   ]
  },
  {
   "cell_type": "code",
   "execution_count": 21,
   "id": "261a57e7",
   "metadata": {},
   "outputs": [
    {
     "name": "stdout",
     "output_type": "stream",
     "text": [
      "[[1. 0. 0.]\n",
      " [0. 1. 0.]\n",
      " [0. 0. 1.]]\n",
      "2\n",
      "(3, 3)\n"
     ]
    }
   ],
   "source": [
    "identidade = np.eye(3)\n",
    "print(identidade)\n",
    "print(identidade.ndim)\n",
    "print(identidade.shape)"
   ]
  },
  {
   "cell_type": "code",
   "execution_count": 22,
   "id": "8ec449eb",
   "metadata": {},
   "outputs": [
    {
     "data": {
      "text/plain": [
       "array([0. , 0.5, 1. , 1.5, 2. , 2.5, 3. , 3.5, 4. , 4.5])"
      ]
     },
     "execution_count": 22,
     "metadata": {},
     "output_type": "execute_result"
    }
   ],
   "source": [
    "a_6 = np.arange(0, 5, 0.5)\n",
    "a_6"
   ]
  },
  {
   "cell_type": "code",
   "execution_count": 23,
   "id": "95041991",
   "metadata": {},
   "outputs": [
    {
     "data": {
      "text/plain": [
       "array([ 0.        ,  0.90909091,  1.81818182,  2.72727273,  3.63636364,\n",
       "        4.54545455,  5.45454545,  6.36363636,  7.27272727,  8.18181818,\n",
       "        9.09090909, 10.        ])"
      ]
     },
     "execution_count": 23,
     "metadata": {},
     "output_type": "execute_result"
    }
   ],
   "source": [
    "a_7 = np.linspace(0, 10, 12)\n",
    "a_7"
   ]
  },
  {
   "cell_type": "code",
   "execution_count": 24,
   "id": "de0a1824",
   "metadata": {},
   "outputs": [
    {
     "data": {
      "text/plain": [
       "array([[1., 1., 1., 1.],\n",
       "       [1., 1., 1., 1.]])"
      ]
     },
     "execution_count": 24,
     "metadata": {},
     "output_type": "execute_result"
    }
   ],
   "source": [
    "a_8 = np.ones(8)\n",
    "a_8.reshape(2, 4)"
   ]
  },
  {
   "cell_type": "code",
   "execution_count": 25,
   "id": "aeb26919",
   "metadata": {},
   "outputs": [
    {
     "data": {
      "text/plain": [
       "array([[1., 1.],\n",
       "       [1., 1.],\n",
       "       [1., 1.],\n",
       "       [1., 1.]])"
      ]
     },
     "execution_count": 25,
     "metadata": {},
     "output_type": "execute_result"
    }
   ],
   "source": [
    "a_8.resize(4, 2)\n",
    "a_8"
   ]
  },
  {
   "attachments": {},
   "cell_type": "markdown",
   "id": "38c3f05f",
   "metadata": {},
   "source": [
    "vstack((*arrays*)) e hstack((*arrays*)) | adiciona elementos de um ou mais arrays, o argumento é uma tupla.\n",
    "\n",
    "- vstack adiciona na vertical, logo é necessário que os arrays tenha a mesma quantidade de colunas\n",
    "- hstack adiciona na horizontal, logo é necessário que os arrays tenha a mesma quantidade de linhas\n"
   ]
  },
  {
   "cell_type": "code",
   "execution_count": 26,
   "id": "1e9cb2de",
   "metadata": {},
   "outputs": [],
   "source": [
    "a_9 = np.ones(8)\n",
    "a_9.resize(2, 4)\n",
    "\n",
    "a_10 = np.zeros(8)\n",
    "a_10.resize(2, 4)"
   ]
  },
  {
   "cell_type": "code",
   "execution_count": 27,
   "id": "5d9fe62c",
   "metadata": {},
   "outputs": [
    {
     "data": {
      "text/plain": [
       "array([[1., 1., 1., 1.],\n",
       "       [1., 1., 1., 1.],\n",
       "       [0., 0., 0., 0.],\n",
       "       [0., 0., 0., 0.]])"
      ]
     },
     "execution_count": 27,
     "metadata": {},
     "output_type": "execute_result"
    }
   ],
   "source": [
    "a_11 = np.vstack((a_9, a_10))\n",
    "a_11"
   ]
  },
  {
   "cell_type": "code",
   "execution_count": 28,
   "id": "1f518140",
   "metadata": {},
   "outputs": [
    {
     "data": {
      "text/plain": [
       "array([[1., 1., 1., 1., 0., 0., 0., 0.],\n",
       "       [1., 1., 1., 1., 0., 0., 0., 0.]])"
      ]
     },
     "execution_count": 28,
     "metadata": {},
     "output_type": "execute_result"
    }
   ],
   "source": [
    "a_12 = np.hstack((a_9, a_10))\n",
    "a_12"
   ]
  },
  {
   "attachments": {},
   "cell_type": "markdown",
   "id": "b6d2d08d",
   "metadata": {},
   "source": [
    "## 8.7. Método copy\n",
    "\n",
    "| Método | Descrição |\n",
    "| :-- | :-- |\n",
    "| .copy() | faz a cópia (deep copy) do array. Cuidado! O sinal de igual não executa essa função |\n",
    "\n",
    "\n",
    "Nota - a propriedade **base** retorna o array utilizado para criar o array em questão, arrays originais não possuem base, pois foram criados a partir de uma função.\n",
    "\n",
    "array.base\n",
    "\n",
    "\n"
   ]
  },
  {
   "cell_type": "code",
   "execution_count": 29,
   "id": "886f47af",
   "metadata": {},
   "outputs": [
    {
     "data": {
      "text/plain": [
       "array([0, 1, 2, 3, 4, 5, 6, 7])"
      ]
     },
     "execution_count": 29,
     "metadata": {},
     "output_type": "execute_result"
    }
   ],
   "source": [
    "a = np.arange(8)\n",
    "a"
   ]
  },
  {
   "cell_type": "code",
   "execution_count": 30,
   "id": "c7070c24",
   "metadata": {},
   "outputs": [
    {
     "data": {
      "text/plain": [
       "array([0, 1, 2, 3, 4, 5, 6, 7])"
      ]
     },
     "execution_count": 30,
     "metadata": {},
     "output_type": "execute_result"
    }
   ],
   "source": [
    "b = a  # adicionamos o mesmo array em outra variável (ligação)\n",
    "b"
   ]
  },
  {
   "cell_type": "code",
   "execution_count": 31,
   "id": "cba5fdab",
   "metadata": {},
   "outputs": [
    {
     "name": "stdout",
     "output_type": "stream",
     "text": [
      "[9 1 2 3 4 5 6 7]\n",
      "[9 1 2 3 4 5 6 7]\n"
     ]
    }
   ],
   "source": [
    "a[0] = 9\n",
    "print(a)\n",
    "print(b)"
   ]
  },
  {
   "cell_type": "code",
   "execution_count": 32,
   "id": "6c644db9",
   "metadata": {},
   "outputs": [
    {
     "data": {
      "text/plain": [
       "array([-3,  1,  2,  3,  4,  5,  6,  7])"
      ]
     },
     "execution_count": 32,
     "metadata": {},
     "output_type": "execute_result"
    }
   ],
   "source": [
    "c = a.copy()\n",
    "\n",
    "c[0] = -3\n",
    "c"
   ]
  },
  {
   "cell_type": "code",
   "execution_count": 33,
   "id": "762033f2",
   "metadata": {},
   "outputs": [
    {
     "data": {
      "text/plain": [
       "array([[9, 1, 2, 3],\n",
       "       [4, 5, 6, 7]])"
      ]
     },
     "execution_count": 33,
     "metadata": {},
     "output_type": "execute_result"
    }
   ],
   "source": [
    "d = a.reshape(2, 4)\n",
    "d"
   ]
  },
  {
   "cell_type": "code",
   "execution_count": 34,
   "id": "31f7d8ac",
   "metadata": {},
   "outputs": [
    {
     "data": {
      "text/plain": [
       "True"
      ]
     },
     "execution_count": 34,
     "metadata": {},
     "output_type": "execute_result"
    }
   ],
   "source": [
    "d.base is a  # Usamos o operador is ao invés de =="
   ]
  },
  {
   "attachments": {},
   "cell_type": "markdown",
   "id": "8e75ae48",
   "metadata": {},
   "source": [
    "## 8.8. Métodos matemáticos para arrays\n",
    "\n",
    "### Alguns métodos matemáticos para arrays\n",
    "\n",
    "\n",
    "\n",
    "| Método | Descrição |\n",
    "| :-- | :-- |\n",
    "| .max() / .min()  | retona os valores máximo e mínimo|\n",
    "| .argmax() / .argmin() | retorna os índices de valor máximo e mínimo |\n",
    "| .sum() / .mean() / .std() | soma, média e desvio padrão |\n",
    "|  .cumsum() | retorna um array com a soma acumulada |\n"
   ]
  },
  {
   "cell_type": "code",
   "execution_count": 35,
   "id": "ccfc261c",
   "metadata": {},
   "outputs": [
    {
     "data": {
      "text/plain": [
       "array([[11,  1,  4,  9],\n",
       "       [16, 25, 36, 49]])"
      ]
     },
     "execution_count": 35,
     "metadata": {},
     "output_type": "execute_result"
    }
   ],
   "source": [
    "my_array = np.arange(8).reshape(2, 4) ** 2\n",
    "my_array[0][0] = 11\n",
    "my_array"
   ]
  },
  {
   "cell_type": "code",
   "execution_count": 36,
   "id": "68d20f74",
   "metadata": {},
   "outputs": [
    {
     "data": {
      "text/plain": [
       "49"
      ]
     },
     "execution_count": 36,
     "metadata": {},
     "output_type": "execute_result"
    }
   ],
   "source": [
    "# Maior valor do array\n",
    "my_array.max()"
   ]
  },
  {
   "cell_type": "code",
   "execution_count": 37,
   "id": "bca97c20",
   "metadata": {},
   "outputs": [
    {
     "data": {
      "text/plain": [
       "7"
      ]
     },
     "execution_count": 37,
     "metadata": {},
     "output_type": "execute_result"
    }
   ],
   "source": [
    "# Índice do maior valor\n",
    "my_array.argmax()"
   ]
  },
  {
   "cell_type": "code",
   "execution_count": 38,
   "id": "a2f9a59b",
   "metadata": {},
   "outputs": [
    {
     "data": {
      "text/plain": [
       "18.875"
      ]
     },
     "execution_count": 38,
     "metadata": {},
     "output_type": "execute_result"
    }
   ],
   "source": [
    "# Média\n",
    "my_array.mean()"
   ]
  },
  {
   "cell_type": "code",
   "execution_count": 39,
   "id": "3edd38c5",
   "metadata": {},
   "outputs": [
    {
     "data": {
      "text/plain": [
       "15.599979967935857"
      ]
     },
     "execution_count": 39,
     "metadata": {},
     "output_type": "execute_result"
    }
   ],
   "source": [
    "# Desvio padrão\n",
    "my_array.std()"
   ]
  },
  {
   "cell_type": "code",
   "execution_count": 40,
   "id": "b58be9c5",
   "metadata": {},
   "outputs": [
    {
     "data": {
      "text/plain": [
       "array([ 11,  12,  16,  25,  41,  66, 102, 151])"
      ]
     },
     "execution_count": 40,
     "metadata": {},
     "output_type": "execute_result"
    }
   ],
   "source": [
    "# Soma acumulada\n",
    "my_array.cumsum()\n",
    "# [11, 11+1, 12+4, 16+9, 25+16, 41+25, 66+36, 102+49]"
   ]
  },
  {
   "attachments": {},
   "cell_type": "markdown",
   "id": "92865537",
   "metadata": {},
   "source": [
    "## 8.9. Índices e fatias de arrays (Indexing and slicing)\n",
    "\n",
    "### Guidelines\n",
    "\n",
    "https://scipy-lectures.org/intro/numpy/array_object.html#indexing-and-slicing\n",
    "\n",
    "\n",
    "| Sintaxe | Descrição |\n",
    "| :-- | :-- |\n",
    "| [i] | para 1 dimensão funciona como nas listas |\n",
    "| [:i] | exibe um array que vai do índice 0 até o anterior ao i|\n",
    "| [i:] | exibe um array que vai do índice posterior ao i até o último índice|\n",
    "|\n",
    "[::i] | exibe todos os elementos variando de i em i |\n",
    "| [::-i] | exibe a sequência de elementos de trás pra frente variando de i em i |\n",
    "| [a:b:c] | início, fim, step |\n",
    "| [i,j] | para exibir um elemento de uma matriz |\n",
    "| [i,a:b] | retorna uma fatia da linha i com elementos das colunas de a até b |\n",
    "| [n,i,j] | outra dimensão, linha, coluna |\n",
    "\n",
    "\n",
    "Quando criamos um subarray o numpy pode compartilhar memória entre arrays (como mostrado em aulas anteriores com a propriedade .base). Para descobrir se um array compartilha memória com outro use: **np.may_share_memory(a, c)**\n",
    "\n"
   ]
  },
  {
   "cell_type": "code",
   "execution_count": 41,
   "id": "fa185b0d",
   "metadata": {},
   "outputs": [
    {
     "data": {
      "text/plain": [
       "array([ 0,  1,  4,  9, 16, 25, 36, 49, 64, 81])"
      ]
     },
     "execution_count": 41,
     "metadata": {},
     "output_type": "execute_result"
    }
   ],
   "source": [
    "import numpy as np\n",
    "\n",
    "a = np.arange(10) ** 2\n",
    "a"
   ]
  },
  {
   "cell_type": "code",
   "execution_count": 42,
   "id": "8c932c02",
   "metadata": {},
   "outputs": [
    {
     "data": {
      "text/plain": [
       "0"
      ]
     },
     "execution_count": 42,
     "metadata": {},
     "output_type": "execute_result"
    }
   ],
   "source": [
    "a[0]"
   ]
  },
  {
   "cell_type": "code",
   "execution_count": 43,
   "id": "7775abe9",
   "metadata": {},
   "outputs": [
    {
     "data": {
      "text/plain": [
       "array([[ 0,  1,  2,  3,  4],\n",
       "       [ 5,  6,  7,  8,  9],\n",
       "       [10, 11, 12, 13, 14],\n",
       "       [15, 16, 17, 18, 19]])"
      ]
     },
     "execution_count": 43,
     "metadata": {},
     "output_type": "execute_result"
    }
   ],
   "source": [
    "b = np.arange(20).reshape(4, 5)\n",
    "b"
   ]
  },
  {
   "cell_type": "code",
   "execution_count": 44,
   "id": "45e4023f",
   "metadata": {},
   "outputs": [
    {
     "data": {
      "text/plain": [
       "array([0, 1, 2, 3, 4])"
      ]
     },
     "execution_count": 44,
     "metadata": {},
     "output_type": "execute_result"
    }
   ],
   "source": [
    "b[0]"
   ]
  },
  {
   "cell_type": "code",
   "execution_count": 45,
   "id": "d68b9d35",
   "metadata": {},
   "outputs": [
    {
     "data": {
      "text/plain": [
       "6"
      ]
     },
     "execution_count": 45,
     "metadata": {},
     "output_type": "execute_result"
    }
   ],
   "source": [
    "b[\n",
    "    1,\n",
    "    1,\n",
    "]"
   ]
  },
  {
   "cell_type": "code",
   "execution_count": 46,
   "id": "aad9fee8",
   "metadata": {},
   "outputs": [
    {
     "data": {
      "text/plain": [
       "array([7, 8, 9])"
      ]
     },
     "execution_count": 46,
     "metadata": {},
     "output_type": "execute_result"
    }
   ],
   "source": [
    "b[1, 2:]"
   ]
  },
  {
   "cell_type": "code",
   "execution_count": 47,
   "id": "0f8330da",
   "metadata": {},
   "outputs": [
    {
     "data": {
      "text/plain": [
       "array([[13, 14],\n",
       "       [18, 19]])"
      ]
     },
     "execution_count": 47,
     "metadata": {},
     "output_type": "execute_result"
    }
   ],
   "source": [
    "b[2:, 3:]"
   ]
  },
  {
   "cell_type": "code",
   "execution_count": 48,
   "id": "8dc5181c",
   "metadata": {},
   "outputs": [
    {
     "data": {
      "text/plain": [
       "array([[[ 0,  1,  2,  3,  4],\n",
       "        [ 5,  6,  7,  8,  9],\n",
       "        [10, 11, 12, 13, 14],\n",
       "        [15, 16, 17, 18, 19]],\n",
       "\n",
       "       [[20, 21, 22, 23, 24],\n",
       "        [25, 26, 27, 28, 29],\n",
       "        [30, 31, 32, 33, 34],\n",
       "        [35, 36, 37, 38, 39]]])"
      ]
     },
     "execution_count": 48,
     "metadata": {},
     "output_type": "execute_result"
    }
   ],
   "source": [
    "c = np.arange(40).reshape(2, 4, 5)\n",
    "c\n",
    "# c[z, x, y]\n",
    "# c[k, i, j]"
   ]
  },
  {
   "cell_type": "code",
   "execution_count": 49,
   "id": "5806d9e0",
   "metadata": {},
   "outputs": [
    {
     "data": {
      "text/plain": [
       "26"
      ]
     },
     "execution_count": 49,
     "metadata": {},
     "output_type": "execute_result"
    }
   ],
   "source": [
    "c[1, 1, 1]"
   ]
  },
  {
   "cell_type": "code",
   "execution_count": 50,
   "id": "69a3aa70",
   "metadata": {},
   "outputs": [
    {
     "data": {
      "text/plain": [
       "array([[13, 14],\n",
       "       [18, 19]])"
      ]
     },
     "execution_count": 50,
     "metadata": {},
     "output_type": "execute_result"
    }
   ],
   "source": [
    "d = b[2:, 3:]\n",
    "d"
   ]
  },
  {
   "attachments": {},
   "cell_type": "markdown",
   "id": "095e8ceb",
   "metadata": {},
   "source": [
    "Assim como nas listas existe **shallow copy**, no numpy também, para isso devemos fazer uma **deep copy** usando o método copy ou usando fatiamento de listas."
   ]
  },
  {
   "cell_type": "code",
   "execution_count": 51,
   "id": "d331aec9",
   "metadata": {},
   "outputs": [
    {
     "data": {
      "text/plain": [
       "True"
      ]
     },
     "execution_count": 51,
     "metadata": {},
     "output_type": "execute_result"
    }
   ],
   "source": [
    "d.base is b.base"
   ]
  },
  {
   "cell_type": "code",
   "execution_count": 52,
   "id": "026656a1",
   "metadata": {},
   "outputs": [
    {
     "data": {
      "text/plain": [
       "True"
      ]
     },
     "execution_count": 52,
     "metadata": {},
     "output_type": "execute_result"
    }
   ],
   "source": [
    "np.may_share_memory(b, d)"
   ]
  },
  {
   "cell_type": "code",
   "execution_count": 53,
   "id": "f085a50c",
   "metadata": {},
   "outputs": [],
   "source": [
    "e = b[2::, 3::]"
   ]
  },
  {
   "cell_type": "code",
   "execution_count": 54,
   "id": "7b47833f",
   "metadata": {},
   "outputs": [],
   "source": [
    "e = b[2:, 3:].copy()"
   ]
  },
  {
   "cell_type": "code",
   "execution_count": 55,
   "id": "3255b074",
   "metadata": {},
   "outputs": [
    {
     "data": {
      "text/plain": [
       "False"
      ]
     },
     "execution_count": 55,
     "metadata": {},
     "output_type": "execute_result"
    }
   ],
   "source": [
    "e is d"
   ]
  },
  {
   "attachments": {},
   "cell_type": "markdown",
   "id": "f1af6641",
   "metadata": {},
   "source": [
    "## 8.7. Operações com vetores e matrizes no Numpy\n",
    "\n",
    "- https://numpy.org/doc/stable/reference/routines.linalg.html\n",
    "- https://numpy.org/doc/stable/reference/generated/numpy.cross.html\n",
    "\n",
    "\n",
    "| Funções | Descrição |\n",
    "| :-- | :-- |\n",
    "|.dot(a,b) ou @ | retorna o produto escalar entre os vetores **a** e **b** |\n",
    "| .cross(a,b) | retorna o produto vetorial entre os vetores **a** e **b** |\n",
    "| .inner(a,b) e .outer(a,b) | retorna o produto interno e externo entre os vetores **a** e **b** |\n",
    "| .linalg.norm(a) | retorna a norma do vetor **a** |\n",
    "| .matmul(a,b) | produto entre as matrizes **a** e **b** |\n",
    "| .linalg.det(A) | retorna o determinante da matriz **A** |\n",
    "| .linalg.inv(A) | retorna a matriz inversa de **A** |"
   ]
  },
  {
   "cell_type": "code",
   "execution_count": 56,
   "id": "c0652237",
   "metadata": {},
   "outputs": [
    {
     "data": {
      "text/plain": [
       "1"
      ]
     },
     "execution_count": 56,
     "metadata": {},
     "output_type": "execute_result"
    }
   ],
   "source": [
    "import numpy as np\n",
    "\n",
    "a = np.array([1, 2, 3])\n",
    "a.ndim"
   ]
  },
  {
   "cell_type": "code",
   "execution_count": 57,
   "id": "bdb9ddd8",
   "metadata": {},
   "outputs": [
    {
     "data": {
      "text/plain": [
       "array([1, 2, 3])"
      ]
     },
     "execution_count": 57,
     "metadata": {},
     "output_type": "execute_result"
    }
   ],
   "source": [
    "a"
   ]
  },
  {
   "cell_type": "code",
   "execution_count": 58,
   "id": "34bb74e6",
   "metadata": {},
   "outputs": [
    {
     "data": {
      "text/plain": [
       "14"
      ]
     },
     "execution_count": 58,
     "metadata": {},
     "output_type": "execute_result"
    }
   ],
   "source": [
    "# Produto escalar\n",
    "np.dot(a, a)\n",
    "\n",
    "# equivalente a\n",
    "a @ a"
   ]
  },
  {
   "cell_type": "code",
   "execution_count": 59,
   "id": "04f798cd",
   "metadata": {},
   "outputs": [
    {
     "data": {
      "text/plain": [
       "14"
      ]
     },
     "execution_count": 59,
     "metadata": {},
     "output_type": "execute_result"
    }
   ],
   "source": [
    "# Produto interno\n",
    "np.inner(a, a)"
   ]
  },
  {
   "cell_type": "code",
   "execution_count": 60,
   "id": "39849070",
   "metadata": {},
   "outputs": [
    {
     "data": {
      "text/plain": [
       "array([[1, 2, 3],\n",
       "       [2, 4, 6],\n",
       "       [3, 6, 9]])"
      ]
     },
     "execution_count": 60,
     "metadata": {},
     "output_type": "execute_result"
    }
   ],
   "source": [
    "# Produto externo\n",
    "np.outer(a, a)"
   ]
  },
  {
   "cell_type": "code",
   "execution_count": 61,
   "id": "fa9cba98",
   "metadata": {},
   "outputs": [
    {
     "data": {
      "text/plain": [
       "3.7416573867739413"
      ]
     },
     "execution_count": 61,
     "metadata": {},
     "output_type": "execute_result"
    }
   ],
   "source": [
    "# Norma de um vetor(intensidade)\n",
    "np.linalg.norm(a)"
   ]
  },
  {
   "cell_type": "code",
   "execution_count": 62,
   "id": "8bfd3355",
   "metadata": {},
   "outputs": [
    {
     "name": "stdout",
     "output_type": "stream",
     "text": [
      "3.7416573867739413\n"
     ]
    }
   ],
   "source": [
    "# Norma do mesmo vetor\n",
    "print(np.sqrt(1**2 + 2**2 + 3**2))"
   ]
  },
  {
   "cell_type": "code",
   "execution_count": 63,
   "id": "f5eb1f1b",
   "metadata": {},
   "outputs": [
    {
     "data": {
      "text/plain": [
       "array([0, 0, 1])"
      ]
     },
     "execution_count": 63,
     "metadata": {},
     "output_type": "execute_result"
    }
   ],
   "source": [
    "# Produto vetorial\n",
    "v_1 = np.array([1, 0, 0])  # vetor i\n",
    "v_2 = np.array([0, 1, 0])  # vetor j\n",
    "\n",
    "np.cross(v_1, v_2)"
   ]
  },
  {
   "attachments": {},
   "cell_type": "markdown",
   "id": "cd7285d3",
   "metadata": {},
   "source": [
    "#### Matrizes"
   ]
  },
  {
   "cell_type": "code",
   "execution_count": 64,
   "id": "d95ca6ff",
   "metadata": {},
   "outputs": [
    {
     "data": {
      "text/plain": [
       "array([[1, 2],\n",
       "       [4, 4]])"
      ]
     },
     "execution_count": 64,
     "metadata": {},
     "output_type": "execute_result"
    }
   ],
   "source": [
    "A = np.array([[1, 2], [4, 4]])\n",
    "A"
   ]
  },
  {
   "cell_type": "code",
   "execution_count": 65,
   "id": "1668c581",
   "metadata": {},
   "outputs": [
    {
     "data": {
      "text/plain": [
       "array([[ 1,  4],\n",
       "       [16, 16]])"
      ]
     },
     "execution_count": 65,
     "metadata": {},
     "output_type": "execute_result"
    }
   ],
   "source": [
    "np.matmul(A, A)\n",
    "# Cuidado! isso é diferente de A*A, pois eleva a matriz ao quadrado\n",
    "\n",
    "# Também podemos simplificar a multiplicação usando\n",
    "A * A"
   ]
  },
  {
   "cell_type": "code",
   "execution_count": 66,
   "id": "3087c116",
   "metadata": {},
   "outputs": [
    {
     "data": {
      "text/plain": [
       "-4.0"
      ]
     },
     "execution_count": 66,
     "metadata": {},
     "output_type": "execute_result"
    }
   ],
   "source": [
    "np.linalg.det(A)"
   ]
  },
  {
   "cell_type": "code",
   "execution_count": 67,
   "id": "e8d039f3",
   "metadata": {},
   "outputs": [
    {
     "data": {
      "text/plain": [
       "array([[-1.  ,  0.5 ],\n",
       "       [ 1.  , -0.25]])"
      ]
     },
     "execution_count": 67,
     "metadata": {},
     "output_type": "execute_result"
    }
   ],
   "source": [
    "np.linalg.inv(A)"
   ]
  },
  {
   "cell_type": "code",
   "execution_count": null,
   "id": "0f31029e",
   "metadata": {},
   "outputs": [],
   "source": []
  },
  {
   "attachments": {},
   "cell_type": "markdown",
   "id": "7fd06a5a",
   "metadata": {},
   "source": [
    "### Vetores com o Sympy"
   ]
  },
  {
   "cell_type": "code",
   "execution_count": 68,
   "id": "c014141e",
   "metadata": {},
   "outputs": [],
   "source": [
    "import sympy as sp"
   ]
  },
  {
   "cell_type": "code",
   "execution_count": 69,
   "id": "41a2d1af",
   "metadata": {},
   "outputs": [],
   "source": [
    "a_s = sp.Matrix([1, 2, 3])"
   ]
  },
  {
   "cell_type": "code",
   "execution_count": 70,
   "id": "da19e9c0",
   "metadata": {},
   "outputs": [
    {
     "data": {
      "text/latex": [
       "$\\displaystyle \\left[\\begin{matrix}1\\\\2\\\\3\\end{matrix}\\right]$"
      ],
      "text/plain": [
       "Matrix([\n",
       "[1],\n",
       "[2],\n",
       "[3]])"
      ]
     },
     "execution_count": 70,
     "metadata": {},
     "output_type": "execute_result"
    }
   ],
   "source": [
    "a_s"
   ]
  },
  {
   "cell_type": "code",
   "execution_count": 71,
   "id": "9f01b739",
   "metadata": {},
   "outputs": [
    {
     "data": {
      "text/latex": [
       "$\\displaystyle \\left[\\begin{matrix}14\\end{matrix}\\right]$"
      ],
      "text/plain": [
       "Matrix([[14]])"
      ]
     },
     "execution_count": 71,
     "metadata": {},
     "output_type": "execute_result"
    }
   ],
   "source": [
    "# Produto escalar\n",
    "a_s.T * a_s"
   ]
  },
  {
   "cell_type": "code",
   "execution_count": 72,
   "id": "50bac943",
   "metadata": {},
   "outputs": [
    {
     "data": {
      "text/latex": [
       "$\\displaystyle \\left[\\begin{matrix}1 & 2 & 3\\\\2 & 4 & 6\\\\3 & 6 & 9\\end{matrix}\\right]$"
      ],
      "text/plain": [
       "Matrix([\n",
       "[1, 2, 3],\n",
       "[2, 4, 6],\n",
       "[3, 6, 9]])"
      ]
     },
     "execution_count": 72,
     "metadata": {},
     "output_type": "execute_result"
    }
   ],
   "source": [
    "# Produto vetorial\n",
    "a_s * a_s.T"
   ]
  },
  {
   "attachments": {},
   "cell_type": "markdown",
   "id": "54e12f3d",
   "metadata": {},
   "source": [
    "#### Matrizes"
   ]
  },
  {
   "cell_type": "code",
   "execution_count": 73,
   "id": "c3ec4636",
   "metadata": {},
   "outputs": [
    {
     "data": {
      "text/latex": [
       "$\\displaystyle \\left[\\begin{matrix}9 & 10\\\\20 & 24\\end{matrix}\\right]$"
      ],
      "text/plain": [
       "Matrix([\n",
       "[ 9, 10],\n",
       "[20, 24]])"
      ]
     },
     "execution_count": 73,
     "metadata": {},
     "output_type": "execute_result"
    }
   ],
   "source": [
    "A_s = sp.Matrix([[1, 2], [4, 4]])\n",
    "A_s * A_s"
   ]
  },
  {
   "cell_type": "code",
   "execution_count": 74,
   "id": "cd5acc27",
   "metadata": {},
   "outputs": [
    {
     "data": {
      "text/latex": [
       "$\\displaystyle -4$"
      ],
      "text/plain": [
       "-4"
      ]
     },
     "execution_count": 74,
     "metadata": {},
     "output_type": "execute_result"
    }
   ],
   "source": [
    "A_s.det()"
   ]
  },
  {
   "cell_type": "code",
   "execution_count": 75,
   "id": "5faeb910",
   "metadata": {},
   "outputs": [
    {
     "data": {
      "text/latex": [
       "$\\displaystyle \\left[\\begin{matrix}-1 & \\frac{1}{2}\\\\1 & - \\frac{1}{4}\\end{matrix}\\right]$"
      ],
      "text/plain": [
       "Matrix([\n",
       "[-1,  1/2],\n",
       "[ 1, -1/4]])"
      ]
     },
     "execution_count": 75,
     "metadata": {},
     "output_type": "execute_result"
    }
   ],
   "source": [
    "A_s ** (-1)"
   ]
  },
  {
   "attachments": {},
   "cell_type": "markdown",
   "id": "d39459d7",
   "metadata": {},
   "source": [
    "## 8.8. Autovalor e autovetor\n",
    "\n",
    "- https://numpy.org/doc/stable/reference/routines.linalg.html\n",
    "\n",
    "\n",
    "| Funções | Descrição |\n",
    "| :-- | :-- |\n",
    "| linalg.eig(A) | retorna os autovalores e autovetores da matrix **A** |\n"
   ]
  },
  {
   "cell_type": "code",
   "execution_count": 76,
   "id": "46135c0c",
   "metadata": {},
   "outputs": [
    {
     "data": {
      "text/latex": [
       "$\\displaystyle \\left[\\begin{matrix}5.0 & 3 & -1\\\\3 & 4 & 0\\\\-1 & 0 & 2\\end{matrix}\\right]$"
      ],
      "text/plain": [
       "Matrix([\n",
       "[5.0, 3, -1],\n",
       "[  3, 4,  0],\n",
       "[ -1, 0,  2]])"
      ]
     },
     "execution_count": 76,
     "metadata": {},
     "output_type": "execute_result"
    }
   ],
   "source": [
    "import sympy as sp\n",
    "\n",
    "lamb = sp.symbols(\"lambda\")\n",
    "A_s = sp.Matrix([[5.0, 3, -1], [3, 4, 0], [-1, 0, 2]])\n",
    "A_s"
   ]
  },
  {
   "cell_type": "code",
   "execution_count": 77,
   "id": "f746553f",
   "metadata": {},
   "outputs": [
    {
     "data": {
      "text/latex": [
       "$\\displaystyle \\left[\\begin{matrix}\\lambda & 0 & 0\\\\0 & \\lambda & 0\\\\0 & 0 & \\lambda\\end{matrix}\\right]$"
      ],
      "text/plain": [
       "Matrix([\n",
       "[lambda,      0,      0],\n",
       "[     0, lambda,      0],\n",
       "[     0,      0, lambda]])"
      ]
     },
     "execution_count": 77,
     "metadata": {},
     "output_type": "execute_result"
    }
   ],
   "source": [
    "ide = sp.eye(3) * lamb\n",
    "ide"
   ]
  },
  {
   "cell_type": "code",
   "execution_count": 78,
   "id": "bbf80e13",
   "metadata": {},
   "outputs": [
    {
     "data": {
      "text/latex": [
       "$\\displaystyle \\left[\\begin{matrix}5.0 - \\lambda & 3 & -1\\\\3 & 4 - \\lambda & 0\\\\-1 & 0 & 2 - \\lambda\\end{matrix}\\right]$"
      ],
      "text/plain": [
       "Matrix([\n",
       "[5.0 - lambda,          3,         -1],\n",
       "[           3, 4 - lambda,          0],\n",
       "[          -1,          0, 2 - lambda]])"
      ]
     },
     "execution_count": 78,
     "metadata": {},
     "output_type": "execute_result"
    }
   ],
   "source": [
    "eq = A_s - ide\n",
    "eq"
   ]
  },
  {
   "cell_type": "code",
   "execution_count": 79,
   "id": "e221685d",
   "metadata": {},
   "outputs": [
    {
     "data": {
      "text/latex": [
       "$\\displaystyle - \\lambda^{3} + 11.0 \\lambda^{2} - 28.0 \\lambda + 18.0$"
      ],
      "text/plain": [
       "-lambda**3 + 11.0*lambda**2 - 28.0*lambda + 18.0"
      ]
     },
     "execution_count": 79,
     "metadata": {},
     "output_type": "execute_result"
    }
   ],
   "source": [
    "eq2 = eq.det()\n",
    "eq2"
   ]
  },
  {
   "cell_type": "code",
   "execution_count": 80,
   "id": "e2829549",
   "metadata": {},
   "outputs": [
    {
     "data": {
      "text/plain": [
       "[1.00000000000000, 2.35424868893541, 7.64575131106459]"
      ]
     },
     "execution_count": 80,
     "metadata": {},
     "output_type": "execute_result"
    }
   ],
   "source": [
    "sp.solve(eq2, lamb)"
   ]
  },
  {
   "cell_type": "code",
   "execution_count": 89,
   "id": "c6c76404",
   "metadata": {},
   "outputs": [],
   "source": [
    "# Com o numpy\n",
    "import numpy as np\n",
    "\n",
    "A = np.array([[5.0, 3, -1], [3, 4, 0], [-1, 0, 2]])"
   ]
  },
  {
   "cell_type": "code",
   "execution_count": 82,
   "id": "31304822",
   "metadata": {},
   "outputs": [
    {
     "data": {
      "text/plain": [
       "(array([7.64575131, 1.        , 2.35424869]),\n",
       " array([[-0.76505532, -0.57735027, -0.28523152],\n",
       "        [-0.6295454 ,  0.57735027,  0.51994159],\n",
       "        [ 0.13550992, -0.57735027,  0.8051731 ]]))"
      ]
     },
     "execution_count": 82,
     "metadata": {},
     "output_type": "execute_result"
    }
   ],
   "source": [
    "np.linalg.eig(A)"
   ]
  },
  {
   "cell_type": "code",
   "execution_count": 83,
   "id": "b153259a",
   "metadata": {},
   "outputs": [],
   "source": [
    "l, v = np.linalg.eig(A)"
   ]
  },
  {
   "cell_type": "code",
   "execution_count": 84,
   "id": "55e2a1ea",
   "metadata": {},
   "outputs": [
    {
     "data": {
      "text/plain": [
       "array([7.64575131, 1.        , 2.35424869])"
      ]
     },
     "execution_count": 84,
     "metadata": {},
     "output_type": "execute_result"
    }
   ],
   "source": [
    "l"
   ]
  },
  {
   "cell_type": "code",
   "execution_count": 85,
   "id": "98bc85a4",
   "metadata": {},
   "outputs": [
    {
     "data": {
      "text/plain": [
       "array([[-0.76505532, -0.57735027, -0.28523152],\n",
       "       [-0.6295454 ,  0.57735027,  0.51994159],\n",
       "       [ 0.13550992, -0.57735027,  0.8051731 ]])"
      ]
     },
     "execution_count": 85,
     "metadata": {},
     "output_type": "execute_result"
    }
   ],
   "source": [
    "v"
   ]
  },
  {
   "attachments": {},
   "cell_type": "markdown",
   "id": "4a376f68",
   "metadata": {},
   "source": [
    "## 8.9. Solver para Sistemas lineares\n",
    "\n",
    "- https://numpy.org/doc/stable/reference/routines.linalg.html\n",
    "\n",
    "\n",
    "| Função | Descrição |\n",
    "| :-- | :-- |\n",
    "| .linalg.solve(A, B) | resolve um sistema do tipo AX= B |"
   ]
  },
  {
   "attachments": {},
   "cell_type": "markdown",
   "id": "40029bbf",
   "metadata": {},
   "source": [
    "## 7.10. Exercício 5\n",
    "Dadas as matrizes, resolva o sistema de equação $[A].\\{X\\} = \\{B\\}$\n",
    "\n",
    "$$ A=\n",
    " \\begin{bmatrix}\n",
    "   1 & 1 & 1 \\\\\\\\\n",
    "   1 & 2 & 2 \\\\\\\\\n",
    "   2 & 1 & 3 \n",
    "\\end{bmatrix}\n",
    "$$\n",
    "\n",
    "$$ X=\n",
    " \\begin{bmatrix}\n",
    "   x_1 \\\\\\\\\n",
    "   x_2 \\\\\\\\\n",
    "   x_3 \n",
    "\\end{bmatrix}\n",
    "$$\n",
    "\n",
    "$$ B=\n",
    " \\begin{bmatrix}\n",
    "   6 \\\\\\\\\n",
    "   9 \\\\\\\\\n",
    "   11 \n",
    "\\end{bmatrix}\n",
    "$$"
   ]
  },
  {
   "cell_type": "code",
   "execution_count": 86,
   "id": "acd2bce3",
   "metadata": {},
   "outputs": [
    {
     "data": {
      "text/plain": [
       "array([[1, 1, 1],\n",
       "       [1, 2, 2],\n",
       "       [2, 1, 3]])"
      ]
     },
     "execution_count": 86,
     "metadata": {},
     "output_type": "execute_result"
    }
   ],
   "source": [
    "import numpy as np\n",
    "\n",
    "A = np.array(\n",
    "    [\n",
    "        [\n",
    "            1,\n",
    "            1,\n",
    "            1,\n",
    "        ],\n",
    "        [1, 2, 2],\n",
    "        [2, 1, 3],\n",
    "    ]\n",
    ")\n",
    "\n",
    "A"
   ]
  },
  {
   "cell_type": "code",
   "execution_count": 87,
   "id": "6dd0e4ec",
   "metadata": {},
   "outputs": [
    {
     "data": {
      "text/plain": [
       "1"
      ]
     },
     "execution_count": 87,
     "metadata": {},
     "output_type": "execute_result"
    }
   ],
   "source": [
    "B = np.array([6, 9, 11])\n",
    "B.ndim"
   ]
  },
  {
   "cell_type": "code",
   "execution_count": 88,
   "id": "9d0e7966",
   "metadata": {},
   "outputs": [
    {
     "data": {
      "text/plain": [
       "array([3., 2., 1.])"
      ]
     },
     "execution_count": 88,
     "metadata": {},
     "output_type": "execute_result"
    }
   ],
   "source": [
    "np.linalg.solve(A, B)"
   ]
  }
 ],
 "metadata": {
  "kernelspec": {
   "display_name": "Python 3 (ipykernel)",
   "language": "python",
   "name": "python3"
  },
  "language_info": {
   "codemirror_mode": {
    "name": "ipython",
    "version": 3
   },
   "file_extension": ".py",
   "mimetype": "text/x-python",
   "name": "python",
   "nbconvert_exporter": "python",
   "pygments_lexer": "ipython3",
   "version": "3.10.11"
  }
 },
 "nbformat": 4,
 "nbformat_minor": 5
}
