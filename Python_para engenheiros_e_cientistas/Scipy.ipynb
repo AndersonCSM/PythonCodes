{
 "cells": [
  {
   "cell_type": "markdown",
   "id": "e8a86f9e",
   "metadata": {},
   "source": [
    "# 11. Scipy\n",
    "\n",
    "https://docs.scipy.org/doc/scipy/reference/\n",
    "\n",
    "O scipy não é tratado como uma biblioteca, mas como um software composto por várias bibliotecas\n",
    "\n",
    "# 11.1. Álgebra linear (linalg)\n",
    "\n",
    "\n",
    "## 11.1.1. Funções para álgebra linear\n",
    "\n",
    "**from scipy import linalg**\n",
    "\n",
    "#### Propriedades de arrays\n",
    "\n",
    "\n",
    "| Funções | Descrição |\n",
    "| :-- | :-- |\n",
    "| linalg.inv(arg) | Retona a inversa de uma matriz  |\n",
    "| linalg.det(arg) | Acha a determinante de uma matriz  |\n",
    "| linalg.norm(arg) | Acha a norma de um vetor |\n",
    "| linalg.solve(arg) | Resolve um sistema linear  (mais eficiente que o sympy)|\n",
    "|  linalg.eig(arg) | Retorna autovalor e autovetor |\n"
   ]
  },
  {
   "cell_type": "code",
   "execution_count": 1,
   "id": "ed1725e3",
   "metadata": {},
   "outputs": [],
   "source": [
    "from scipy import linalg\n",
    "import numpy as np\n"
   ]
  },
  {
   "cell_type": "code",
   "execution_count": 2,
   "id": "64ceafee",
   "metadata": {},
   "outputs": [
    {
     "data": {
      "text/plain": [
       "array([[0, 1, 2],\n",
       "       [3, 4, 5],\n",
       "       [6, 7, 8]])"
      ]
     },
     "execution_count": 2,
     "metadata": {},
     "output_type": "execute_result"
    }
   ],
   "source": [
    "A = np.arange(9).reshape(3,3)\n",
    "A"
   ]
  },
  {
   "cell_type": "code",
   "execution_count": 3,
   "id": "48d4e009",
   "metadata": {},
   "outputs": [
    {
     "data": {
      "text/plain": [
       "array([[10,  1,  2],\n",
       "       [ 3,  4,  5],\n",
       "       [ 6,  7,  8]])"
      ]
     },
     "execution_count": 3,
     "metadata": {},
     "output_type": "execute_result"
    }
   ],
   "source": [
    "A[0,0] = 10\n",
    "A"
   ]
  },
  {
   "cell_type": "code",
   "execution_count": 4,
   "id": "d9987869",
   "metadata": {},
   "outputs": [
    {
     "data": {
      "text/plain": [
       "array([[7, 1, 2],\n",
       "       [3, 4, 5],\n",
       "       [6, 7, 8]])"
      ]
     },
     "execution_count": 4,
     "metadata": {},
     "output_type": "execute_result"
    }
   ],
   "source": [
    "A[0][0] = 7\n",
    "A"
   ]
  },
  {
   "cell_type": "code",
   "execution_count": 5,
   "id": "d7a6bbd8",
   "metadata": {},
   "outputs": [
    {
     "data": {
      "text/plain": [
       "-21.00000000000004"
      ]
     },
     "execution_count": 5,
     "metadata": {},
     "output_type": "execute_result"
    }
   ],
   "source": [
    "linalg.det(A)"
   ]
  },
  {
   "cell_type": "code",
   "execution_count": 6,
   "id": "d0b07254",
   "metadata": {},
   "outputs": [
    {
     "data": {
      "text/plain": [
       "array([[ 0.14285714, -0.28571429,  0.14285714],\n",
       "       [-0.28571429, -2.0952381 ,  1.38095238],\n",
       "       [ 0.14285714,  2.04761905, -1.19047619]])"
      ]
     },
     "execution_count": 6,
     "metadata": {},
     "output_type": "execute_result"
    }
   ],
   "source": [
    "linalg.inv(A)"
   ]
  },
  {
   "cell_type": "markdown",
   "id": "809f7bd0",
   "metadata": {},
   "source": [
    "## 11.1.2. Exercício 1\n",
    "Dadas as matrizes A,B, C e D, calcule, para cada uma, o determinante, a matriz transposta e a matriz inversa.\n",
    "\n",
    "$$ A=\n",
    " \\begin{bmatrix}\n",
    "   1 & 2 \\\\\\\\\n",
    "   4 & 5\n",
    "  \\end{bmatrix}\n",
    "$$\n",
    "\n",
    "$$ B=\n",
    " \\begin{bmatrix}\n",
    "   cos(\\pi/4) & -sen(\\pi/4) \\\\\\\\\n",
    "   sen(\\pi/4) & cos(\\pi/4)\n",
    "  \\end{bmatrix}\n",
    "$$\n",
    "\n",
    "$$ C=\n",
    " \\begin{bmatrix}\n",
    "   2 & -2 \\\\\\\\\n",
    "   -2 & 5\n",
    "  \\end{bmatrix}\n",
    "$$\n",
    "\n",
    "$$\n",
    "D=\n",
    " \\begin{bmatrix}\n",
    "   2 & 2 \\\\\\\\\n",
    "   4 & 4\n",
    "  \\end{bmatrix}\n",
    "$$\n",
    "\n",
    "\n",
    "Notas:\n",
    "- A tem determinante diferente de zero\n",
    "- B é uma matriz ortogonal, sua inversa é igual a sua transposta, e seu det deve ser + ou -1\n",
    "- C é uma matriz simétrica, ela é igual a sua transposta\n",
    "- D possui determinante igual a zero, portanto não é inversível"
   ]
  },
  {
   "cell_type": "code",
   "execution_count": 7,
   "id": "eff93e2e",
   "metadata": {},
   "outputs": [],
   "source": [
    "A = np.array([[1,2],[4,5]])\n",
    "B = np.array([[np.cos(np.pi/4), -np.sin(np.pi/4)],\n",
    "            [np.sin(np.pi/4), np.cos(np.pi/4)]])\n",
    "C = np.array([[2,-2],[-2,5]])\n",
    "D = np.array([[2,2],[4,4]])\n"
   ]
  },
  {
   "cell_type": "code",
   "execution_count": 8,
   "id": "5ef9011b",
   "metadata": {},
   "outputs": [
    {
     "data": {
      "text/plain": [
       "-3.0"
      ]
     },
     "execution_count": 8,
     "metadata": {},
     "output_type": "execute_result"
    }
   ],
   "source": [
    "linalg.det(A)"
   ]
  },
  {
   "cell_type": "code",
   "execution_count": 9,
   "id": "5e980d3c",
   "metadata": {},
   "outputs": [
    {
     "data": {
      "text/plain": [
       "array([[1, 4],\n",
       "       [2, 5]])"
      ]
     },
     "execution_count": 9,
     "metadata": {},
     "output_type": "execute_result"
    }
   ],
   "source": [
    "A.T"
   ]
  },
  {
   "cell_type": "code",
   "execution_count": 10,
   "id": "149018cf",
   "metadata": {},
   "outputs": [
    {
     "data": {
      "text/plain": [
       "array([[-1.66666667,  0.66666667],\n",
       "       [ 1.33333333, -0.33333333]])"
      ]
     },
     "execution_count": 10,
     "metadata": {},
     "output_type": "execute_result"
    }
   ],
   "source": [
    "linalg.inv(A)"
   ]
  },
  {
   "cell_type": "code",
   "execution_count": 11,
   "id": "aed96ed2",
   "metadata": {},
   "outputs": [
    {
     "data": {
      "text/plain": [
       "array([[ 0.70710678,  0.70710678],\n",
       "       [-0.70710678,  0.70710678]])"
      ]
     },
     "execution_count": 11,
     "metadata": {},
     "output_type": "execute_result"
    }
   ],
   "source": [
    "linalg.det(B)\n",
    "B.T"
   ]
  },
  {
   "cell_type": "code",
   "execution_count": 12,
   "id": "047409d4",
   "metadata": {},
   "outputs": [
    {
     "data": {
      "text/plain": [
       "array([[ 0.70710678,  0.70710678],\n",
       "       [-0.70710678,  0.70710678]])"
      ]
     },
     "execution_count": 12,
     "metadata": {},
     "output_type": "execute_result"
    }
   ],
   "source": [
    "linalg.inv(B)"
   ]
  },
  {
   "cell_type": "code",
   "execution_count": 13,
   "id": "e81612af",
   "metadata": {},
   "outputs": [
    {
     "data": {
      "text/plain": [
       "array([[ 2, -2],\n",
       "       [-2,  5]])"
      ]
     },
     "execution_count": 13,
     "metadata": {},
     "output_type": "execute_result"
    }
   ],
   "source": [
    "C.T"
   ]
  },
  {
   "cell_type": "code",
   "execution_count": 14,
   "id": "748e8089",
   "metadata": {},
   "outputs": [
    {
     "data": {
      "text/plain": [
       "0.0"
      ]
     },
     "execution_count": 14,
     "metadata": {},
     "output_type": "execute_result"
    }
   ],
   "source": [
    "linalg.det(D)"
   ]
  },
  {
   "cell_type": "markdown",
   "id": "c8d02577",
   "metadata": {},
   "source": [
    "## 11.1.3. Exercício 2\n",
    "Dadas as matrizes, resolva o sistema de equação $[A].\\{X\\} = \\{B\\}$\n",
    "\n",
    "$$ A=\n",
    " \\begin{bmatrix}\n",
    "   1 & 1 & 1 \\\\\\\\\n",
    "   1 & 2 & 2 \\\\\\\\\n",
    "   2 & 1 & 3 \n",
    "\\end{bmatrix}\n",
    "$$\n",
    "\n",
    "$$ X=\n",
    " \\begin{bmatrix}\n",
    "   x_1 \\\\\\\\\n",
    "   x_2 \\\\\\\\\n",
    "   x_3 \n",
    "\\end{bmatrix}\n",
    "$$\n",
    "\n",
    "$$ B=\n",
    " \\begin{bmatrix}\n",
    "   6 \\\\\\\\\n",
    "   9 \\\\\\\\\n",
    "   11 \n",
    "\\end{bmatrix}\n",
    "$$"
   ]
  },
  {
   "cell_type": "code",
   "execution_count": 15,
   "id": "c59991ca",
   "metadata": {},
   "outputs": [
    {
     "data": {
      "text/plain": [
       "array([ 6,  9, 11])"
      ]
     },
     "execution_count": 15,
     "metadata": {},
     "output_type": "execute_result"
    }
   ],
   "source": [
    "A = np.array([[1,1,1],[1,2,2],[2,1,3]])\n",
    "B = np.array([6,9,11])\n",
    "B"
   ]
  },
  {
   "cell_type": "code",
   "execution_count": 16,
   "id": "e6149069",
   "metadata": {},
   "outputs": [
    {
     "data": {
      "text/plain": [
       "array([3., 2., 1.])"
      ]
     },
     "execution_count": 16,
     "metadata": {},
     "output_type": "execute_result"
    }
   ],
   "source": [
    "x = linalg.solve(A, B)\n",
    "x"
   ]
  },
  {
   "cell_type": "code",
   "execution_count": 17,
   "id": "c1caae9b",
   "metadata": {},
   "outputs": [
    {
     "data": {
      "text/plain": [
       "array([ 6.,  9., 11.])"
      ]
     },
     "execution_count": 17,
     "metadata": {},
     "output_type": "execute_result"
    }
   ],
   "source": [
    "A@x"
   ]
  },
  {
   "cell_type": "code",
   "execution_count": null,
   "id": "7ccecbcb",
   "metadata": {},
   "outputs": [],
   "source": []
  },
  {
   "cell_type": "markdown",
   "id": "24030c20",
   "metadata": {},
   "source": [
    "## 11.1.4. Exercício 3\n",
    "Ache os autovalores e autovetores para as matrizes abaixo.\n",
    "\n",
    "$$ A=\n",
    " \\begin{bmatrix}\n",
    "   -1 & 6 \\\\\\\\\n",
    "   0 & 5\n",
    "  \\end{bmatrix}\n",
    "$$\n",
    "\n",
    "$$ B=\n",
    " \\begin{bmatrix}\n",
    "   -1/3 & 0 & 0 \\\\\\\\\n",
    "   0 & 1 & 0 \\\\\\\\\n",
    "   0 & 0 & 1/2\n",
    "  \\end{bmatrix}\n",
    "$$\n",
    "\n",
    "O autovalor e autovetor se associam à matriz da seguinte forma:\n",
    "\n",
    "$$ [A] \\{X\\} = \\lambda \\{X\\} $$"
   ]
  },
  {
   "cell_type": "code",
   "execution_count": 18,
   "id": "271bcafa",
   "metadata": {},
   "outputs": [],
   "source": [
    "A = np.array([[-1, 6],[0, 5]])\n",
    "B = np.array([[-1/3, 0, 0],[0, 1, 0],[0, 0, 0.5]])"
   ]
  },
  {
   "cell_type": "code",
   "execution_count": 19,
   "id": "1b7b6d75",
   "metadata": {},
   "outputs": [],
   "source": [
    "autovalor, autovetor = linalg.eig(A)\n",
    "# Primeira linha autovalores\n",
    "# Segunda linha autovetores na coluna.\n"
   ]
  },
  {
   "cell_type": "code",
   "execution_count": 20,
   "id": "09bf1530",
   "metadata": {},
   "outputs": [
    {
     "data": {
      "text/plain": [
       "numpy.ndarray"
      ]
     },
     "execution_count": 20,
     "metadata": {},
     "output_type": "execute_result"
    }
   ],
   "source": [
    "type(autovetor)"
   ]
  },
  {
   "cell_type": "code",
   "execution_count": 21,
   "id": "421cfff8",
   "metadata": {},
   "outputs": [
    {
     "data": {
      "text/plain": [
       "array([1., 0.])"
      ]
     },
     "execution_count": 21,
     "metadata": {},
     "output_type": "execute_result"
    }
   ],
   "source": [
    "autovetor[::, 0]"
   ]
  },
  {
   "cell_type": "markdown",
   "id": "9ef70cee",
   "metadata": {},
   "source": [
    "# 11.2 - Cálculo (integrate)\n",
    "## 11.2.1 - Integral\n",
    "**from scipy.integrate import quad, dblquad**\n",
    "\n",
    "\n",
    "| Funções | Descrição |\n",
    "| :-- | :-- |\n",
    "| integrate.quad(func, a, b) | Calcula a integral de uma função  |\n",
    "| integrate.dbquad(func, a, b, gfun, hfun) | Calcula a integral dupla de uma função  |\n",
    "\n",
    "https://docs.scipy.org/doc/scipy/reference/generated/scipy.integrate.quad.html#scipy.integrate.quad\n",
    "\n",
    "https://docs.scipy.org/doc/scipy/reference/generated/scipy.integrate.dblquad.html#scipy.integrate.dblquad\n"
   ]
  },
  {
   "cell_type": "code",
   "execution_count": 22,
   "id": "4821c2fe",
   "metadata": {},
   "outputs": [],
   "source": [
    "import numpy as np\n",
    "from scipy.integrate import quad, dblquad"
   ]
  },
  {
   "cell_type": "code",
   "execution_count": 23,
   "id": "5e72f3d7",
   "metadata": {},
   "outputs": [],
   "source": [
    "# x**2\n",
    "\n",
    "f_x = lambda x: x**2"
   ]
  },
  {
   "cell_type": "code",
   "execution_count": 24,
   "id": "4afa1685",
   "metadata": {},
   "outputs": [
    {
     "data": {
      "text/plain": [
       "(333.33333333333326, 3.700743415417188e-12)"
      ]
     },
     "execution_count": 24,
     "metadata": {},
     "output_type": "execute_result"
    }
   ],
   "source": [
    "quad(f_x, 0,10)"
   ]
  },
  {
   "cell_type": "code",
   "execution_count": 25,
   "id": "dd6b515f",
   "metadata": {},
   "outputs": [
    {
     "data": {
      "text/plain": [
       "333.3333333333333"
      ]
     },
     "execution_count": 25,
     "metadata": {},
     "output_type": "execute_result"
    }
   ],
   "source": [
    "#check\n",
    "I_x = lambda x: x**3/3\n",
    "I_x(10)"
   ]
  },
  {
   "cell_type": "code",
   "execution_count": 26,
   "id": "e6caab45",
   "metadata": {},
   "outputs": [],
   "source": [
    "# x**2 + y\n",
    "\n",
    "f_xy = lambda x,y: x*y"
   ]
  },
  {
   "cell_type": "code",
   "execution_count": 27,
   "id": "b43fca7a",
   "metadata": {},
   "outputs": [
    {
     "data": {
      "text/plain": [
       "(624.9999999999999, 6.938893903907227e-12)"
      ]
     },
     "execution_count": 27,
     "metadata": {},
     "output_type": "execute_result"
    }
   ],
   "source": [
    "dblquad(f_xy, 0,5, lambda y:0, lambda y:10)"
   ]
  },
  {
   "cell_type": "code",
   "execution_count": 28,
   "id": "2c65d547",
   "metadata": {},
   "outputs": [
    {
     "data": {
      "text/plain": [
       "625.0"
      ]
     },
     "execution_count": 28,
     "metadata": {},
     "output_type": "execute_result"
    }
   ],
   "source": [
    "I_xy = lambda x,y: (x**2/2)*( y**2/2)\n",
    "I_xy(5,10)"
   ]
  },
  {
   "cell_type": "markdown",
   "id": "b504390e",
   "metadata": {},
   "source": [
    "## 11.2.2 Exercício 1\n",
    "\n",
    "Dadas as funções, calcule sua integral com  x variando de 0 a 10: \n",
    "$$ A(x) = e^x $$\n",
    "\n",
    "$$ B(x) = x^3 $$\n",
    "\n",
    "$$ C(x) = 1/x $$"
   ]
  },
  {
   "cell_type": "code",
   "execution_count": 29,
   "id": "005b4d3b",
   "metadata": {},
   "outputs": [
    {
     "data": {
      "text/plain": [
       "(22025.465794806725, 6.239389118119928e-10)"
      ]
     },
     "execution_count": 29,
     "metadata": {},
     "output_type": "execute_result"
    }
   ],
   "source": [
    "a_x = lambda x: np.exp(x)\n",
    "quad(a_x, 0, 10)"
   ]
  },
  {
   "cell_type": "code",
   "execution_count": 30,
   "id": "20519d57",
   "metadata": {},
   "outputs": [
    {
     "data": {
      "text/plain": [
       "22025.465794806718"
      ]
     },
     "execution_count": 30,
     "metadata": {},
     "output_type": "execute_result"
    }
   ],
   "source": [
    "# check\n",
    "np.exp(10) - np.exp(0)"
   ]
  },
  {
   "cell_type": "code",
   "execution_count": 31,
   "id": "499cb970",
   "metadata": {},
   "outputs": [
    {
     "data": {
      "text/plain": [
       "(2500.0000000000005, 2.775557561562892e-11)"
      ]
     },
     "execution_count": 31,
     "metadata": {},
     "output_type": "execute_result"
    }
   ],
   "source": [
    "b_x = lambda x: x**3\n",
    "quad(b_x, 0, 10)"
   ]
  },
  {
   "cell_type": "code",
   "execution_count": 32,
   "id": "77908112",
   "metadata": {},
   "outputs": [
    {
     "data": {
      "text/plain": [
       "2500.0"
      ]
     },
     "execution_count": 32,
     "metadata": {},
     "output_type": "execute_result"
    }
   ],
   "source": [
    "10**4/4"
   ]
  },
  {
   "cell_type": "code",
   "execution_count": 33,
   "id": "bf1d6f2b",
   "metadata": {},
   "outputs": [
    {
     "data": {
      "text/plain": [
       "(2.302585092994052, 1.7485989740926124e-08)"
      ]
     },
     "execution_count": 33,
     "metadata": {},
     "output_type": "execute_result"
    }
   ],
   "source": [
    "c_x = lambda x: 1/x\n",
    "quad(c_x, 1, 10)"
   ]
  },
  {
   "cell_type": "code",
   "execution_count": 34,
   "id": "0fc9361e",
   "metadata": {},
   "outputs": [
    {
     "data": {
      "text/plain": [
       "2.302585092994046"
      ]
     },
     "execution_count": 34,
     "metadata": {},
     "output_type": "execute_result"
    }
   ],
   "source": [
    "np.log(10)-np.log(1)"
   ]
  },
  {
   "cell_type": "markdown",
   "id": "c7ba40ed",
   "metadata": {},
   "source": [
    "## 11.2.3 Exercício 2\n",
    "Calcule a integral dupla:\n",
    "$$ A(x,y) = \\iint_{A}dx.dy   $$\n",
    "\n",
    "Considere: $ 0 \\le x \\le 3 $ e $ 0 \\le y \\le 4 $"
   ]
  },
  {
   "cell_type": "code",
   "execution_count": 35,
   "id": "2895ad85",
   "metadata": {},
   "outputs": [],
   "source": [
    "a_xy = lambda x,y: 1"
   ]
  },
  {
   "cell_type": "code",
   "execution_count": 36,
   "id": "d716ce31",
   "metadata": {},
   "outputs": [
    {
     "data": {
      "text/plain": [
       "(12.0, 1.3322676295501878e-13)"
      ]
     },
     "execution_count": 36,
     "metadata": {},
     "output_type": "execute_result"
    }
   ],
   "source": [
    "dblquad(a_xy, 0, 3, lambda y:0, lambda y:4)"
   ]
  },
  {
   "cell_type": "markdown",
   "id": "97145e64",
   "metadata": {},
   "source": [
    "## 11.2.4 - EDO\n",
    "**from scipy.integrate import odeint**\n",
    "\n",
    "\n",
    "| Funções | Descrição |\n",
    "| :-- | :-- |\n",
    "| integrate.odeint(func, y0, t) | Calcula a dada equação diferencial  |\n",
    "\n",
    "\n",
    "\n",
    "https://docs.scipy.org/doc/scipy/reference/generated/scipy.integrate.odeint.html#scipy.integrate.odeint"
   ]
  },
  {
   "cell_type": "code",
   "execution_count": 37,
   "id": "438a02ae",
   "metadata": {},
   "outputs": [
    {
     "data": {
      "text/latex": [
       "$\\displaystyle y_{x}{\\left(x \\right)} = C_{1} - 5 x^{2}$"
      ],
      "text/plain": [
       "Eq(y_x(x), C1 - 5*x**2)"
      ]
     },
     "execution_count": 37,
     "metadata": {},
     "output_type": "execute_result"
    }
   ],
   "source": [
    "import sympy as sp\n",
    "x = sp.symbols('x')\n",
    "\n",
    "y_x = sp.Function('y_x')\n",
    "dy_x = sp.Derivative(y_x(x), x)\n",
    "eq = dy_x + 10*x\n",
    "\n",
    "sp.dsolve(eq)"
   ]
  },
  {
   "cell_type": "code",
   "execution_count": 38,
   "id": "15f6be53",
   "metadata": {},
   "outputs": [],
   "source": [
    "from scipy.integrate import odeint"
   ]
  },
  {
   "cell_type": "code",
   "execution_count": 39,
   "id": "39803a1c",
   "metadata": {},
   "outputs": [],
   "source": [
    "def eq_dif(u, x):\n",
    "    y,dy = u\n",
    "    func = [dy, -10*x]\n",
    "    return func\n",
    "\n"
   ]
  },
  {
   "cell_type": "code",
   "execution_count": 40,
   "id": "87e64da1",
   "metadata": {},
   "outputs": [
    {
     "data": {
      "text/plain": [
       "array([[    0.        ,     0.        ],\n",
       "       [   -1.66666669,    -5.00000002],\n",
       "       [  -13.33333337,   -20.00000002],\n",
       "       [  -45.00000006,   -45.00000002],\n",
       "       [ -106.66666675,   -80.00000002],\n",
       "       [ -208.33333344,  -125.00000002],\n",
       "       [ -360.00000012,  -180.00000002],\n",
       "       [ -571.66666681,  -245.00000002],\n",
       "       [ -853.3333335 ,  -320.00000002],\n",
       "       [-1215.00000019,  -405.00000002],\n",
       "       [-1666.66666687,  -500.00000002]])"
      ]
     },
     "execution_count": 40,
     "metadata": {},
     "output_type": "execute_result"
    }
   ],
   "source": [
    "x = list(range(11))\n",
    "\n",
    "odeint(eq_dif, [0,0,], x)"
   ]
  },
  {
   "cell_type": "markdown",
   "id": "037eec1c",
   "metadata": {},
   "source": [
    "## 11.2.4 - Desafio 1 (técnicas para resolver EDO de segunda ordem)\n",
    "\n",
    "\n",
    "Resolver a EDO a seguir utilizando o Scipy.\n",
    "\n",
    "\n",
    "$$ \\ \\ m\\ddot{x}(t) + c\\dot{x}(t) + kx(t)=0; \\ \\ com\\ x(0) = x_0 \\ e\\  \\dot{x}(0) = v_0   $$\n",
    "\n",
    "Para fazer a comparação, iremos adotar os valores:\n",
    "$$ \\ \\ 10\\ddot{x}(t) + 20\\dot{x}(t) + 50x(t)=0; \\ \\ com\\ x(0) = 10 \\ e\\  \\dot{x}(0) = 0   $$"
   ]
  },
  {
   "cell_type": "code",
   "execution_count": null,
   "id": "fd732945",
   "metadata": {},
   "outputs": [],
   "source": []
  }
 ],
 "metadata": {
  "kernelspec": {
   "display_name": "Python 3 (ipykernel)",
   "language": "python",
   "name": "python3"
  },
  "language_info": {
   "codemirror_mode": {
    "name": "ipython",
    "version": 3
   },
   "file_extension": ".py",
   "mimetype": "text/x-python",
   "name": "python",
   "nbconvert_exporter": "python",
   "pygments_lexer": "ipython3",
   "version": "3.10.11"
  }
 },
 "nbformat": 4,
 "nbformat_minor": 5
}
