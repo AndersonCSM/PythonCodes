{
 "cells": [
  {
   "attachments": {},
   "cell_type": "markdown",
   "metadata": {
    "id": "nIwx6U2sqkQ4"
   },
   "source": [
    "# 1. Iniciando Python\n",
    "Por que Python?\n",
    "    - Linguagem de alto nível e sintaxe fácil\n",
    "    - Comunidade gr\n",
    "    ande e com muitas bibliotecas prontas\n",
    "    - Open source\n",
    "\n",
    "## 1.1. Sobre\n",
    "   - Interpretada\n",
    "   - Linguagem orientada a objetos\n",
    "   - Distribuidos nas versões 2.n e 3.n\n",
    "\n",
    "## 1.2. Distribuições recomendadas\n",
    "\n",
    "   - https://www.anaconda.com/products/individual\n",
    "   O Anaconda é gratuito para empresa com menos de 200 funcionários.\n",
    "- É interessante instalar o Anaconda na pasta raiz para evitar problemas.\n",
    "- É interessante deixar marcado a opção:`Add Anaconda3 to my path enviromnet variable`. Caso vá criar pacotes.\n",
    "   \n",
    "   - https://sourceforge.net/projects/winpython/files/WinPython_3.8/\n",
    "\n",
    "## 1.3. IDES\n",
    "Interface que interagimos com o python\n",
    "\n",
    "   - Integrated Development Environment\n",
    "   - Exemplos de IDE: Idle, Ipython, Pycharm, Spyder, Jupyter notebook\n",
    "   - Procurar por: ide.exe, ipython.exe, Spyder3.exe\n",
    "   - Os executáveis estão na pasta Scripts\n",
    "  - O Pycharm ou outras IDEs devem ser instaladas separadamentes.\n",
    "    \n",
    "1.3.1. **O Spyder tem finalidade científica, se assemelhando ao matlab ou octave**\n",
    "\n",
    "1.3.2. **O jupyter notebook tem blocos de texto do tipo markdown e Latex e blocos de código python**\n",
    "\n"
   ]
  },
  {
   "attachments": {},
   "cell_type": "markdown",
   "metadata": {
    "id": "qEqEJ_5HqkQ8"
   },
   "source": [
    "## 1.4. Jupyter\n",
    "O jupyter é muito usado na comunidade acadêmica por ser fácil de entender o código além de poder organizar o arquivo com textos em Markdown e Latex.\n",
    "\n",
    "### 1.4.1. Linguagem de marcação(markdown)\n",
    "Markdown Syntax é uma sintaxe usada para padronizar e facilitar formatação de texto na web, utilizada em aplicativos como Slack e GitHub. Textos estilizados com Markdown são, na maioria dos casos, apenas texto com caracteres não-alfabéticos, como #, \\* e !\\[ \\]( ), usados para a configuração de títulos, listas, itálico, negrito e inserção de imagens.\n",
    "\n",
    "O Markdown funciona como um conversor de texto para HTML: os caracteres não-alfabéticos são traduzidos como \\<b>, \\<i> e \\<a href>, etc. Já os textos sem formatação entram como parágrafo simples \\<p>.\n",
    "  \n",
    "### 1.4.2. Titulação\n",
    "    \n",
    "# Título 1\n",
    "## Título 2\n",
    "### Título 3\n",
    "#### Título 4\n",
    "##### Título 5\n",
    "###### Título 6\n",
    "\n",
    "### 1.4.3. Ênfase\n",
    "Para adicionar ênfase ao conteúdo que será escrito, usa-se o asterisco \\* ou traço-baixo (underline) \\_:\n",
    "\n",
    "- **Negrito**: adicione dois asteriscos \\**texto** ou dois traços-baixos \\__texto__ no início e no fim do conteúdo.\n",
    "- *Itálico*: adicione apenas um asterisco \\*texto* ou um traço-baixo \\_texto_ no início e no fim do conteúdo.\n",
    "- ~hachurado~: para adicionar um texto hachurado usamos o acento \\~ no início e fim do conteúdo.\n",
    "- `Destaque`: para deixar um texto em destaque usamos o aceto grave \\` no início e fim do conteúdo.\n",
    "\n",
    "Exemplo:\n",
    "Este é um exemplo de um texto que possui uma ênfase em **negrito**, e outro em _itálico_.\n",
    "\n",
    "### 1.4.4. Links\n",
    "\n",
    "Existem duas formas de inserir link em Markdown, através de um link direto ou usando um texto-âncora:\n",
    "\n",
    "- **Texto-âncora**: utilize os caracteres \\[](), adicionando entre chaves o texto que você quer que apareça, e entre os parênteses, o endereço de destino, no formato \\[exemplo](https://exemplo.com/).\n",
    "\n",
    "- **Link direto**: envolva o endereço da web em chaves \\<>. O endereço ficará visível e será clicável pelo usuário. O endereço em forma de link direto tem o formato \\<https://exemplo.com/>.\n",
    "\n",
    "Exemplo:\n",
    "Este é um link em formato de [exemplo](https://exemplo.com/), e este é um link direto https://pipz.com/.\n",
    "\n",
    "### 1.4.5. Listas de itens\n",
    "\n",
    "Para listas não ordenadas, utilize um asterisco \\* ou \\- na frente to item da lista:\n",
    "\n",
    "* Item 1\n",
    "* Item 2\n",
    "* Item 3\n",
    "\n",
    "- Item 4\n",
    "- Item 5\n",
    "- Item 6\n",
    "\n",
    "Para listas ordenadas, utilize o número do item seguido de ponto . :\n",
    "\n",
    "1. Item 1\n",
    "2. Item 2\n",
    "3. Item 3\n",
    "\n",
    "### 1.4.6. Imagens\n",
    "\n",
    "O código para inserir uma imagem no conteúdo é semelhante ao código de inserir links-âncora, adicionando um ponto de exclamação ! no início do código, como no exemplo abaixo:\n",
    "\n",
    "\\![Alt ou título da imagem](URL da imagem)\n",
    "\n",
    "### 1.4.7. Citação (Quote)\n",
    "Para transformar um texto em uma citação ou comentário, semelhante ao código HTML \\<blockquote>, utilize o sinal > no início da linha que será formatada:\n",
    "\n",
    "Exemplo:\n",
    "\n",
    ">Este é um *blockquote*. O sinal usado abre e fecha este código no HTML. \n",
    ">Para adicionar mais uma linha à citação, basta teclar Enter para um novo\n",
    ">código sinal. Isso gerará um novo parágrafo dentro do *blockquote*.\n",
    ">Códigos de **negrito**, _itálico_ e <https://links.com> funcionam aqui.\n",
    "\n",
    "### 1.4.8. Código (Code highlight)\n",
    "\n",
    "Para adicionar um trecho de código ao Markdown usamos três acentos graves ˋˋˋ ou três tils \\~~~.\n",
    "\n",
    "\n",
    "```\n",
    "Esta é uma linha de código\n",
    "```\n",
    "\n",
    "\n",
    "### 1.4.9.Tabela\n",
    "Escolha os títulos das colunas e use | para delimitar as colunas. Depois, utilize hífen - na segunda linha para indicar que acima estão os títulos das colunas, usando novamente o | para delimitar colunas. Veja um exemplo abaixo:\n",
    "\n",
    "| Exemplo     | Valor do exemplo |\n",
    "| :-----------|---------------:  |\n",
    "| Exemplo 1   |  R\\$ 10          |\n",
    "| Exemplo 2   |  R\\$ 8           |\n",
    "| Exemplo 3   |  R\\$ 7           |\n",
    "| Exemplo 4   |  R\\$ 8           |\n",
    "\n",
    "\n",
    "Para especificar o tipo de alinhamento que deseja ter nas tabelas, utilize : ao lado do campo horizontal de hífens ---, na segunda linha da sua tabela. Veja abaixo:\n",
    "\n",
    "- Alinhado a esquerda: usar : no lado esquerdo (alinhamento padrão);\n",
    "- Alinhado a direita: usar : no lado direito;\n",
    "- Centralizado: usar : dos dois lados.\n",
    "\n",
    "Exemplo:\n",
    "\n",
    "Alinhado a esquerda | Centralizado | Alinhado a direita\n",
    ":---------          | :------:     | -------:\n",
    "Valor               | Valor        | Valor\n",
    "\n",
    "### 1.4.10. LATEX\n",
    "Podemos criar fórmulas matemáticas usand a sintaxe do LATEX.\n",
    "\n",
    "- Para criar uma fórmula matemática é preciso criar o ambiente LATEX com dois sifrões \\$\\$ no início e no fim, dentro deste ambiente basta usar a sintaxe do LATEX.\n",
    "\n",
    "$$ x^2 = 0 $$ "
   ]
  },
  {
   "attachments": {},
   "cell_type": "markdown",
   "metadata": {
    "id": "6-CIuqAoqkQ_"
   },
   "source": [
    "## 1.5. Instalando outras bibliotecas\n",
    "Para instalar bibliotecas que não foram instaladas nativamente é preciso usar\n",
    "um gerenciador de pacotes, o gerenciador mais usual é o pip que instala as bibliotecas diretamente do repositório oficial do python.\n",
    "\n",
    "Para instalar uma biblioteca basta executarmos o pip dentro de um prompt do python. No Jupyter podemos executar o pip em uma célula de código, ou em outras IDES usar a sintaxe no ambiente.\n",
    "\n",
    "**OBS**: os três >>> indica que estamos executando o pip pela linguagem python que é o correto, caso tente instalar pelo prompt de comando do SO, primeiro deve iniciar o python e depois usar o pip.\n",
    "\n",
    "A sintaxe de instalação é:\n",
    "```\n",
    ">>>pip install nome_da_biblioteca\n",
    "```\n",
    "    \n",
    "O pip possui mais algumas séries de comandos para controle dos pacotes que podem ser exploradas pelo usuário, para observar os demais recursos basta usar o help do pip.\n",
    "```\n",
    ">>>pip help\n",
    "```"
   ]
  },
  {
   "cell_type": "code",
   "execution_count": null,
   "metadata": {
    "id": "8qbReUbtqkRB"
   },
   "outputs": [],
   "source": [
    "# Apague o hastag e pode executar o código\n",
    "# pip help"
   ]
  },
  {
   "attachments": {},
   "cell_type": "markdown",
   "metadata": {
    "id": "MOvroYZKqkRD"
   },
   "source": [
    "# 2. Iniciando Estudos\n",
    "## 2.1. Tipo de variáveis (*built-in types*):\n",
    "- int = número inteiro\n",
    "- float = número real\n",
    "- complex = número complexo\n",
    "- str = texto\n",
    "\n",
    "Estes tipos de valores podem ser armazenados dentro de variáveis.\n",
    "\n",
    "### Primeiras funções\n",
    "\n",
    "\n",
    "| Função | Descrição |\n",
    "| :-- | :-- |\n",
    "| print() | exibe um dado input |\n",
    "| input()                  | retorna uma **string** dada pelo usuário |\n",
    "| int(), float(), str() | conversão de tipo |\n",
    "| type()                   | retorna o tipo da variável |"
   ]
  },
  {
   "cell_type": "code",
   "execution_count": null,
   "metadata": {
    "colab": {
     "base_uri": "https://localhost:8080/"
    },
    "executionInfo": {
     "elapsed": 15,
     "status": "ok",
     "timestamp": 1664753265725,
     "user": {
      "displayName": "Anderson Carlos",
      "userId": "13888936226680314362"
     },
     "user_tz": 180
    },
    "id": "8-aYz1OrqkRD",
    "outputId": "6af21d27-999f-4b6e-c1b8-a155fe723056"
   },
   "outputs": [
    {
     "name": "stdout",
     "output_type": "stream",
     "text": [
      "Olá mundo\n"
     ]
    }
   ],
   "source": [
    "print(\"Olá mundo\")"
   ]
  },
  {
   "cell_type": "code",
   "execution_count": null,
   "metadata": {
    "id": "rf0ukU-1qkRF"
   },
   "outputs": [],
   "source": [
    "variavel_b = input(\"Digite um numero \")"
   ]
  },
  {
   "cell_type": "code",
   "execution_count": null,
   "metadata": {
    "id": "rCGM-2EVqkRG"
   },
   "outputs": [],
   "source": [
    "variavel_b"
   ]
  },
  {
   "cell_type": "code",
   "execution_count": null,
   "metadata": {
    "id": "PvIpBbm2qkRH",
    "scrolled": true
   },
   "outputs": [],
   "source": [
    "b = 5\n",
    "type(b)"
   ]
  },
  {
   "cell_type": "code",
   "execution_count": null,
   "metadata": {
    "id": "YNkwTRTQqkRI"
   },
   "outputs": [],
   "source": [
    "b = 5.0\n",
    "type(b)"
   ]
  },
  {
   "attachments": {},
   "cell_type": "markdown",
   "metadata": {
    "id": "2MCpx9gKqkRJ"
   },
   "source": [
    "## 2.2. Números\n",
    "**Operações básicas:**\n",
    "\n",
    "| Símbolo | Descrição |\n",
    "| :-- | :-- |\n",
    "| (+) | soma |\n",
    "| (-) | subtração |\n",
    "| (*) | multiplicação |\n",
    "| (/)| divisão |\n",
    "| (//) | parte inteira da divisão |\n",
    "| (**) | exponencial |\n",
    "| += | adiciona para a variável |\n",
    "| *= | multiplica pela variável |\n",
    "\n",
    "- LEE, Kent D. Python Programming Fundamentals. Second Edition. Springer - Verlag London 2014.\n",
    "- https://link.springer.com/chapter/10.1007%2F978-1-4471-6642-9_8\n",
    "- https://link.springer.com/chapter/10.1007%2F978-1-4471-6642-9_9"
   ]
  },
  {
   "cell_type": "code",
   "execution_count": null,
   "metadata": {
    "id": "u5ntk7fPqkRJ"
   },
   "outputs": [],
   "source": [
    "a = 5\n",
    "b = 5.0  # converteu o número para o tipo float\n",
    "c = a + b\n",
    "type(c)"
   ]
  },
  {
   "cell_type": "code",
   "execution_count": null,
   "metadata": {
    "id": "T2XTb-zRqkRK"
   },
   "outputs": [],
   "source": [
    "a = 5\n",
    "d = 10\n",
    "d += 5  # isso equivale a d = d + 5\n",
    "\n",
    "# Caso eu queira apenas uma variável na tela eu não preciso usar a função print\n",
    "d\n",
    "\n",
    "# Agora se eu quiser apresentar duas variáveis na tela\n",
    "print(a)\n",
    "print(b)"
   ]
  },
  {
   "cell_type": "code",
   "execution_count": null,
   "metadata": {
    "id": "4wGG6gVQqkRL"
   },
   "outputs": [],
   "source": [
    "e = 10**2\n",
    "e"
   ]
  },
  {
   "attachments": {},
   "cell_type": "markdown",
   "metadata": {
    "id": "iMuM6l9jqkRM"
   },
   "source": [
    "Para criar um número do tipo complexo basta acrescentar o j ao lado do número."
   ]
  },
  {
   "cell_type": "code",
   "execution_count": null,
   "metadata": {
    "id": "Tk0bWA1hqkRM"
   },
   "outputs": [],
   "source": [
    "n_1 = 1j\n",
    "n_2 = 1j\n",
    "n_1 * n_2"
   ]
  },
  {
   "attachments": {},
   "cell_type": "markdown",
   "metadata": {
    "id": "INWpH-vbqkRN"
   },
   "source": [
    "Também podemos usar notação decimal no Python, baseado no exemplo abaixo:\n",
    "\n",
    "$$ 1e2 = 1 * 10^2$$\n",
    "\n",
    "- 1: número que multiplica a base 10\n",
    "- e: representa a base 10 elevada ao expoente\n",
    "- 2: é o expoente da base 10."
   ]
  },
  {
   "cell_type": "code",
   "execution_count": null,
   "metadata": {
    "id": "C6BfFnEiqkRN"
   },
   "outputs": [],
   "source": [
    "x = 1e2\n",
    "y = 5e2\n",
    "print(x)\n",
    "print(y)"
   ]
  },
  {
   "attachments": {},
   "cell_type": "markdown",
   "metadata": {
    "id": "9gdFI2bEqkRO"
   },
   "source": [
    "Também podemos converter uma string para número usando as funções listadas anteriormente.\n",
    "``float()``\n",
    "``int()``"
   ]
  },
  {
   "cell_type": "code",
   "execution_count": null,
   "metadata": {
    "id": "vwZI9ubuqkRP"
   },
   "outputs": [],
   "source": [
    "# Também podemos converter uma string para número usando as funções listadas anteriormente.\n",
    "# float(), int()\n",
    "string_numero = \"123\"\n",
    "n_1 = float(string_numero)\n",
    "\n",
    "n_1 * n_1"
   ]
  },
  {
   "attachments": {},
   "cell_type": "markdown",
   "metadata": {
    "id": "6k4pAceeqkRQ"
   },
   "source": [
    "## 2.3. String\n",
    "- Strings são variáveis de texto\n",
    "- As variáveis de textos são identificadas por estarem entre aspas simples ou duplas.\n",
    "- É possível alternar o uso das aspas para usar um tipo de aspa na própria string ou usa a opção abaixo.\n",
    "- Alguns caracteres, como as aspas, não podem ser adicionados diretamente. Então é necessário usar a \\ antes da aspas \\\\'\n",
    "- \\n representa uma nova linha\n",
    "- Algumas operações básicas funcionam para manipular strings(adição e multiplicação)"
   ]
  },
  {
   "cell_type": "code",
   "execution_count": null,
   "metadata": {
    "id": "bJ4cE0cFqkRQ"
   },
   "outputs": [],
   "source": [
    "c = 'E foi isso que ele disse \"Ciência é ciência\" '\n",
    "a = \"Olá mundo\\n\"\n",
    "\n",
    "b = a * 2\n",
    "print(b)\n",
    "print(c)"
   ]
  },
  {
   "attachments": {},
   "cell_type": "markdown",
   "metadata": {
    "id": "JIDyKCPTqkRR"
   },
   "source": [
    "## 2.4. Listas\n",
    "Listas são conjuntos de dados que podem conter dados de diferentes tipos. Elas possuem valores indexados a partir de zero.\n",
    "\n",
    "Ser indexado que dizer que os elementos estão organizados, cada um possui um índice único."
   ]
  },
  {
   "cell_type": "code",
   "execution_count": null,
   "metadata": {
    "id": "dtlO88-2qkRR"
   },
   "outputs": [],
   "source": [
    "lista_a = [1, \"asdf\", [3.0, 2], 4]\n",
    "lista_a"
   ]
  },
  {
   "attachments": {},
   "cell_type": "markdown",
   "metadata": {
    "id": "6jefpjZvqkRS"
   },
   "source": [
    "## 2.5. Similaridades entre listas e strings\n",
    "- Ambos são indexáveis com indices a partir de [0]\n",
    "- Strings, assim como listas, podem ser fatiadas(slice)\n",
    "- A funcão len(*x*) retorna o número de elementos de uma lista e o número de caractéres de uma string\n",
    "- A operação de soma funciona de maneira parecida\n",
    "- Ambas podem ser multiplicadas por um valor inteiro\n",
    "\n",
    "Mas atenção, não são do mesmo tipo!"
   ]
  },
  {
   "cell_type": "code",
   "execution_count": null,
   "metadata": {
    "id": "cY3KvksuqkRT"
   },
   "outputs": [],
   "source": [
    "lista_b = [3, \"asdf\", 5, 1, 2]\n",
    "string_1 = \"python\"\n",
    "\n",
    "print(lista_b[1])  # índice 1 é a string 'asdf'\n",
    "\n",
    "print(string_1[1])  # índice 1, é o caractere y"
   ]
  },
  {
   "attachments": {},
   "cell_type": "markdown",
   "metadata": {
    "id": "LRHjOKU6qkRT"
   },
   "source": [
    "## 2.5.1. Slice\n",
    "O fatiamento consiste em pegue um intervalo de elementos definidos, para isso basta repassar como índice um recorte, usando a sintaxe:\n",
    "\n",
    "``[indice_inicial: indice_final: incremento]``\n",
    "\n",
    "- indice_inicial: é o índice que começa\n",
    "- indice_final: é o índice de parada, ele não é percorrido\n",
    "- incremento: é a forma como irá percorre o intervalo\n",
    "\n",
    "indice_inical <= x < indice_final\n",
    "\n",
    "Inclusive podemos usar o incremento para percorrer uma lista e string inversamente, repassando como incremento o valor -1."
   ]
  },
  {
   "cell_type": "code",
   "execution_count": null,
   "metadata": {
    "id": "kLDCcVcbqkRT"
   },
   "outputs": [],
   "source": [
    "Lista_1 = [\"PA\", \"YA\", \"TA\", \"HA\", \"OA\", \"NA\"]\n",
    "Lista_2 = [\"P\", \"Y\", \"T\", \"H\", \"O\", \"N\"]\n",
    "string_1 = \"PAYATAHAOANA\"\n",
    "\n",
    "print(Lista_2[::-1])  # percorrendo a lista inversamente\n",
    "print(string_1[0:4:1])\n",
    "print(Lista_1[1:3:1])"
   ]
  },
  {
   "attachments": {},
   "cell_type": "markdown",
   "metadata": {
    "id": "HYpk515uqkRU"
   },
   "source": [
    "Realizando operações de multiplicação e adição nas listas e strings"
   ]
  },
  {
   "cell_type": "code",
   "execution_count": null,
   "metadata": {
    "id": "wlNuCS57qkRU"
   },
   "outputs": [],
   "source": [
    "Lista_1 = [\"PA\", \"YA\", \"TA\", \"HA\", \"OA\", \"NA\"]\n",
    "string_1 = \"PAYATAHAOANA\"\n",
    "\n",
    "Lista_1 * 3"
   ]
  },
  {
   "cell_type": "code",
   "execution_count": null,
   "metadata": {
    "id": "8suu56PgqkRU"
   },
   "outputs": [],
   "source": [
    "lista_c = [1, 2, 3, 4]\n",
    "lista_c + lista_b"
   ]
  },
  {
   "attachments": {},
   "cell_type": "markdown",
   "metadata": {
    "id": "MIifRYiiqkRV"
   },
   "source": [
    "## 2.5.2 len()\n",
    "A função len() retorna a quantidade de elementos da strings ou lista."
   ]
  },
  {
   "cell_type": "code",
   "execution_count": null,
   "metadata": {
    "id": "JIWJbf8XqkRV"
   },
   "outputs": [],
   "source": [
    "print(len(lista_c))"
   ]
  },
  {
   "attachments": {},
   "cell_type": "markdown",
   "metadata": {
    "id": "bk0Lvh26qkRV"
   },
   "source": [
    "## 2.6. Valores Booleanos\n",
    "\n",
    "### O que é\n",
    "As variáveis do tipo *bool* armazenam constantes do tipo *True* ou *False*\n"
   ]
  },
  {
   "cell_type": "code",
   "execution_count": null,
   "metadata": {
    "id": "o-I-D4BJqkRW"
   },
   "outputs": [],
   "source": [
    "False"
   ]
  },
  {
   "cell_type": "code",
   "execution_count": null,
   "metadata": {
    "id": "VvVNrITQqkRW"
   },
   "outputs": [],
   "source": [
    "a = True\n",
    "type(a)"
   ]
  },
  {
   "attachments": {},
   "cell_type": "markdown",
   "metadata": {
    "id": "KFgR-zCVqkRW"
   },
   "source": [
    "## 2.7. Comparações\n",
    "Comparações retornam variáveis do tipo *bool*\n",
    "\n",
    "| Comparação | Descrição |\n",
    "| :-- | :-- |\n",
    "| > | menor que |\n",
    "| <= | menor ou igual a |\n",
    "| > | maior que |\n",
    "| >= | maior ou igual a |\n",
    "| == | igual a |\n",
    "| != | diferente de |\n",
    "\n",
    "Fonte: https://docs.python.org/3/library/stdtypes.html#iterator-types"
   ]
  },
  {
   "cell_type": "code",
   "execution_count": null,
   "metadata": {
    "id": "DunNjCQwqkRW"
   },
   "outputs": [],
   "source": [
    "a = 5 != 6\n",
    "a"
   ]
  },
  {
   "attachments": {},
   "cell_type": "markdown",
   "metadata": {
    "id": "UZiXSUTeqkRW"
   },
   "source": [
    "# 3 Condicionais e loops\n",
    "Palavras chave: *Control flow* ou *Control structures*\n",
    "\n",
    "Essa aula é inspirada em: https://docs.python.org/3/tutorial/controlflow.html\n"
   ]
  },
  {
   "attachments": {},
   "cell_type": "markdown",
   "metadata": {
    "id": "twBmsUNQqkRX"
   },
   "source": [
    "## 3.1. Condicional if\n",
    "### Construções\n",
    "- **if** condição**:**\n",
    "- **elif** condição**:**\n",
    "- **else:**\n",
    "\n",
    "### Operações booleanas\n",
    "Além dos comparadores, também podemos fazer operações booleanas. Elas são úteis em estruturas condicionais, algumas operações são:\n",
    "- **or**(ou) \n",
    "- **and**(e)\n",
    "- **is**(em)\n",
    "- **not**(não).\n",
    "\n",
    "\n",
    "Acesse: https://docs.python.org/3/library/stdtypes.html#"
   ]
  },
  {
   "cell_type": "code",
   "execution_count": null,
   "metadata": {
    "id": "rCOV50qhqkRX"
   },
   "outputs": [],
   "source": [
    "x = 5\n",
    "\n",
    "if x > 0:\n",
    "    print(\"positivo\")\n",
    "elif x < 0:\n",
    "    print(\"negativo\")\n",
    "else:\n",
    "    print(\"nenhuma alternativa\")"
   ]
  },
  {
   "cell_type": "code",
   "execution_count": null,
   "metadata": {
    "id": "Y8qOBSpMqkRX"
   },
   "outputs": [],
   "source": [
    "x = \"Matemática\"\n",
    "\n",
    "if x == \"Matemática\":\n",
    "    print(x)"
   ]
  },
  {
   "cell_type": "code",
   "execution_count": null,
   "metadata": {
    "id": "7GDDb-RSqkRX"
   },
   "outputs": [],
   "source": [
    "x = 5\n",
    "\n",
    "if type(x) is not str:\n",
    "    print(x)"
   ]
  },
  {
   "cell_type": "code",
   "execution_count": null,
   "metadata": {
    "id": "pUW7YbonqkRX"
   },
   "outputs": [],
   "source": [
    "x = -10\n",
    "\n",
    "if x > 4 or x < 0:\n",
    "    print(x)"
   ]
  },
  {
   "attachments": {},
   "cell_type": "markdown",
   "metadata": {
    "id": "_6wiG4KPqkRY"
   },
   "source": [
    "## 3.2. Loop for\n",
    "- **for** variável **in** o_que_será_iterado**:** \n",
    "\n",
    "Há uma série de tipos que podem ser utilizado como iteradores, como:\n",
    "- range --> seus elementos são inteiros\n",
    "- list --> seus elementos são os que estão contidos na lista\n",
    "- enumerate --> seus elementos são tuplas que contem inteiros e valores\n"
   ]
  },
  {
   "cell_type": "code",
   "execution_count": null,
   "metadata": {
    "id": "mKjoL-0XqkRY"
   },
   "outputs": [],
   "source": [
    "lista = [\"a\", 2, \"b\", 4, 5, 5, \"w\"]\n",
    "\n",
    "\n",
    "for i in range(len(lista)):\n",
    "    print(i)"
   ]
  },
  {
   "cell_type": "code",
   "execution_count": null,
   "metadata": {
    "id": "OdUte7HBqkRY"
   },
   "outputs": [],
   "source": [
    "lista = [\"a\", 2, \"b\", 4, 5, 5, \"w\"]\n",
    "\n",
    "# A função enumerate retornar tuplas com o índice e os valores, respectivamente.\n",
    "# Se quisermos pegar apenas os valores da lista, indicamos o indice i[1] que irá\n",
    "# retornar apenas os valores das tuplas.\n",
    "for i in enumerate(lista):\n",
    "    print(i[1])"
   ]
  },
  {
   "attachments": {},
   "cell_type": "markdown",
   "metadata": {
    "id": "CjoTdBTrqkRY"
   },
   "source": [
    "## 3.3. Loop *while*\n",
    "- **while** condição**:**\n",
    "\n",
    "Enquanto a condição for verdadeira, o programa executará os comandos\n",
    "\n",
    "Uma noção sobre tipos booleanos é interessante para executar esse comando\n"
   ]
  },
  {
   "cell_type": "code",
   "execution_count": null,
   "metadata": {
    "id": "DzsCMyCaqkRZ"
   },
   "outputs": [],
   "source": [
    "x = 10\n",
    "\n",
    "while x > 5:\n",
    "    print(x)\n",
    "    # x = x - 1\n",
    "    x += 1\n",
    "    if x > 20:\n",
    "        break"
   ]
  },
  {
   "attachments": {},
   "cell_type": "markdown",
   "metadata": {
    "id": "urgwkq87qkRZ"
   },
   "source": [
    "## 3.4 Exercício 1 - \n",
    "Crie um condicional que, dada uma variável, faça as operações:\n",
    "- Se for número positivo, retorna \"Número positivo\"\n",
    "- Se for número negativo, retorna \"Número negativo\"\n",
    "- Se for zero, retorna \"zero\"\n",
    "- Se não for número, retorna \"Não é um número\"\n"
   ]
  },
  {
   "cell_type": "code",
   "execution_count": null,
   "metadata": {
    "id": "jYRy__H1qkRa"
   },
   "outputs": [],
   "source": [
    "x = True\n",
    "\n",
    "if type(x) == (int or float):\n",
    "    if x == 0:\n",
    "        print(\"zero\")\n",
    "    elif x > 0:\n",
    "        print(\"positivo\")\n",
    "    elif x < 0:\n",
    "        print(\"negativo\")\n",
    "else:\n",
    "    print(\"Não é um número\")"
   ]
  },
  {
   "attachments": {},
   "cell_type": "markdown",
   "metadata": {
    "id": "FlCrwLZzqkRa"
   },
   "source": [
    "## 3.5 Exercício 2 - \n",
    "Faça um loop **for** para criar uma lista que intercale os valores das listas a seguir:\n",
    "- valores = [1,2,3,4,5] \n",
    "- letras = ['a','b','c','d','e']\n",
    "\n",
    "Dica: você pode utilizar o método .append() que adiciona um elemento ao final da lista."
   ]
  },
  {
   "cell_type": "code",
   "execution_count": null,
   "metadata": {
    "id": "9Wwd3QnEqkRb"
   },
   "outputs": [],
   "source": [
    "valores = [1, 2, 3, 4, 5]\n",
    "letras = [\"a\", \"b\", \"c\", \"d\", \"e\"]\n",
    "resultado = []\n",
    "\n",
    "maxi = len(valores)\n",
    "for i in range(0, maxi):\n",
    "    resultado.append(valores[i])\n",
    "    resultado.append(letras[i])\n",
    "\n",
    "\n",
    "print(resultado)"
   ]
  },
  {
   "attachments": {},
   "cell_type": "markdown",
   "metadata": {
    "id": "5XymKlvuqkRc"
   },
   "source": [
    "## 3.6 Exercício 3 - \n",
    "Dado um número inteiro, faça um operador while que calcule o fatorial desse número. Dicas: utilize as operações ** *=** e também **-=**\n"
   ]
  },
  {
   "cell_type": "code",
   "execution_count": null,
   "metadata": {
    "id": "ggFcES0QqkRd"
   },
   "outputs": [],
   "source": [
    "x = 4\n",
    "i = x - 1\n",
    "\n",
    "while i > 0:\n",
    "    x *= i\n",
    "    i -= 1\n",
    "print(x)"
   ]
  },
  {
   "attachments": {},
   "cell_type": "markdown",
   "metadata": {
    "id": "nJm2EVhVqkRd"
   },
   "source": [
    "## 3.7 Desafio 1 - Números primos\n",
    "Crie uma lista com os cinquenta primeiros números primos.\n",
    "\n",
    "Dica: pode ser utilizado o comando break e continue\n"
   ]
  },
  {
   "cell_type": "code",
   "execution_count": null,
   "metadata": {
    "id": "1AgPc4baqkRd"
   },
   "outputs": [],
   "source": [
    "div = 0\n",
    "num = 0\n",
    "l = []\n",
    "while True:\n",
    "    num += 1\n",
    "    for c in range(1, num + 1):\n",
    "        if (c != 1) and (num % c == 0):\n",
    "            div += 1\n",
    "    if div == 1:\n",
    "        # print('É primo')\n",
    "        l.append(num)\n",
    "    div = 0\n",
    "\n",
    "    if len(l) == 50:\n",
    "        break\n",
    "\n",
    "print(l)"
   ]
  },
  {
   "attachments": {},
   "cell_type": "markdown",
   "metadata": {
    "id": "Et734toBqkRe"
   },
   "source": [
    "## 3.8 Desafio 2 - Combinação\n",
    "Crie uma lista de todas as palavras formadas com as letras: ARARA\n",
    "\n",
    "Dica: o problema se trata de uma permutação com elementos repetidos.\n",
    "\n",
    "\n",
    "$$\n",
    "P^{3,2}_{5} = \\frac{5!}{3!2!} = 10\n",
    "$$\n",
    "\n",
    "\n",
    "Anotações conforme: IEZZI, Gelson *et al*. Matemática: 1a série. São Paulo: Atual, 1981.\n",
    "\n",
    "Para escrever fórmulas no Markdown: http://luvxuan.top/posts/Markdown-math/"
   ]
  },
  {
   "cell_type": "code",
   "execution_count": null,
   "metadata": {
    "id": "hwnCJHA-qkRe"
   },
   "outputs": [],
   "source": [
    "letras = [\"A\", \"R\", \"A\", \"R\", \"A\"]\n",
    "palavrasl = []\n",
    "i = 0\n",
    "\n",
    "for i5 in range(len(letras)):\n",
    "    l5 = letras[i5]\n",
    "    lista_l5 = letras.copy()\n",
    "    lista_l4 = lista_l5.copy()\n",
    "    lista_l4.pop(i5)\n",
    "\n",
    "    for i4 in range(len(lista_l4)):\n",
    "        l4 = lista_l4[i4]\n",
    "        lista_l3 = lista_l4.copy()\n",
    "        lista_l3.pop(i4)\n",
    "\n",
    "        for i3 in range(len(lista_l3)):\n",
    "            l3 = lista_l3[i3]\n",
    "            lista_l2 = lista_l3.copy()\n",
    "            lista_l2.pop(i3)\n",
    "\n",
    "            for i2 in range(len(lista_l2)):\n",
    "                l2 = lista_l2[i2]\n",
    "                lista_l1 = lista_l2.copy()\n",
    "                lista_l1.pop(i2)\n",
    "\n",
    "                for i1 in range(len(lista_l1)):\n",
    "                    l1 = lista_l1[i1]\n",
    "                    palavra = l5 + l4 + l3 + l2 + l1\n",
    "                    if palavra not in palavrasl:\n",
    "                        palavrasl.append(palavra)\n",
    "print(palavrasl)"
   ]
  },
  {
   "attachments": {},
   "cell_type": "markdown",
   "metadata": {
    "id": "5xSZ6Q0VqkRe"
   },
   "source": [
    "# 4. Estrutura de dados\n",
    "\n",
    "\n",
    "Essa aula é inspirada em:\n",
    "- https://docs.python.org/3/tutorial/datastructures.html\n",
    "- LEE, Kent D. Python Programming Fundamentals. Second Edition. Springer - Verlag London 2014."
   ]
  },
  {
   "attachments": {},
   "cell_type": "markdown",
   "metadata": {
    "id": "45QMrQfrqkRf"
   },
   "source": [
    "## 4.1. Métodos para listas\n",
    "\n",
    "| Método | Descrição |\n",
    "| :-- | :-- |\n",
    "| .append(*variável*) | Adiciona a variável no final |\n",
    "| .extend(*outra_lista*) | Adiciona os elementos ao final |\n",
    "| .remove(*variável*) | Remove o primeiro elemento com valor *variável* |\n",
    "| .count(*variável*) | Conta o número de elementos com o valor *variável* |\n",
    "| .sort() | Reordena elementos em ordem numérica ou alfabética |\n",
    "| .reverse() | Inverte a ordem dos elementos |\n",
    "| .copy() | Retorna uma cópia da lista |\n",
    "| .index(*variável*) | Retorna o índice da primeira *variável* da lista |"
   ]
  },
  {
   "cell_type": "code",
   "execution_count": null,
   "metadata": {
    "id": "b5Ctqq5TqkRf"
   },
   "outputs": [],
   "source": [
    "lista_inteiros = [1, 2, 3, 4, 5]\n",
    "lista_2 = [6, 7, 8]\n",
    "# lista_inteiros.append(lista_2) # adiciona um novo elemento que é a lista_2\n",
    "\n",
    "lista_inteiros.extend(lista_2)  # extende uma lista com a outra\n",
    "print(lista_inteiros)"
   ]
  },
  {
   "cell_type": "code",
   "execution_count": null,
   "metadata": {
    "id": "ZfIl1uRBqkRg"
   },
   "outputs": [],
   "source": [
    "lista_letras = [\"a\", \"b\", \"c\", \"a\", \"a\"]\n",
    "n_vezes = lista_letras.count(\"a\")\n",
    "n_vezes"
   ]
  },
  {
   "cell_type": "code",
   "execution_count": null,
   "metadata": {
    "id": "neNPS_sxqkRh"
   },
   "outputs": [],
   "source": [
    "lista_3 = [1, 10, 5, 3, 8]\n",
    "lista_3.sort()\n",
    "lista_3"
   ]
  },
  {
   "cell_type": "code",
   "execution_count": null,
   "metadata": {
    "id": "3PEYdGetqkRi"
   },
   "outputs": [],
   "source": [
    "lista_4 = [\"a\", \"b\", \"c\", \"a\", \"a\", \"10\", \"1\", \"5\"]\n",
    "lista_4.sort()\n",
    "lista_4"
   ]
  },
  {
   "attachments": {},
   "cell_type": "markdown",
   "metadata": {
    "id": "MgeYLSLfqkRj"
   },
   "source": [
    "## 4.2. Formas de trabalhar com listas\n",
    "\n",
    "| Função | Descrição |\n",
    "| :-- | :-- |\n",
    "| range(*inteiro*) | retorna um iterável do tipo range |\n",
    "| lambda x: *função_x* | Retorna uma função |\n",
    "| map(*função*,*lista*) | Retorna um iterável do tipo map |\n",
    "| list(*iterável*) | Cria uma lista a partir de um iterável |\n",
    "\n",
    "Atenção, este não é um tutorial sobre programação funcional! Quem se interessar pode pesquisar por: *Functional Programming* ou Programação Funcional."
   ]
  },
  {
   "cell_type": "code",
   "execution_count": null,
   "metadata": {
    "id": "5CeDzpJXqkRk"
   },
   "outputs": [],
   "source": [
    "lista_quadrados = []\n",
    "\n",
    "for i in range(5):\n",
    "    lista_quadrados.append(i**2)\n",
    "lista_quadrados"
   ]
  },
  {
   "cell_type": "code",
   "execution_count": null,
   "metadata": {
    "id": "vG5p1xGWqkRk"
   },
   "outputs": [],
   "source": [
    "# criando uma lista rapidamente usando o método list()\n",
    "a = list(range(10))\n",
    "a"
   ]
  },
  {
   "cell_type": "code",
   "execution_count": null,
   "metadata": {
    "id": "G2FlcXx9qkRk"
   },
   "outputs": [],
   "source": [
    "numeros = [1, 2, 3, 4, 5]\n",
    "f = lambda x: x**2\n",
    "\n",
    "\n",
    "lista_5 = list(map(f, numeros))\n",
    "\n",
    "print(f(3))\n",
    "print(lista_5)"
   ]
  },
  {
   "cell_type": "code",
   "execution_count": null,
   "metadata": {
    "id": "twIkIWPAqkRl"
   },
   "outputs": [],
   "source": [
    "# Fazendo um loop dentro de uma lista, logo o retorno é uma lista com elementos\n",
    "# gerados pela função lambda.\n",
    "\n",
    "quadrados = [x**2 for x in range(6)]\n",
    "quadrados"
   ]
  },
  {
   "attachments": {},
   "cell_type": "markdown",
   "metadata": {
    "id": "U22cMP7hqkRl"
   },
   "source": [
    "## 4.3. Tuplas, conjuntos e dicionários\n",
    "\n",
    "| Tipo | Descrição | Sintaxe |\n",
    "| :-- | :-- | :-- |\n",
    "| tuple | tupla: uma sequência de dados que é **imutável** | vogais = ('a','e','i','o','u')|\n",
    "| set | conjunto: elementos não possuem ordem e não se repetem  | alg_decimais = {0,1,2,3,4,5,6,7,8,9}\n",
    "| dict | dicionário: são indexaxos por uma chave *keys* | alg_romanos = {'I':1,\"II\":2,'III':3,'IV':4,'V':5,'X':10}\n"
   ]
  },
  {
   "cell_type": "code",
   "execution_count": null,
   "metadata": {
    "id": "ZzBK4GdtqkRl"
   },
   "outputs": [],
   "source": [
    "vogais = (\"a\", \"e\", \"i\", \"o\", \"u\")\n",
    "vogais[0]\n",
    "\n",
    "len(vogais)"
   ]
  },
  {
   "cell_type": "code",
   "execution_count": null,
   "metadata": {
    "id": "EgCStOKcqkRl"
   },
   "outputs": [],
   "source": [
    "vogais_list = [\"a\", \"e\", \"i\", \"o\", \"u\"]\n",
    "\n",
    "for i in enumerate(vogais_list):\n",
    "    print(i[1])"
   ]
  },
  {
   "cell_type": "code",
   "execution_count": null,
   "metadata": {
    "id": "jRZPMne7qkRl"
   },
   "outputs": [],
   "source": [
    "set_variaveis = {\"e\", \"i\", \"o\", \"a\"}\n",
    "set_variaveis"
   ]
  },
  {
   "cell_type": "code",
   "execution_count": null,
   "metadata": {
    "id": "_BTNYbbKqkRm"
   },
   "outputs": [],
   "source": [
    "dict_1 = {\"dia\": 10, \"mes\": 5}\n",
    "dict_1[\"mes\"]"
   ]
  },
  {
   "attachments": {},
   "cell_type": "markdown",
   "metadata": {
    "id": "pt-oDjt_qkRm"
   },
   "source": [
    "## 4.4.  Métodos para dicionários\n",
    "\n",
    "| Método | Descrição |\n",
    "| :-- | :-- |\n",
    "| .items() | Retorna os itens do dicionário |\n",
    "| .keys() | Retorna as chaves do dicionário |\n",
    "| .values() | Retorna as chaves do dicionário |\n",
    "| .pop(*key*) | Remove a chave especificada e retorna o valor do item  |\n",
    "| .copy() | Retorna uma cópia |\n",
    "| .clear() | Remove os itens |\n",
    "| .get(*key*) | Retornas a váriável em *key* |\n",
    "\n",
    "Disponível em: https://link.springer.com/chapter/10.1007%2F978-1-4471-6642-9_12"
   ]
  },
  {
   "cell_type": "code",
   "execution_count": null,
   "metadata": {
    "id": "ewjMIEdTqkRm"
   },
   "outputs": [],
   "source": [
    "alg_romanos = {\"I\": 1, \"II\": 2, \"III\": 3, \"IV\": 4}\n",
    "\n",
    "a = alg_romanos.pop(\"IV\")\n",
    "alg_romanos"
   ]
  },
  {
   "cell_type": "code",
   "execution_count": null,
   "metadata": {
    "id": "k12Zr-t1qkRm"
   },
   "outputs": [],
   "source": [
    "list(alg_romanos.items())"
   ]
  },
  {
   "cell_type": "code",
   "execution_count": null,
   "metadata": {
    "id": "9SvC7DizqkRm"
   },
   "outputs": [],
   "source": [
    "list(alg_romanos.keys())"
   ]
  },
  {
   "cell_type": "code",
   "execution_count": null,
   "metadata": {
    "id": "jLD5PZPDqkRm"
   },
   "outputs": [],
   "source": [
    "list(alg_romanos.values())"
   ]
  },
  {
   "cell_type": "code",
   "execution_count": null,
   "metadata": {
    "id": "kjkjXlSZqkRn"
   },
   "outputs": [],
   "source": [
    "a = alg_romanos.get(\"I\")  # similar a alg_romanos['I']\n",
    "a"
   ]
  },
  {
   "attachments": {},
   "cell_type": "markdown",
   "metadata": {
    "id": "KnkJFLcHqkRo"
   },
   "source": [
    "## 4.5. Exercício 1 -\n",
    "Dada a lista ['P','A','Y','A','T','A','H','O','N'], conte o número de variáveis 'A' e utilize um loop para remover todos os 'A' excedente."
   ]
  },
  {
   "cell_type": "code",
   "execution_count": null,
   "metadata": {
    "id": "uvvrjw5FqkRo"
   },
   "outputs": [],
   "source": [
    "l = [\"P\", \"A\", \"Y\", \"A\", \"T\", \"A\", \"H\", \"O\", \"N\"]\n",
    "c = l.count(\"A\")\n",
    "\n",
    "for i in enumerate(l):\n",
    "    if i[1] == \"A\":\n",
    "        l.pop(i[0])\n",
    "\n",
    "print(l)"
   ]
  },
  {
   "attachments": {},
   "cell_type": "markdown",
   "metadata": {
    "id": "pHZyJuOJqkRo"
   },
   "source": [
    "## 4.6. Exercício 2 - \n",
    "Utilizando somente uma linha de programação, crie uma lista que contenha os números ímpares de 1 a 51."
   ]
  },
  {
   "cell_type": "code",
   "execution_count": null,
   "metadata": {
    "id": "svMs4pmvqkRo"
   },
   "outputs": [],
   "source": [
    "l = [(i * 2 + 1) for i in range(26)]\n",
    "print(l)\n",
    "\n",
    "fx = lambda x: (x * 2 + 1)\n",
    "l2 = [fx(x) for x in range(26)]\n",
    "print(l2)"
   ]
  },
  {
   "attachments": {},
   "cell_type": "markdown",
   "metadata": {
    "id": "-f8hXqAuqkRo"
   },
   "source": [
    "## 4.7. Exercício 3 - \n",
    "Crie um dicionário que correlacione as seguintes listas:\n",
    "- valores = [1,2,3,4,5] \n",
    "- keys = ['a','b','c','d','e']\n",
    "\n",
    "Utilize um loop."
   ]
  },
  {
   "cell_type": "code",
   "execution_count": null,
   "metadata": {
    "id": "o-ReppjcqkRo"
   },
   "outputs": [],
   "source": [
    "valores = [1, 2, 3, 4, 5]\n",
    "keys = [\"a\", \"b\", \"c\", \"d\", \"e\"]\n",
    "dict = {}\n",
    "for i in range(5):\n",
    "    dict[keys[i]] = valores[i]\n",
    "\n",
    "print(dict)"
   ]
  },
  {
   "attachments": {},
   "cell_type": "markdown",
   "metadata": {
    "id": "Lf5FxHE2qkRq"
   },
   "source": [
    "## 4.8. Exercício 4 - \n",
    "A partir do dicionário criado no exercício anterior, recrie as listas keys e valores."
   ]
  },
  {
   "cell_type": "code",
   "execution_count": null,
   "metadata": {
    "id": "HQ737b44qkRq"
   },
   "outputs": [],
   "source": [
    "valores = []\n",
    "keys = []\n",
    "\n",
    "for k, v in enumerate(dict):\n",
    "    valores.append(k)\n",
    "    keys.append(v)\n",
    "\n",
    "print(valores)\n",
    "print(keys)\n",
    "\n",
    "valores = list(dict.values())\n",
    "keys = list(dict.keys())\n",
    "print(valores)\n",
    "print(keys)"
   ]
  },
  {
   "attachments": {},
   "cell_type": "markdown",
   "metadata": {
    "id": "fVlm_Ji0qkRr"
   },
   "source": [
    "## 4.9. Preparação para o desafio 1 (MATPLOTLIB)\n",
    "https://matplotlib.org/tutorials/introductory/usage.html#sphx-glr-tutorials-introductory-usage-py"
   ]
  },
  {
   "cell_type": "code",
   "execution_count": null,
   "metadata": {
    "id": "o5ZDyZudqkRr",
    "scrolled": true
   },
   "outputs": [],
   "source": [
    "import matplotlib.pyplot as plt\n",
    "\n",
    "%matplotlib inline\n",
    "# Informa que o plot é para acontece nessa célula do notebook\n",
    "\n",
    "x = [x for x in range(101)]\n",
    "y = [y**2 for y in x]\n",
    "\n",
    "plt.plot(x, y,) # cria o gráfico X x Y, usando os valores das listas\n",
    "plt.title('Gráfico 1') # Nome do gráfico\n",
    "plt.xlabel('abscissas') # Nome do eixo x\n",
    "plt.ylabel('ordenadas') # Nome do eixo y\n",
    "\n",
    "# O matplotlib aceita mais do que listas."
   ]
  },
  {
   "attachments": {},
   "cell_type": "markdown",
   "metadata": {
    "id": "4G-gv3_uqkRs"
   },
   "source": [
    "## 4.10. Desafio 1 - Equação da circunferência\n",
    "\n",
    "Dada a equação da cirunferência, faça o gráfico.\n",
    "$$\n",
    "{(x-a)}^{2} + {(y-b)}^{2} = {r}^{2}, \n",
    "r = 100, a = 100, b = 100\n",
    "$$"
   ]
  },
  {
   "cell_type": "code",
   "execution_count": null,
   "metadata": {
    "id": "U-RYZZoLqkRs"
   },
   "outputs": [],
   "source": [
    "from math import sqrt\n",
    "\n",
    "a = b = r = 100\n",
    "x = [i for i in range(2*r+1)]\n",
    "y = []\n",
    "\n",
    "yx = lambda x: sqrt((r**2)-(x-a)**2)  + b\n",
    "y.extend(list(map(yx, x))) \n",
    "# Mapea os valores de y a partir da função fx na região superior e transforma em uma lista\n",
    "# após transformar em lista, é adicionada a lista primária y.\n",
    "\n",
    "ym = lambda x: -sqrt((r**2)- (x-a)**2) + b\n",
    "y.extend(list(map(ym, x))) \n",
    "# Mapea os valores de y a partir da função fm na região superior e transforma em uma lista\n",
    "# após transformar em lista, é adicionada a lista primária y.\n",
    "\n",
    "x.extend(x)\n",
    "# Como a lista y possui o dobro do tamanho é preciso que a lista x tenha o mesmo tamanho\n",
    "# para isso adicionamos os mesmos valores a lista x\n",
    "\n",
    "import matplotlib.pyplot as plt\n",
    "%matplotlib inline\n",
    "# Informa que o plot é para acontece nessa célula do notebook\n",
    "\n",
    "plt.plot(x, y, 'o')"
   ]
  },
  {
   "attachments": {},
   "cell_type": "markdown",
   "metadata": {
    "id": "laeaTRuCqkRt"
   },
   "source": [
    "## 4.11. Preparação para o desafio 2 (LENDO ARQUIVOS)"
   ]
  },
  {
   "attachments": {},
   "cell_type": "markdown",
   "metadata": {
    "id": "xs-iXG3hqkRt"
   },
   "source": [
    "## 4.12. Desafio 2 - Dados do IBGE\n",
    "\n",
    "Importe a tabela dos 100 maiores municípios em relação ao PIB e responda as seguintes perguntas:\n",
    "- Quantos municípios estão no estado de São Paulo?\n",
    "- Qual a participação acumulada desses municípios?\n",
    "\n",
    "Dicas e informações:\n",
    "- Fonte dos dados: https://www.ibge.gov.br/estatisticas/downloads-estatisticas.html\n",
    "- Arquivo para importar: ./IBGE-PIB_Municipios_2017/PIB_100_maiores_cidades_2017.txt\n",
    "- Para ler arquivos acesse o tópico 7.2 do link: https://docs.python.org/3/tutorial/inputoutput.html\n"
   ]
  },
  {
   "cell_type": "code",
   "execution_count": null,
   "metadata": {
    "id": "zOpXnmGUqkRt"
   },
   "outputs": [],
   "source": [
    "arquivo = \"Python-para-Engenheiros-e-Cientistas-main/Notebooks/arquivos_auxiliares/PIB_100_maiores_cidades_2017.txt\"\n",
    "\n",
    "with open(arquivo) as f:\n",
    "    f_data = f.readlines()\n",
    "    f.closed\n",
    "\n",
    "lista_colunas = f_data[0].split(\",\")\n",
    "lista_colunas"
   ]
  },
  {
   "cell_type": "code",
   "execution_count": null,
   "metadata": {
    "id": "EBXtsjmAqkRu"
   },
   "outputs": [],
   "source": [
    "arquivo = \"Python-para-Engenheiros-e-Cientistas-main/Notebooks/arquivos_auxiliares/PIB_100_maiores_cidades_2017.txt\"\n",
    "\n",
    "with open(arquivo) as f:\n",
    "    f_data = f.readlines()\n",
    "    f.closed\n",
    "\n",
    "linhas = []\n",
    "for i in range(len(f_data)):\n",
    "    linhas.append(f_data[i].split(\",\"))\n",
    "colunas_dict = {}\n",
    "\n",
    "for key in linhas[\n",
    "    0\n",
    "]:  # linhas[0] é a linha das colunas, assim, percorrer os itens da coluna\n",
    "    colunas_dict[key] = []\n",
    "\n",
    "    coluna_n = linhas[0].index(key)\n",
    "\n",
    "    for i in range(1, len(linhas)):\n",
    "        colunas_dict[key].append(linhas[i][coluna_n])\n",
    "\n",
    "Lista_estados = colunas_dict[\"Estado\"]\n",
    "numero_municipios_SP = Lista_estados.count(\"SP\")\n",
    "\n",
    "total = 0\n",
    "for i in range(len(colunas_dict[\"Estado\"])):\n",
    "    if colunas_dict[\"Estado\"][i] == \"SP\":\n",
    "        total += float(colunas_dict[\"Participação (%)\"][i])\n",
    "\n",
    "print(numero_municipios_SP)\n",
    "print(total)"
   ]
  },
  {
   "attachments": {},
   "cell_type": "markdown",
   "metadata": {
    "id": "Ch76TxnRqkRu"
   },
   "source": [
    "## 4.13. Desafio 2 - Dados do IBGE (usando PANDAS)\n",
    "https://pandas.pydata.org/pandas-docs/stable/reference/api/pandas.DataFrame.html\n",
    "\n",
    "\n",
    "Você pode tentar fazer dessa forma depois de assistir a Seção 9."
   ]
  },
  {
   "cell_type": "code",
   "execution_count": null,
   "metadata": {
    "id": "U0lVbbQUqkRw"
   },
   "outputs": [],
   "source": [
    "dict_data = {\"coluna_a\": [1, 2, 3], \"coluna_2\": [4, 5, 6]}\n",
    "\n",
    "import pandas as pd\n",
    "\n",
    "df_data = pd.DataFrame(dict_data)\n",
    "\n",
    "df_data.head(2)  # O método head serve para simplificar quantas linhas serão exibidas"
   ]
  },
  {
   "attachments": {},
   "cell_type": "markdown",
   "metadata": {
    "id": "lsnCDaEaqkRy"
   },
   "source": [
    "# 5. Funções e módulos\n",
    "## 5.1. Funções\n",
    "\n",
    "### Definindo e chamando funções\n",
    "**def** minha_funcao(argumentos)**:**\n",
    "    \n",
    "        funcao_aqui\n",
    "    minha_funcao(argumentos) ##para chamar a função\n",
    "\n",
    "\n",
    "### Declaração *return*\n",
    "É usada quando se deseja retornar uma variável específica.\n",
    "\n",
    "**def** minha_funcao(argumentos)**:**\n",
    "\n",
    "    resultado = operações\n",
    "        \n",
    "    **return** resultado\n"
   ]
  },
  {
   "cell_type": "code",
   "execution_count": null,
   "metadata": {
    "id": "kzGLoQHlqkRz"
   },
   "outputs": [],
   "source": [
    "def minha_funcao():\n",
    "    print(\"meu nome é \")\n",
    "    print(\"Python\")\n",
    "\n",
    "\n",
    "meu_nome = \"Anderson\"\n",
    "\n",
    "minha_funcao()"
   ]
  },
  {
   "cell_type": "code",
   "execution_count": null,
   "metadata": {
    "id": "8ZJEgQbHqkRz"
   },
   "outputs": [],
   "source": [
    "def soma_quadrados(a, b):\n",
    "    resultado = a**2 + b**2\n",
    "    return resultado\n",
    "\n",
    "\n",
    "n_1 = 3\n",
    "n_2 = 2\n",
    "\n",
    "a = soma_quadrados(n_1, n_2)\n",
    "print(a)"
   ]
  },
  {
   "attachments": {},
   "cell_type": "markdown",
   "metadata": {
    "id": "Ut8KETX-qkRz"
   },
   "source": [
    "## 5.2 Módulos\n",
    "\n",
    "### O que é\n",
    "Módulos são arquivos Python (extensão *.py*) que contém conjuntos de funções, objetos, variáveis, entre outros. Essas funcionalidades podem ser chamadas das seguintes maneiras:\n",
    "\n",
    "**import** Nome_do_modulo\n",
    "\n",
    "**import** Nome_do_modulo **as** abreviação\n",
    "\n",
    "**from** Nome_do_modulo **import** algum_objeto\n",
    "\n",
    "### Referência\n",
    "Lista de módulos do Python: https://docs.python.org/3.8/py-modindex.html"
   ]
  },
  {
   "cell_type": "code",
   "execution_count": null,
   "metadata": {
    "id": "_7QNfHZWqkR0"
   },
   "outputs": [],
   "source": [
    "import math\n",
    "\n",
    "a = math.cos(0)\n",
    "type(a)"
   ]
  },
  {
   "cell_type": "code",
   "execution_count": null,
   "metadata": {
    "id": "oEqpndzbqkR0"
   },
   "outputs": [],
   "source": [
    "import math as mt\n",
    "\n",
    "y = mt.sin(0)\n",
    "\n",
    "y"
   ]
  },
  {
   "cell_type": "code",
   "execution_count": null,
   "metadata": {
    "id": "d_nY3FFJqkR0"
   },
   "outputs": [],
   "source": [
    "from math import pi, sin, cos\n",
    "\n",
    "x = sin(pi / 2)\n",
    "x"
   ]
  },
  {
   "attachments": {},
   "cell_type": "markdown",
   "metadata": {
    "id": "EACpWW4OqkR0"
   },
   "source": [
    "## 5.3 Criando um módulo\n",
    "Podemos criar um arquivo *.py* utilizando outra IDE e depois importá-la. "
   ]
  },
  {
   "cell_type": "code",
   "execution_count": null,
   "metadata": {
    "id": "OEI42oYHqkR1"
   },
   "outputs": [],
   "source": [
    "import arquivos_auxiliares.peso as peso\n",
    "\n",
    "m = 50\n",
    "\n",
    "p_t = peso.peso_terra(m)\n",
    "p_t"
   ]
  },
  {
   "cell_type": "code",
   "execution_count": null,
   "metadata": {
    "id": "i4AokXv4qkR1"
   },
   "outputs": [],
   "source": [
    "from peso import g_terra, g_lua, peso_terra\n",
    "\n",
    "g_terra\n",
    "\n",
    "peso_terra(100)"
   ]
  },
  {
   "attachments": {},
   "cell_type": "markdown",
   "metadata": {
    "id": "DzhafvMDqkR1"
   },
   "source": [
    "## 5.4. Exercício 1 - \n",
    "Crie uma função que receba uma frase e retorne quantas palavras tem a frase. Dica: Utilize o método split()."
   ]
  },
  {
   "cell_type": "code",
   "execution_count": null,
   "metadata": {
    "id": "zRZW1_kBqkR1"
   },
   "outputs": [],
   "source": [
    "def contador(s):\n",
    "    num = 0\n",
    "    simbolos = [\"1\", \"2\", \"3\", \"4\", \"5\", \"6\", \"7\", \"8\", \"9\", \".\", \"/\", \"*\", \" \"]\n",
    "    for i in range(len(s)):\n",
    "        if s[i] not in simbolos:\n",
    "            num += 1\n",
    "    return f\"quantidade de letras: {num}\"\n",
    "\n",
    "\n",
    "contador(\"abcd* \")"
   ]
  },
  {
   "attachments": {},
   "cell_type": "markdown",
   "metadata": {
    "id": "NzS8wTy3qkR1"
   },
   "source": [
    "## 5.5. Exercício 2 -\n",
    "Crie uma função que lê um arquivo de extensão .txt e retorne quantas palavras tem esse arquivo. Dica: utilize o método readlines()\n"
   ]
  },
  {
   "cell_type": "code",
   "execution_count": null,
   "metadata": {
    "id": "y0NCFBi1qkR2"
   },
   "outputs": [],
   "source": [
    "arquivo = \"arquivos_auxiliares/Arquivo_sujo.txt\"\n",
    "\n",
    "\n",
    "def contador_de_palavras_arq():\n",
    "    with open(arquivo) as a:\n",
    "        string = a.read()  # retorna todo o texto em uma única string\n",
    "        a.close\n",
    "\n",
    "    lista = string.replace(\"\\n\", \"\")\n",
    "    return contador(lista)"
   ]
  },
  {
   "attachments": {},
   "cell_type": "markdown",
   "metadata": {
    "id": "X5gC1TZgqkR3"
   },
   "source": [
    "## 5.6. Exercício 3 -\n",
    "Crie um módulo que receba o peso e a altura e calcula o IMC de uma pessoa.\n",
    "$$ IMC = \\frac{peso}{Altura^2}$$"
   ]
  },
  {
   "cell_type": "code",
   "execution_count": null,
   "metadata": {
    "id": "TcrJqkwQqkR3"
   },
   "outputs": [],
   "source": [
    "import arquivos_auxiliares.imc_calculo as imc\n",
    "\n",
    "print(imc.imc_calc(80, 1.5))"
   ]
  },
  {
   "attachments": {},
   "cell_type": "markdown",
   "metadata": {
    "id": "mTD7Uiq9qkR3"
   },
   "source": [
    "## 5.7. Preparação para o desafio 1 (matplotlib 3d)"
   ]
  },
  {
   "cell_type": "code",
   "execution_count": null,
   "metadata": {
    "id": "tuo5X53mqkR3"
   },
   "outputs": [],
   "source": [
    "import matplotlib.pyplot as plt\n",
    "from mpl_toolkits.mplot3d import Axes3D\n",
    "\n",
    "%matplotlib notebook \n",
    "# usado em notebooks\n",
    "\n",
    "x = [1, 2, 3, 4, 5]\n",
    "y = [1, 2, 3, 4, 5]\n",
    "z = [1, 2, 3, 4, 5]\n",
    "\n",
    "figura = plt.figure()\n",
    "ax = figura.add_subplot(111, projection='3d')\n",
    "\n",
    "ax.scatter(x, y, z)"
   ]
  },
  {
   "attachments": {},
   "cell_type": "markdown",
   "metadata": {
    "id": "qPBCF28YqkR4"
   },
   "source": [
    "## 5.8. Desafio 1 - Plotando coordenadas\n",
    "Crie um módulo que leia um arquivo de pontos 3D e faça um gráfico desses pontos.\n",
    "\n",
    "Arquivo de pontos: PONTOS_ESFERA.txt\n",
    "\n",
    "Fonte para fazer o gráfico: https://matplotlib.org/mpl_toolkits/mplot3d/tutorial.html"
   ]
  },
  {
   "cell_type": "code",
   "execution_count": null,
   "metadata": {
    "id": "BrePR7tFqkR5"
   },
   "outputs": [],
   "source": [
    "arquivo = 'arquivos_auxiliares/PONTOS_ESFERA.txt'\n",
    "\n",
    "def coordenadas_plot(arquivo):\n",
    "    with open(arquivo) as a:\n",
    "        a_data = a.readlines()\n",
    "        a.close\n",
    "\n",
    "    linhas = []\n",
    "\n",
    "    for i in range(len(a_data)):\n",
    "        linhas.append(a_data[i].split(','))\n",
    "\n",
    "    coordenadas = {'x':[],'y':[],'z':[]}\n",
    "\n",
    "    for i in range(len(linhas)):\n",
    "        x = float(linhas[i][3])\n",
    "        y = float(linhas[i][4])\n",
    "        z = float(linhas[i][5])\n",
    "\n",
    "        coordenadas['x'].append(x)\n",
    "        coordenadas['y'].append(y)\n",
    "        coordenadas['z'].append(z)\n",
    "    \n",
    "    return coordenadas\n",
    "\n",
    "def plot_3d(coord_dict):\n",
    "    import matplotlib.pyplot as plt\n",
    "    from mpl_toolkits.mplot3d import Axes3D\n",
    "    %matplotlib notebook \n",
    "    \n",
    "    fig = plt.figure()\n",
    "    ax = fig.add_subplot(111, projection='3d')\n",
    "    \n",
    "    x = coord_dict['x']\n",
    "    y = coord_dict['y']\n",
    "    z = coord_dict['z']\n",
    "    \n",
    "    ax.scatter(x,y,z)\n",
    "    \n",
    "coord_dict_ex = coordenadas_plot(arquivo)\n",
    "plot_3d(coord_dict_ex)"
   ]
  },
  {
   "attachments": {},
   "cell_type": "markdown",
   "metadata": {
    "id": "KhkuArEbqkR6"
   },
   "source": [
    "# 6. Complementar\n",
    "Esta seção preenche algumas lacunas que podem ter sido deixadas. Este curso não é voltado para orientação a objetos, mas é importante que vocês tenham uma noção de como funciona.\n",
    "\n"
   ]
  },
  {
   "attachments": {},
   "cell_type": "markdown",
   "metadata": {
    "id": "UGQRktW9qkR7"
   },
   "source": [
    "## 6.1. Noção sobre objetos\n",
    "Sintaxe:\n",
    "\n",
    "**class** *Nome_da_classe*: #cria um novo objeto\n",
    "    \n",
    "    **def \\__init\\__ (self,argumentos):** #Magic method que cria as propriedades\n",
    "\n",
    "https://docs.python.org/3/tutorial/classes.html\n",
    "\n",
    "\n"
   ]
  },
  {
   "cell_type": "code",
   "execution_count": null,
   "metadata": {
    "id": "7WsFpZ-lqkR7"
   },
   "outputs": [],
   "source": [
    "class carro:\n",
    "    def __init__(self, cor, marca, ano):\n",
    "        self.cor = cor\n",
    "        self.marca = marca\n",
    "        self.ano = ano\n",
    "        self.donos = []\n",
    "\n",
    "    def add_dono(self, novo_dono):\n",
    "        self.donos.append(novo_dono)\n",
    "\n",
    "\n",
    "meu_carro = carro(\"cinza\", \"vw\", 2000)\n",
    "\n",
    "meu_carro.marca\n",
    "meu_carro.add_dono(\"Anderson\")\n",
    "meu_carro.donos\n",
    "\n",
    "# Métodos são funções especifícas de um objeto, usamos chamando o método após o\n",
    "# ponto do objeto\n",
    "\n",
    "# Já funções usamos diretamente repassando argumentos."
   ]
  },
  {
   "cell_type": "code",
   "execution_count": null,
   "metadata": {
    "id": "hYRSQ-p0qkR7"
   },
   "outputs": [],
   "source": [
    "# Exemplo do SoloLearn\n",
    "\n",
    "\n",
    "class vetor_2d:\n",
    "    def __init__(self, x, y):\n",
    "        self.x = x\n",
    "        self.y = y\n",
    "\n",
    "    def norma(vet):\n",
    "        return (vet.x**2 + vet.y**2) ** (1 / 2)\n",
    "\n",
    "    def __add__(vet1, vet2):\n",
    "        return vetor_2d(vet1.x + vet2.x, vet1.y + vet2.y)\n",
    "\n",
    "\n",
    "v_1 = vetor_2d(3, 3)\n",
    "v_1.norma()\n",
    "\n",
    "v_2 = vetor_2d(4, 5)\n",
    "\n",
    "v_3 = v_1 + v_2\n",
    "v_3.norma()"
   ]
  },
  {
   "attachments": {},
   "cell_type": "markdown",
   "metadata": {
    "id": "dp67lTqCqkR7"
   },
   "source": [
    "## 6.2. Executando módulos como scripts\n",
    "Estrutura:\n",
    "\n",
    "**if \\__name\\__ == \"\\__main\\__\":**\n",
    "      \n",
    "      *Código*\n",
    " \n",
    "Para diferenciar quando rodamos o módulo como scripts ou quando ele é chamado por outro código."
   ]
  },
  {
   "cell_type": "code",
   "execution_count": null,
   "metadata": {
    "id": "7m8HZcVEuF_w"
   },
   "outputs": [],
   "source": [
    "def funcao1():\n",
    "    print(\"função 1\")\n",
    "\n",
    "\n",
    "def funcao2():\n",
    "    print(\"função 2\")\n",
    "\n",
    "\n",
    "if __name__ == \"__main__\":\n",
    "    funcao1()\n",
    "    funcao2()\n",
    "    print(\"Este código está sendo executado como script\")\n",
    "else:\n",
    "    print(\n",
    "        \"Este código está sendo executado como módulo\"\n",
    "    )  # Sendo executado em outro arquivo"
   ]
  },
  {
   "attachments": {},
   "cell_type": "markdown",
   "metadata": {
    "id": "P4cAdbLhqkR8"
   },
   "source": [
    "## 6.3. Manipulando strings\n",
    "**Alguns métodos de manipulação de strings:**\n",
    "\n",
    "\n",
    "| Método | Descrição |\n",
    "| :-- | :-- |\n",
    "| upper() | retorna letras maiúsculas |\n",
    "| lower() | retorna letras minúsculas |\n",
    "| replace(arg_ant,arg_nov) | substiuí arg_ant pelo arg_nov  |\n",
    "| find(arg)| retorna a posição da primeira ocorrencia |\n",
    "| rfind() | retorna a posição da última ocorrência |\n",
    "\n",
    "\n",
    "**Atenção:** Esses métodos não modificam a string original se ela estiver armazenada em uma variável.\n",
    "\n",
    "fonte: https://panda.ime.usp.br/pensepy/static/pensepy/08-Strings/strings.html\n"
   ]
  },
  {
   "cell_type": "code",
   "execution_count": null,
   "metadata": {
    "id": "E13bbh_KqkR8"
   },
   "outputs": [],
   "source": [
    "string_1 = \"python\"\n",
    "\n",
    "# Método é aplicado diretamente ao objeto\n",
    "string_2 = string_1.upper()\n",
    "\n",
    "string_2"
   ]
  },
  {
   "cell_type": "code",
   "execution_count": null,
   "metadata": {
    "id": "H1LuenpiqkR8"
   },
   "outputs": [],
   "source": [
    "string_3 = \"asdfasdfasdfasdfasdf\"\n",
    "\n",
    "string_3.find(\"s\")"
   ]
  },
  {
   "cell_type": "code",
   "execution_count": null,
   "metadata": {
    "id": "g-o_U0EAqkR9"
   },
   "outputs": [],
   "source": [
    "string_4 = \"pyathoan\"\n",
    "string_5 = string_4.replace(\"a\", \"\")\n",
    "string_5"
   ]
  },
  {
   "cell_type": "code",
   "execution_count": null,
   "metadata": {
    "id": "j9KRkVpgqkR9"
   },
   "outputs": [],
   "source": [
    "string_6 = string_4.split(\"a\")\n",
    "string_6"
   ]
  },
  {
   "attachments": {},
   "cell_type": "markdown",
   "metadata": {
    "id": "8gaBH9iRqkR9"
   },
   "source": [
    "## 6.4. Escrevendo arquivos\n",
    "- **Estrutura para ler:**\n",
    "\n",
    "**with open(**caminho_string**) as f:**\n",
    "    \n",
    "       variavel = **f.read()**\n",
    "    \n",
    "       **f.close**\n",
    "\n",
    "-  **Estrutura para escrever:**\n",
    "\n",
    "**with open(**nome_novo_arquivo**) as f:**\n",
    "    \n",
    "       f.write('nova_string','w')\n",
    "    \n",
    "       **f.close**\n"
   ]
  },
  {
   "cell_type": "code",
   "execution_count": null,
   "metadata": {
    "id": "gF0w4PbWw2q6"
   },
   "outputs": [],
   "source": [
    "old_file = \"txt\"\n",
    "\n",
    "with open(old_file) as f:\n",
    "    linhas = f.read()\n",
    "    f.close\n",
    "\n",
    "linhas_new = linhas.replace(\"p\", \"\").replace(\" \", \"\")\n",
    "linhas_new\n",
    "\n",
    "new_file = \"arquivo_limpo.txt\"\n",
    "\n",
    "with open(new_file, \"w\") as f:\n",
    "    f.write(linhas_new)\n",
    "    f.close"
   ]
  },
  {
   "attachments": {},
   "cell_type": "markdown",
   "metadata": {
    "id": "ne4vjTyn4g2a"
   },
   "source": [
    "# 7. Sympy\n",
    "Arquivo ipynb respectivo."
   ]
  },
  {
   "attachments": {},
   "cell_type": "markdown",
   "metadata": {
    "id": "z-rd2RYC4hCm"
   },
   "source": [
    "# 8. Numpy\n",
    "Arquivo ipynb respectivo."
   ]
  },
  {
   "attachments": {},
   "cell_type": "markdown",
   "metadata": {
    "id": "HkA6B2sl4hMO"
   },
   "source": [
    "# 9. Pandas\n",
    "Arquivo ipynb respectivo."
   ]
  },
  {
   "attachments": {},
   "cell_type": "markdown",
   "metadata": {
    "id": "JDkwhBGA4hZv"
   },
   "source": [
    "# 10. Matplotlib\n",
    "Arquivo ipynb respectivo."
   ]
  },
  {
   "attachments": {},
   "cell_type": "markdown",
   "metadata": {
    "id": "DDWuy71Z492Y"
   },
   "source": [
    "# 11. Scipy\n",
    "Arquivo ipynb respectivo."
   ]
  }
 ],
 "metadata": {
  "colab": {
   "provenance": []
  },
  "kernelspec": {
   "display_name": "Python 3 (ipykernel)",
   "language": "python",
   "name": "python3"
  },
  "language_info": {
   "codemirror_mode": {
    "name": "ipython",
    "version": 3
   },
   "file_extension": ".py",
   "mimetype": "text/x-python",
   "name": "python",
   "nbconvert_exporter": "python",
   "pygments_lexer": "ipython3",
   "version": "3.9.12"
  },
  "vscode": {
   "interpreter": {
    "hash": "365a74c1ee61031f7d9e4e5339090f4262812d0ad0eb98ddb91c7573ed27b2d9"
   }
  }
 },
 "nbformat": 4,
 "nbformat_minor": 1
}
